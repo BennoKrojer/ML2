{
  "nbformat": 4,
  "nbformat_minor": 0,
  "metadata": {
    "colab": {
      "name": "Part1.ipynb",
      "provenance": [],
      "collapsed_sections": [],
      "include_colab_link": true
    },
    "kernelspec": {
      "name": "python3",
      "display_name": "Python 3"
    },
    "language_info": {
      "name": "python"
    }
  },
  "cells": [
    {
      "cell_type": "markdown",
      "metadata": {
        "id": "view-in-github",
        "colab_type": "text"
      },
      "source": [
        "<a href=\"https://colab.research.google.com/github/BennoKrojer/ML2/blob/main/Part1.ipynb\" target=\"_parent\"><img src=\"https://colab.research.google.com/assets/colab-badge.svg\" alt=\"Open In Colab\"/></a>"
      ]
    },
    {
      "cell_type": "markdown",
      "metadata": {
        "id": "iWSYsw9UmKGh"
      },
      "source": [
        "# COMP 551 - Mini Project 2\n"
      ]
    },
    {
      "cell_type": "code",
      "metadata": {
        "id": "h_FgLmtnt-xg"
      },
      "source": [
        "from numpy import genfromtxt\n",
        "import numpy as np\n",
        "import matplotlib.pyplot as plt"
      ],
      "execution_count": null,
      "outputs": []
    },
    {
      "cell_type": "code",
      "metadata": {
        "id": "isoGhDjNMvxu"
      },
      "source": [
        "%%capture\n",
        "!wget https://raw.githubusercontent.com/BennoKrojer/ML2/main/diabetes_data/diabetes_train.csv\n",
        "!wget https://raw.githubusercontent.com/BennoKrojer/ML2/main/diabetes_data/diabetes_test.csv\n",
        "!wget https://raw.githubusercontent.com/BennoKrojer/ML2/main/diabetes_data/diabetes_val.csv"
      ],
      "execution_count": null,
      "outputs": []
    },
    {
      "cell_type": "code",
      "metadata": {
        "colab": {
          "base_uri": "https://localhost:8080/"
        },
        "id": "oBfyt74kqH9H",
        "outputId": "7cac6879-0d6f-4c46-8b4d-dbfbddfe6cf8"
      },
      "source": [
        "train = genfromtxt('diabetes_train.csv', delimiter=',', skip_header=1)\n",
        "test = genfromtxt('diabetes_test.csv', delimiter=',', skip_header=1)\n",
        "val = genfromtxt('diabetes_val.csv', delimiter=',', skip_header=1)\n",
        "train_x, train_y = train[:,:-1], train[:,-1]\n",
        "test_x, test_y = test[:,:-1], test[:,-1]\n",
        "val_x, val_y = val[:,:-1], val[:,-1]\n",
        "print(train_x.shape)"
      ],
      "execution_count": null,
      "outputs": [
        {
          "output_type": "stream",
          "name": "stdout",
          "text": [
            "(600, 8)\n"
          ]
        }
      ]
    },
    {
      "cell_type": "markdown",
      "metadata": {
        "id": "oZYRn88auNYT"
      },
      "source": [
        "## Logistic Regression: Fully Batched"
      ]
    },
    {
      "cell_type": "code",
      "metadata": {
        "id": "X756pGNBlYyH"
      },
      "source": [
        "logistic = lambda z: 1./ (1 + np.exp(-z))       #logistic function\n",
        "\n",
        "def gradient(self, x, y):\n",
        "    N,D = x.shape\n",
        "    yh = logistic(np.dot(x, self.w))    # predictions  size N\n",
        "    grad = np.dot(x.T, yh - y)/N        # divide by N because cost is mean over N points\n",
        "    return grad                         # size D"
      ],
      "execution_count": null,
      "outputs": []
    },
    {
      "cell_type": "code",
      "metadata": {
        "id": "yv3xohIVuPz6"
      },
      "source": [
        "class LogisticRegression:\n",
        "\n",
        "    def __init__(self, add_bias=True, learning_rate=.1, epsilon=1e-4, max_iters=1e5, verbose=False, eval_steps=100):\n",
        "        self.add_bias = add_bias\n",
        "        self.learning_rate = learning_rate\n",
        "        self.epsilon = epsilon  # to get the tolerance for the norm of gradients\n",
        "        self.max_iters = max_iters  # maximum number of iteration of gradient descent\n",
        "        self.verbose = verbose\n",
        "        self.eval_steps = eval_steps\n",
        "\n",
        "    def fit(self, x, y, val_x, val_y):\n",
        "        if x.ndim == 1:\n",
        "            x = x[:, None]\n",
        "        if self.add_bias:\n",
        "            N = x.shape[0]\n",
        "            x = np.column_stack([x, np.ones(N)])\n",
        "        N, D = x.shape\n",
        "        self.w = np.zeros(D)\n",
        "        g = np.inf\n",
        "        t = 0\n",
        "        # the code snippet below is for gradient descent\n",
        "        steps = []\n",
        "        train_accs = []\n",
        "        val_accs = []\n",
        "        best_val_acc = 0\n",
        "        best_step = 0\n",
        "        while np.linalg.norm(g) > self.epsilon and t < self.max_iters:\n",
        "            g = self.gradient(x, y)\n",
        "            self.w = self.w - self.learning_rate * g\n",
        "            t += 1\n",
        "            if t % self.eval_steps == 0:\n",
        "                yh = self.predict(x)\n",
        "                yh = yh > 0.5\n",
        "                preds = y == yh\n",
        "                train_acc = sum(preds) / len(preds)\n",
        "\n",
        "                val_yh = self.predict(val_x, add_bias=True)\n",
        "                val_yh = val_yh > 0.5\n",
        "                val_preds = val_y == val_yh\n",
        "                val_acc = sum(val_preds) / len(val_preds)\n",
        "\n",
        "                steps.append(t)\n",
        "                train_accs.append(train_acc)\n",
        "                val_accs.append(val_acc)\n",
        "                if val_acc > best_val_acc:\n",
        "                    best_val_acc = val_acc\n",
        "                    best_step = t\n",
        "\n",
        "        if self.verbose:\n",
        "            print(f'terminated after {t} iterations, with norm of the gradient equal to {np.linalg.norm(g)}')\n",
        "            print(f'the weight found: {self.w}')\n",
        "        return self, steps, train_accs, val_accs, best_val_acc, best_step\n",
        "\n",
        "    def predict(self, x, add_bias=False):\n",
        "        if x.ndim == 1:\n",
        "            x = x[:, None]\n",
        "        Nt = x.shape[0]\n",
        "        if add_bias:\n",
        "            x = np.column_stack([x, np.ones(Nt)])\n",
        "        yh = logistic(np.dot(x, self.w))  # predict output\n",
        "        return yh\n",
        "\n",
        "\n",
        "\n",
        "LogisticRegression.gradient = gradient             #initialize the gradient method of the LogisticRegression class with gradient function"
      ],
      "execution_count": null,
      "outputs": []
    },
    {
      "cell_type": "code",
      "metadata": {
        "colab": {
          "base_uri": "https://localhost:8080/",
          "height": 332
        },
        "id": "Jje4DBpzwxi2",
        "outputId": "ba6b07bc-2167-42df-fa34-e92f4ccb47c2"
      },
      "source": [
        "for lr in [0.0004, 0.0002, 0.0001, 0.00005]:\n",
        "    logres = LogisticRegression(max_iters=2e6, learning_rate=lr)\n",
        "    model, steps, train_accs, val_accs, best_val_acc, best_step = logres.fit(train_x, train_y, val_x, val_y)\n",
        "    plt.plot(steps, train_accs, 'r', label='training accuracy')\n",
        "    plt.plot(steps, val_accs, 'b', label='validation accuracy')\n",
        "    plt.xlabel('iterations')\n",
        "    plt.ylabel('accuracy')\n",
        "    plt.legend(loc='lower right', shadow=True, fontsize='medium')\n",
        "    plt.show()\n",
        "    print(lr)\n",
        "    print(best_val_acc)\n",
        "    print(best_step)"
      ],
      "execution_count": null,
      "outputs": [
        {
          "output_type": "display_data",
          "data": {
            "image/png": "[encoded data removed]",
            "text/plain": [
              "<Figure size 432x288 with 1 Axes>"
            ]
          },
          "metadata": {
            "needs_background": "light"
          }
        },
        {
          "output_type": "stream",
          "name": "stdout",
          "text": [
            "0.0002\n",
            "0.77\n",
            "709300\n"
          ]
        }
      ]
    },
    {
      "cell_type": "markdown",
      "metadata": {
        "id": "6aCDx2jtiFgB"
      },
      "source": [
        "## Mini-Batch Logistic Regression"
      ]
    },
    {
      "cell_type": "code",
      "metadata": {
        "id": "whHwKjokw1Eg"
      },
      "source": [
        "class MiniBatchLogisticRegression:\n",
        "\n",
        "    def __init__(self, add_bias=True, learning_rate=.1, epsilon=1e-4, batch_size=8, max_iters=1e5, verbose=False,\n",
        "                 eval_steps=100, shuffle=False):\n",
        "        self.add_bias = add_bias\n",
        "        self.learning_rate = learning_rate\n",
        "        self.epsilon = epsilon  # to get the tolerance for the norm of gradients\n",
        "        self.max_iters = max_iters  # maximum number of iteration of gradient descent\n",
        "        self.verbose = verbose\n",
        "        self.eval_steps = eval_steps\n",
        "        self.batch_size = batch_size\n",
        "        self.shuffle = shuffle\n",
        "\n",
        "    def fit(self, x, y, val_x, val_y):\n",
        "        if x.ndim == 1:\n",
        "            x = x[:, None]\n",
        "        if self.add_bias:\n",
        "            N = x.shape[0]\n",
        "            x = np.column_stack([x, np.ones(N)])\n",
        "        N, D = x.shape\n",
        "        self.w = np.zeros(D)\n",
        "        g = np.inf\n",
        "        t = 0\n",
        "        # the code snippet below is for gradient descent\n",
        "        steps = []\n",
        "        train_accs = []\n",
        "        val_accs = []\n",
        "        best_val_acc = 0\n",
        "        best_step = 0\n",
        "        while np.linalg.norm(g) > self.epsilon and t < self.max_iters:\n",
        "            if self.shuffle:\n",
        "                p = np.random.permutation(int(y.shape[0]))\n",
        "                x = x[p]\n",
        "                y = y[p]\n",
        "            for i in range(0, int(y.shape[0]), self.batch_size):\n",
        "                batch_x = x[i:i+self.batch_size]\n",
        "                batch_y = y[i:i+self.batch_size]\n",
        "                g = self.gradient(batch_x, batch_y)\n",
        "                self.w = self.w - self.learning_rate * g\n",
        "            t += 1\n",
        "            if t % self.eval_steps == 0:\n",
        "                print(t)\n",
        "                yh = self.predict(x)\n",
        "                yh = yh > 0.5\n",
        "                preds = y == yh\n",
        "                train_acc = sum(preds) / len(preds)\n",
        "\n",
        "                val_yh = self.predict(val_x, add_bias=True)\n",
        "                val_yh = val_yh > 0.5\n",
        "                val_preds = val_y == val_yh\n",
        "                val_acc = sum(val_preds) / len(val_preds)\n",
        "\n",
        "                steps.append(t)\n",
        "                train_accs.append(train_acc)\n",
        "                val_accs.append(val_acc)\n",
        "                if val_acc > best_val_acc:\n",
        "                    best_val_acc = val_acc\n",
        "                    best_step = t\n",
        "\n",
        "        if self.verbose:\n",
        "            print(f'terminated after {t} iterations, with norm of the gradient equal to {np.linalg.norm(g)}')\n",
        "            print(f'the weight found: {self.w}')\n",
        "        return self, steps, train_accs, val_accs, best_val_acc, best_step\n",
        "\n",
        "    def predict(self, x, add_bias=False):\n",
        "        if x.ndim == 1:\n",
        "            x = x[:, None]\n",
        "        Nt = x.shape[0]\n",
        "        if add_bias:\n",
        "            x = np.column_stack([x, np.ones(Nt)])\n",
        "        yh = logistic(np.dot(x, self.w))  # predict output\n",
        "        return yh\n"
      ],
      "execution_count": null,
      "outputs": []
    },
    {
      "cell_type": "code",
      "metadata": {
        "id": "TFrK85MxiEKi"
      },
      "source": [
        "MiniBatchLogisticRegression.gradient = gradient  # initialize the gradient method of the LogisticRegression class with gradient function\n",
        "\n",
        "taccs = {}\n",
        "vaccs = {}\n",
        "for size in [8, 16, 32, 64, 600]:\n",
        "    logres = MiniBatchLogisticRegression(max_iters=1e6, learning_rate=0.0002, batch_size=size)\n",
        "    model, steps, train_accs, val_accs, best_val_acc, best_step = logres.fit(train_x, train_y, val_x, val_y)\n",
        "    taccs[size] = train_accs\n",
        "    vaccs[size] = val_accs\n",
        "\n",
        "plt.xlabel('iterations')\n",
        "plt.ylabel('accuracy')\n",
        "for size, vals in taccs.items():\n",
        "    plt.plot(steps, vals, label=f'batch size {size}')\n",
        "    plt.legend(loc='lower right', shadow=True, fontsize='medium')\n",
        "    plt.show()\n",
        "\n",
        "plt.xlabel('iterations')\n",
        "plt.ylabel('accuracy')\n",
        "for size, vals in vaccs.items():\n",
        "    plt.plot(steps, vals, label=f'batch size {size}')\n",
        "    plt.legend(loc='lower right', shadow=True, fontsize='medium')\n",
        "    plt.show()\n"
      ],
      "execution_count": null,
      "outputs": []
    },
    {
      "cell_type": "markdown",
      "metadata": {
        "id": "C6I-LmN3vCUu"
      },
      "source": [
        "## Momentum Fully Batched Gradient Descent"
      ]
    },
    {
      "cell_type": "code",
      "metadata": {
        "id": "DJn4zy9d0JwZ"
      },
      "source": [
        "def gradient(self, x, y):\n",
        "    N, D = x.shape\n",
        "    yh = logistic(np.dot(x, self.w))  # predictions  size N\n",
        "    grad = np.dot(x.T, yh - y) / N  # divide by N because cost is mean over N points\n",
        "    J = np.mean(-y * np.log(yh) - (1-y) * np.log(1-yh))\n",
        "    return grad, J  # size D"
      ],
      "execution_count": null,
      "outputs": []
    },
    {
      "cell_type": "code",
      "metadata": {
        "id": "3lzett9OvFt0"
      },
      "source": [
        "class LogisticRegression:\n",
        "\n",
        "    def __init__(self, add_bias=True, learning_rate=.1, epsilon=1e-4, max_iters=1e5, verbose=False, eval_steps=100, momentum_beta=0.9):\n",
        "        self.add_bias = add_bias\n",
        "        self.learning_rate = learning_rate\n",
        "        self.epsilon = epsilon  # to get the tolerance for the norm of gradients\n",
        "        self.max_iters = max_iters  # maximum number of iteration of gradient descent\n",
        "        self.verbose = verbose\n",
        "        self.eval_steps = eval_steps\n",
        "        self.momentum_beta = momentum_beta\n",
        "\n",
        "    def fit(self, x, y, val_x, val_y):\n",
        "        if x.ndim == 1:\n",
        "            x = x[:, None]\n",
        "        if self.add_bias:\n",
        "            N = x.shape[0]\n",
        "            x = np.column_stack([x, np.ones(N)])\n",
        "        N, D = x.shape\n",
        "        self.w = np.zeros(D)\n",
        "        g = np.inf\n",
        "        t = 0\n",
        "        # the code snippet below is for gradient descent\n",
        "        steps = []\n",
        "        train_accs = []\n",
        "        val_accs = []\n",
        "        losses = []\n",
        "        best_val_acc = 0\n",
        "        best_step = 0\n",
        "        prev = np.zeros(D)\n",
        "        while np.linalg.norm(g) > self.epsilon and t < self.max_iters:\n",
        "            g, loss = self.gradient(x, y)\n",
        "            g = self.momentum_beta * prev + (1-self.momentum_beta) * g\n",
        "            prev = g\n",
        "            self.w = self.w - self.learning_rate * g\n",
        "            t += 1\n",
        "            if t % self.eval_steps == 0:\n",
        "                yh = self.predict(x)\n",
        "                yh = yh > 0.5\n",
        "                preds = y == yh\n",
        "                train_acc = sum(preds) / len(preds)\n",
        "\n",
        "                val_yh = self.predict(val_x, add_bias=True)\n",
        "                val_yh = val_yh > 0.5\n",
        "                val_preds = val_y == val_yh\n",
        "                val_acc = sum(val_preds) / len(val_preds)\n",
        "\n",
        "                steps.append(t)\n",
        "                train_accs.append(train_acc)\n",
        "                val_accs.append(val_acc)\n",
        "                losses.append(loss)\n",
        "                if val_acc > best_val_acc:\n",
        "                    best_val_acc = val_acc\n",
        "                    best_step = t\n",
        "\n",
        "        if self.verbose:\n",
        "            print(f'terminated after {t} iterations, with norm of the gradient equal to {np.linalg.norm(g)}')\n",
        "            print(f'the weight found: {self.w}')\n",
        "        return self, steps, train_accs, val_accs, best_val_acc, best_step, losses\n",
        "\n",
        "    def predict(self, x, add_bias=False):\n",
        "        if x.ndim == 1:\n",
        "            x = x[:, None]\n",
        "        Nt = x.shape[0]\n",
        "        if add_bias:\n",
        "            x = np.column_stack([x, np.ones(Nt)])\n",
        "        yh = logistic(np.dot(x, self.w))  # predict output\n",
        "        return yh"
      ],
      "execution_count": null,
      "outputs": []
    },
    {
      "cell_type": "code",
      "metadata": {
        "id": "P1n2MaGay-E2"
      },
      "source": [
        "LogisticRegression.gradient = gradient # initialize the gradient method of the LogisticRegression class with gradient function\n",
        "\n",
        "taccs = {}\n",
        "vaccs = {}\n",
        "losses = {}\n",
        "for beta in [0.8, 0.9, 0.95, 0.99, 0]:\n",
        "    logres = LogisticRegression(max_iters=2e3, learning_rate=0.0002, momentum_beta=beta)\n",
        "    model, steps, train_accs, val_accs, best_val_acc, best_step, loss = logres.fit(train_x, train_y, val_x, val_y)\n",
        "    taccs[beta] = train_accs\n",
        "    vaccs[beta] = val_accs\n",
        "    losses[beta] = loss\n",
        "\n",
        "plt.xlabel('iterations')\n",
        "plt.ylabel('accuracy')\n",
        "for beta, vals in taccs.items():\n",
        "    plt.plot(steps, vals, label=f'momentum coefficient {beta}')\n",
        "    plt.legend(loc='lower right', shadow=True, fontsize='medium')\n",
        "    plot.show()\n",
        "\n",
        "plt.xlabel('iterations')\n",
        "plt.ylabel('accuracy')\n",
        "for beta, vals in vaccs.items():\n",
        "    plt.plot(steps, vals, label=f'momentum coefficient {beta}')\n",
        "    plt.legend(loc='lower right', shadow=True, fontsize='medium')\n",
        "    plot.show()\n",
        "\n",
        "plt.xlabel('iterations')\n",
        "plt.ylabel('cross-entropy loss')\n",
        "for beta, vals in losses.items():\n",
        "    plt.plot(steps, vals, label=f'momentum coefficient {beta}')\n",
        "    plt.legend(loc='upper right', shadow=True, fontsize='medium')\n",
        "    plt.show()"
      ],
      "execution_count": null,
      "outputs": []
    },
    {
      "cell_type": "markdown",
      "metadata": {
        "id": "QUAGfckPjyr-"
      },
      "source": [
        "## Momemtum with Mini-Batch SGD"
      ]
    },
    {
      "cell_type": "code",
      "metadata": {
        "id": "Esd83ttgkjn_"
      },
      "source": [
        "logistic = lambda z: 1./ (1 + np.exp(-z))       #logistic function\n",
        "\n",
        "def gradient(self, x, y):\n",
        "    N,D = x.shape\n",
        "    yh = logistic(np.dot(x, self.w))    # predictions  size N\n",
        "    grad = np.dot(x.T, yh - y)/N        # divide by N because cost is mean over N points\n",
        "    return grad                         # size D"
      ],
      "execution_count": null,
      "outputs": []
    },
    {
      "cell_type": "code",
      "metadata": {
        "id": "xo5AtWCzGjk6"
      },
      "source": [
        "class MiniBatchLogisticRegression:\n",
        "\n",
        "    def __init__(self, add_bias=True, learning_rate=.1, epsilon=1e-4, batch_size=8, max_iters=1e5, verbose=False,\n",
        "                 eval_steps=100, shuffle=False, momentum_beta=0.9):\n",
        "        self.add_bias = add_bias\n",
        "        self.learning_rate = learning_rate\n",
        "        self.epsilon = epsilon  # to get the tolerance for the norm of gradients\n",
        "        self.max_iters = max_iters  # maximum number of iteration of gradient descent\n",
        "        self.verbose = verbose\n",
        "        self.eval_steps = eval_steps\n",
        "        self.batch_size = batch_size\n",
        "        self.shuffle = shuffle\n",
        "        self.momentum_beta = momentum_beta\n",
        "\n",
        "    def fit(self, x, y, val_x, val_y):\n",
        "        if x.ndim == 1:\n",
        "            x = x[:, None]\n",
        "        if self.add_bias:\n",
        "            N = x.shape[0]\n",
        "            x = np.column_stack([x, np.ones(N)])\n",
        "        N, D = x.shape\n",
        "        self.w = np.zeros(D)\n",
        "        g = np.inf\n",
        "        t = 0\n",
        "        # the code snippet below is for gradient descent\n",
        "        steps = []\n",
        "        train_accs = []\n",
        "        val_accs = []\n",
        "        best_val_acc = 0\n",
        "        best_step = 0\n",
        "        prev = np.zeros(D)\n",
        "        while np.linalg.norm(g) > self.epsilon and t < self.max_iters:\n",
        "            if self.shuffle:\n",
        "                p = np.random.permutation(int(y.shape[0]))\n",
        "                x = x[p]\n",
        "                y = y[p]\n",
        "            if self.batch_size != 600:\n",
        "                for i in range(0, int(y.shape[0]), self.batch_size):\n",
        "                    batch_x = x[i:i+self.batch_size]\n",
        "                    batch_y = y[i:i+self.batch_size]\n",
        "                    g = self.gradient(batch_x, batch_y)\n",
        "                    g = self.momentum_beta * prev + (1 - self.momentum_beta) * g\n",
        "                    self.w = self.w - self.learning_rate * g\n",
        "                    prev = g\n",
        "            else:\n",
        "                g = self.gradient(x, y)\n",
        "                self.w = self.w - self.learning_rate * g\n",
        "                prev = g\n",
        "            t += 1\n",
        "            if t % self.eval_steps == 0:\n",
        "                print(t)\n",
        "                yh = self.predict(x)\n",
        "                yh = yh > 0.5\n",
        "                preds = y == yh\n",
        "                train_acc = sum(preds) / len(preds)\n",
        "\n",
        "                val_yh = self.predict(val_x, add_bias=True)\n",
        "                val_yh = val_yh > 0.5\n",
        "                val_preds = val_y == val_yh\n",
        "                val_acc = sum(val_preds) / len(val_preds)\n",
        "\n",
        "                steps.append(t)\n",
        "                train_accs.append(train_acc)\n",
        "                val_accs.append(val_acc)\n",
        "                if val_acc > best_val_acc:\n",
        "                    best_val_acc = val_acc\n",
        "                    best_step = t\n",
        "\n",
        "        if self.verbose:\n",
        "            print(f'terminated after {t} iterations, with norm of the gradient equal to {np.linalg.norm(g)}')\n",
        "            print(f'the weight found: {self.w}')\n",
        "        return self, steps, train_accs, val_accs, best_val_acc, best_step\n",
        "\n",
        "    def predict(self, x, add_bias=False):\n",
        "        if x.ndim == 1:\n",
        "            x = x[:, None]\n",
        "        Nt = x.shape[0]\n",
        "        if add_bias:\n",
        "            x = np.column_stack([x, np.ones(Nt)])\n",
        "        yh = logistic(np.dot(x, self.w))  # predict output\n",
        "        return yh"
      ],
      "execution_count": null,
      "outputs": []
    },
    {
      "cell_type": "code",
      "metadata": {
        "id": "3siccTO1GrD1"
      },
      "source": [
        "MiniBatchLogisticRegression.gradient = gradient  # initialize the gradient method of the LogisticRegression class with gradient function\n",
        "\n",
        "for bs in [8, 64]:\n",
        "    taccs = {}\n",
        "    vaccs = {}\n",
        "    for beta in [0.8, 0.9, 0.95, 0.99, 0]:\n",
        "        logres = MiniBatchLogisticRegression(max_iters=1e6, learning_rate=0.0002, momentum_beta=beta, batch_size=bs)\n",
        "        model, steps, train_accs, val_accs, best_val_acc, best_step = logres.fit(train_x, train_y, val_x, val_y)\n",
        "        taccs[beta] = train_accs\n",
        "        vaccs[beta] = val_accs\n",
        "\n",
        "    plt.xlabel('iterations')\n",
        "    plt.ylabel('accuracy')\n",
        "    for beta, vals in taccs.items():\n",
        "        plt.plot(steps, vals, label=f'momentum coefficient {beta}')\n",
        "        plt.legend(loc='lower right', shadow=True, fontsize='medium')\n",
        "        plt.show()\n",
        "\n",
        "    plt.xlabel('iterations')\n",
        "    plt.ylabel('accuracy')\n",
        "    for beta, vals in vaccs.items():\n",
        "        plt.plot(steps, vals, label=f'momentum coefficient {beta}')\n",
        "        plt.legend(loc='lower right', shadow=True, fontsize='medium')\n",
        "        plt.show()"
      ],
      "execution_count": null,
      "outputs": []
    }
  ]
}