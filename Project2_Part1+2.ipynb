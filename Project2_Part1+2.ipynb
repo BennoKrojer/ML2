{
  "nbformat": 4,
  "nbformat_minor": 0,
  "metadata": {
    "colab": {
      "name": "Project2-Part1+2.ipynb",
      "provenance": [],
      "toc_visible": true,
      "authorship_tag": "ABX9TyPZ66tkeYb6VA1HH749WEMI",
      "include_colab_link": true
    },
    "kernelspec": {
      "name": "python3",
      "display_name": "Python 3"
    },
    "language_info": {
      "name": "python"
    }
  },
  "cells": [
    {
      "cell_type": "markdown",
      "metadata": {
        "id": "view-in-github",
        "colab_type": "text"
      },
      "source": [
        "<a href=\"https://colab.research.google.com/github/BennoKrojer/ML2/blob/main/Project2_Part1%2B2.ipynb\" target=\"_parent\"><img src=\"https://colab.research.google.com/assets/colab-badge.svg\" alt=\"Open In Colab\"/></a>"
      ]
    },
    {
      "cell_type": "markdown",
      "metadata": {
        "id": "iWSYsw9UmKGh"
      },
      "source": [
        "# COMP 551 - Mini Project 2\n"
      ]
    },
    {
      "cell_type": "markdown",
      "metadata": {
        "id": "Lr2TuJJVHrIR"
      },
      "source": [
        "# Part 1\n"
      ]
    },
    {
      "cell_type": "code",
      "metadata": {
        "id": "h_FgLmtnt-xg"
      },
      "source": [
        "from numpy import genfromtxt\n",
        "import numpy as np\n",
        "import matplotlib.pyplot as plt"
      ],
      "execution_count": null,
      "outputs": []
    },
    {
      "cell_type": "code",
      "metadata": {
        "id": "isoGhDjNMvxu"
      },
      "source": [
        "%%capture\n",
        "!wget https://raw.githubusercontent.com/BennoKrojer/ML2/main/diabetes_data/diabetes_train.csv\n",
        "!wget https://raw.githubusercontent.com/BennoKrojer/ML2/main/diabetes_data/diabetes_test.csv\n",
        "!wget https://raw.githubusercontent.com/BennoKrojer/ML2/main/diabetes_data/diabetes_val.csv"
      ],
      "execution_count": null,
      "outputs": []
    },
    {
      "cell_type": "code",
      "metadata": {
        "colab": {
          "base_uri": "https://localhost:8080/"
        },
        "id": "oBfyt74kqH9H",
        "outputId": "7cac6879-0d6f-4c46-8b4d-dbfbddfe6cf8"
      },
      "source": [
        "train = genfromtxt('diabetes_train.csv', delimiter=',', skip_header=1)\n",
        "test = genfromtxt('diabetes_test.csv', delimiter=',', skip_header=1)\n",
        "val = genfromtxt('diabetes_val.csv', delimiter=',', skip_header=1)\n",
        "train_x, train_y = train[:,:-1], train[:,-1]\n",
        "test_x, test_y = test[:,:-1], test[:,-1]\n",
        "val_x, val_y = val[:,:-1], val[:,-1]\n",
        "print(train_x.shape)"
      ],
      "execution_count": null,
      "outputs": [
        {
          "output_type": "stream",
          "name": "stdout",
          "text": [
            "(600, 8)\n"
          ]
        }
      ]
    },
    {
      "cell_type": "markdown",
      "metadata": {
        "id": "oZYRn88auNYT"
      },
      "source": [
        "## Logistic Regression: Fully Batched"
      ]
    },
    {
      "cell_type": "code",
      "metadata": {
        "id": "X756pGNBlYyH"
      },
      "source": [
        "logistic = lambda z: 1./ (1 + np.exp(-z))       #logistic function\n",
        "\n",
        "def gradient(self, x, y):\n",
        "    N,D = x.shape\n",
        "    yh = logistic(np.dot(x, self.w))    # predictions  size N\n",
        "    grad = np.dot(x.T, yh - y)/N        # divide by N because cost is mean over N points\n",
        "    return grad                         # size D"
      ],
      "execution_count": null,
      "outputs": []
    },
    {
      "cell_type": "code",
      "metadata": {
        "id": "yv3xohIVuPz6"
      },
      "source": [
        "class LogisticRegression:\n",
        "\n",
        "    def __init__(self, add_bias=True, learning_rate=.1, epsilon=1e-4, max_iters=1e5, verbose=False, eval_steps=100):\n",
        "        self.add_bias = add_bias\n",
        "        self.learning_rate = learning_rate\n",
        "        self.epsilon = epsilon  # to get the tolerance for the norm of gradients\n",
        "        self.max_iters = max_iters  # maximum number of iteration of gradient descent\n",
        "        self.verbose = verbose\n",
        "        self.eval_steps = eval_steps\n",
        "\n",
        "    def fit(self, x, y, val_x, val_y):\n",
        "        if x.ndim == 1:\n",
        "            x = x[:, None]\n",
        "        if self.add_bias:\n",
        "            N = x.shape[0]\n",
        "            x = np.column_stack([x, np.ones(N)])\n",
        "        N, D = x.shape\n",
        "        self.w = np.zeros(D)\n",
        "        g = np.inf\n",
        "        t = 0\n",
        "        # the code snippet below is for gradient descent\n",
        "        steps = []\n",
        "        train_accs = []\n",
        "        val_accs = []\n",
        "        best_val_acc = 0\n",
        "        best_step = 0\n",
        "        while np.linalg.norm(g) > self.epsilon and t < self.max_iters:\n",
        "            g = self.gradient(x, y)\n",
        "            self.w = self.w - self.learning_rate * g\n",
        "            t += 1\n",
        "            if t % self.eval_steps == 0:\n",
        "                yh = self.predict(x)\n",
        "                yh = yh > 0.5\n",
        "                preds = y == yh\n",
        "                train_acc = sum(preds) / len(preds)\n",
        "\n",
        "                val_yh = self.predict(val_x, add_bias=True)\n",
        "                val_yh = val_yh > 0.5\n",
        "                val_preds = val_y == val_yh\n",
        "                val_acc = sum(val_preds) / len(val_preds)\n",
        "\n",
        "                steps.append(t)\n",
        "                train_accs.append(train_acc)\n",
        "                val_accs.append(val_acc)\n",
        "                if val_acc > best_val_acc:\n",
        "                    best_val_acc = val_acc\n",
        "                    best_step = t\n",
        "\n",
        "        if self.verbose:\n",
        "            print(f'terminated after {t} iterations, with norm of the gradient equal to {np.linalg.norm(g)}')\n",
        "            print(f'the weight found: {self.w}')\n",
        "        return self, steps, train_accs, val_accs, best_val_acc, best_step\n",
        "\n",
        "    def predict(self, x, add_bias=False):\n",
        "        if x.ndim == 1:\n",
        "            x = x[:, None]\n",
        "        Nt = x.shape[0]\n",
        "        if add_bias:\n",
        "            x = np.column_stack([x, np.ones(Nt)])\n",
        "        yh = logistic(np.dot(x, self.w))  # predict output\n",
        "        return yh\n",
        "\n",
        "\n",
        "\n",
        "LogisticRegression.gradient = gradient             #initialize the gradient method of the LogisticRegression class with gradient function"
      ],
      "execution_count": null,
      "outputs": []
    },
    {
      "cell_type": "code",
      "metadata": {
        "colab": {
          "base_uri": "https://localhost:8080/",
          "height": 332
        },
        "id": "Jje4DBpzwxi2",
        "outputId": "ba6b07bc-2167-42df-fa34-e92f4ccb47c2"
      },
      "source": [
        "for lr in [0.0004, 0.0002, 0.0001, 0.00005]:\n",
        "    logres = LogisticRegression(max_iters=2e6, learning_rate=lr)\n",
        "    model, steps, train_accs, val_accs, best_val_acc, best_step = logres.fit(train_x, train_y, val_x, val_y)\n",
        "    plt.plot(steps, train_accs, 'r', label='training accuracy')\n",
        "    plt.plot(steps, val_accs, 'b', label='validation accuracy')\n",
        "    plt.xlabel('iterations')\n",
        "    plt.ylabel('accuracy')\n",
        "    plt.legend(loc='lower right', shadow=True, fontsize='medium')\n",
        "    plt.show()\n",
        "    print(lr)\n",
        "    print(best_val_acc)\n",
        "    print(best_step)"
      ],
      "execution_count": null,
      "outputs": [
        {
          "output_type": "display_data",
          "data": {
            "image/png": "[encoded data removed]",
            "text/plain": [
              "<Figure size 432x288 with 1 Axes>"
            ]
          },
          "metadata": {
            "needs_background": "light"
          }
        },
        {
          "output_type": "stream",
          "name": "stdout",
          "text": [
            "0.0002\n",
            "0.77\n",
            "709300\n"
          ]
        }
      ]
    },
    {
      "cell_type": "markdown",
      "metadata": {
        "id": "6aCDx2jtiFgB"
      },
      "source": [
        "## Mini-Batch Logistic Regression"
      ]
    },
    {
      "cell_type": "code",
      "metadata": {
        "id": "whHwKjokw1Eg"
      },
      "source": [
        "class MiniBatchLogisticRegression:\n",
        "\n",
        "    def __init__(self, add_bias=True, learning_rate=.1, epsilon=1e-4, batch_size=8, max_iters=1e5, verbose=False,\n",
        "                 eval_steps=100, shuffle=False):\n",
        "        self.add_bias = add_bias\n",
        "        self.learning_rate = learning_rate\n",
        "        self.epsilon = epsilon  # to get the tolerance for the norm of gradients\n",
        "        self.max_iters = max_iters  # maximum number of iteration of gradient descent\n",
        "        self.verbose = verbose\n",
        "        self.eval_steps = eval_steps\n",
        "        self.batch_size = batch_size\n",
        "        self.shuffle = shuffle\n",
        "\n",
        "    def fit(self, x, y, val_x, val_y):\n",
        "        if x.ndim == 1:\n",
        "            x = x[:, None]\n",
        "        if self.add_bias:\n",
        "            N = x.shape[0]\n",
        "            x = np.column_stack([x, np.ones(N)])\n",
        "        N, D = x.shape\n",
        "        self.w = np.zeros(D)\n",
        "        g = np.inf\n",
        "        t = 0\n",
        "        # the code snippet below is for gradient descent\n",
        "        steps = []\n",
        "        train_accs = []\n",
        "        val_accs = []\n",
        "        best_val_acc = 0\n",
        "        best_step = 0\n",
        "        while np.linalg.norm(g) > self.epsilon and t < self.max_iters:\n",
        "            if self.shuffle:\n",
        "                p = np.random.permutation(int(y.shape[0]))\n",
        "                x = x[p]\n",
        "                y = y[p]\n",
        "            for i in range(0, int(y.shape[0]), self.batch_size):\n",
        "                batch_x = x[i:i+self.batch_size]\n",
        "                batch_y = y[i:i+self.batch_size]\n",
        "                g = self.gradient(batch_x, batch_y)\n",
        "                self.w = self.w - self.learning_rate * g\n",
        "            t += 1\n",
        "            if t % self.eval_steps == 0:\n",
        "                print(t)\n",
        "                yh = self.predict(x)\n",
        "                yh = yh > 0.5\n",
        "                preds = y == yh\n",
        "                train_acc = sum(preds) / len(preds)\n",
        "\n",
        "                val_yh = self.predict(val_x, add_bias=True)\n",
        "                val_yh = val_yh > 0.5\n",
        "                val_preds = val_y == val_yh\n",
        "                val_acc = sum(val_preds) / len(val_preds)\n",
        "\n",
        "                steps.append(t)\n",
        "                train_accs.append(train_acc)\n",
        "                val_accs.append(val_acc)\n",
        "                if val_acc > best_val_acc:\n",
        "                    best_val_acc = val_acc\n",
        "                    best_step = t\n",
        "\n",
        "        if self.verbose:\n",
        "            print(f'terminated after {t} iterations, with norm of the gradient equal to {np.linalg.norm(g)}')\n",
        "            print(f'the weight found: {self.w}')\n",
        "        return self, steps, train_accs, val_accs, best_val_acc, best_step\n",
        "\n",
        "    def predict(self, x, add_bias=False):\n",
        "        if x.ndim == 1:\n",
        "            x = x[:, None]\n",
        "        Nt = x.shape[0]\n",
        "        if add_bias:\n",
        "            x = np.column_stack([x, np.ones(Nt)])\n",
        "        yh = logistic(np.dot(x, self.w))  # predict output\n",
        "        return yh\n"
      ],
      "execution_count": null,
      "outputs": []
    },
    {
      "cell_type": "code",
      "metadata": {
        "id": "TFrK85MxiEKi"
      },
      "source": [
        "MiniBatchLogisticRegression.gradient = gradient  # initialize the gradient method of the LogisticRegression class with gradient function\n",
        "\n",
        "taccs = {}\n",
        "vaccs = {}\n",
        "for size in [8, 16, 32, 64, 600]:\n",
        "    logres = MiniBatchLogisticRegression(max_iters=1e6, learning_rate=0.0002, batch_size=size)\n",
        "    model, steps, train_accs, val_accs, best_val_acc, best_step = logres.fit(train_x, train_y, val_x, val_y)\n",
        "    taccs[size] = train_accs\n",
        "    vaccs[size] = val_accs\n",
        "\n",
        "plt.xlabel('iterations')\n",
        "plt.ylabel('accuracy')\n",
        "for size, vals in taccs.items():\n",
        "    plt.plot(steps, vals, label=f'batch size {size}')\n",
        "    plt.legend(loc='lower right', shadow=True, fontsize='medium')\n",
        "    plt.show()\n",
        "\n",
        "plt.xlabel('iterations')\n",
        "plt.ylabel('accuracy')\n",
        "for size, vals in vaccs.items():\n",
        "    plt.plot(steps, vals, label=f'batch size {size}')\n",
        "    plt.legend(loc='lower right', shadow=True, fontsize='medium')\n",
        "    plt.show()\n"
      ],
      "execution_count": null,
      "outputs": []
    },
    {
      "cell_type": "code",
      "metadata": {
        "id": "KjR-2xWRWAzX"
      },
      "source": [
        "# PURPOSE: test whether it makes no difference if we don't shuffle and plot averaged accuracies\n",
        "MiniBatchLogisticRegression.gradient = gradient  # initialize the gradient method of the LogisticRegression class with gradient function\n",
        "\n",
        "taccs = {}\n",
        "vaccs = {}\n",
        "for size in [8, 16, 32, 64, 600]:\n",
        "    logres = MiniBatchLogisticRegression(max_iters=1e4, learning_rate=0.0002, batch_size=size, shuffle=True)\n",
        "    model, steps, train_accs, val_accs, best_val_acc, best_step = logres.fit(train_x, train_y, val_x, val_y)\n",
        "    taccs[size] = train_accs\n",
        "    vaccs[size] = val_accs\n",
        "\n",
        "plt.xlabel('iterations')\n",
        "plt.ylabel('accuracy')\n",
        "for size, vals in taccs.items():\n",
        "    new_vals = []\n",
        "    for i,v in enumerate(vals):\n",
        "        if i < 3:\n",
        "            new_vals.append(v)\n",
        "        else:\n",
        "            new_vals.append(np.mean(vals[i-3:i+1]))\n",
        "    plt.plot(steps, vals, label=f'batch size {size}')\n",
        "    plt.legend(loc='lower right', shadow=True, fontsize='medium')\n",
        "    plt.savefig('bestfigevert_shuffled.png')\n",
        "\n",
        "plt.clf()\n",
        "\n",
        "plt.xlabel('iterations')\n",
        "plt.ylabel('accuracy')\n",
        "for size, vals in vaccs.items():\n",
        "    new_vals = []\n",
        "    for i,v in enumerate(vals):\n",
        "        if i < 3:\n",
        "            new_vals.append(v)\n",
        "        else:\n",
        "            new_vals.append(np.mean(vals[i-3:i+1]))\n",
        "    plt.plot(steps, vals, label=f'batch size {size}')\n",
        "    plt.legend(loc='lower right', shadow=True, fontsize='medium')\n",
        "    plt.savefig('bestfigeverv_shuffled.png')"
      ],
      "execution_count": null,
      "outputs": []
    },
    {
      "cell_type": "markdown",
      "metadata": {
        "id": "C6I-LmN3vCUu"
      },
      "source": [
        "## Momentum Fully Batched Gradient Descent"
      ]
    },
    {
      "cell_type": "code",
      "metadata": {
        "id": "DJn4zy9d0JwZ"
      },
      "source": [
        "def gradient(self, x, y):\n",
        "    N, D = x.shape\n",
        "    yh = logistic(np.dot(x, self.w))  # predictions  size N\n",
        "    grad = np.dot(x.T, yh - y) / N  # divide by N because cost is mean over N points\n",
        "    J = np.mean(-y * np.log(yh) - (1-y) * np.log(1-yh))\n",
        "    return grad, J  # size D"
      ],
      "execution_count": null,
      "outputs": []
    },
    {
      "cell_type": "code",
      "metadata": {
        "id": "3lzett9OvFt0"
      },
      "source": [
        "class LogisticRegression:\n",
        "\n",
        "    def __init__(self, add_bias=True, learning_rate=.1, epsilon=1e-4, max_iters=1e5, verbose=False, eval_steps=100, momentum_beta=0.9):\n",
        "        self.add_bias = add_bias\n",
        "        self.learning_rate = learning_rate\n",
        "        self.epsilon = epsilon  # to get the tolerance for the norm of gradients\n",
        "        self.max_iters = max_iters  # maximum number of iteration of gradient descent\n",
        "        self.verbose = verbose\n",
        "        self.eval_steps = eval_steps\n",
        "        self.momentum_beta = momentum_beta\n",
        "\n",
        "    def fit(self, x, y, val_x, val_y):\n",
        "        if x.ndim == 1:\n",
        "            x = x[:, None]\n",
        "        if self.add_bias:\n",
        "            N = x.shape[0]\n",
        "            x = np.column_stack([x, np.ones(N)])\n",
        "        N, D = x.shape\n",
        "        self.w = np.zeros(D)\n",
        "        g = np.inf\n",
        "        t = 0\n",
        "        # the code snippet below is for gradient descent\n",
        "        steps = []\n",
        "        train_accs = []\n",
        "        val_accs = []\n",
        "        losses = []\n",
        "        best_val_acc = 0\n",
        "        best_step = 0\n",
        "        prev = np.zeros(D)\n",
        "        while np.linalg.norm(g) > self.epsilon and t < self.max_iters:\n",
        "            g, loss = self.gradient(x, y)\n",
        "            g = self.momentum_beta * prev + (1-self.momentum_beta) * g\n",
        "            prev = g\n",
        "            self.w = self.w - self.learning_rate * g\n",
        "            t += 1\n",
        "            if t % self.eval_steps == 0:\n",
        "                yh = self.predict(x)\n",
        "                yh = yh > 0.5\n",
        "                preds = y == yh\n",
        "                train_acc = sum(preds) / len(preds)\n",
        "\n",
        "                val_yh = self.predict(val_x, add_bias=True)\n",
        "                val_yh = val_yh > 0.5\n",
        "                val_preds = val_y == val_yh\n",
        "                val_acc = sum(val_preds) / len(val_preds)\n",
        "\n",
        "                steps.append(t)\n",
        "                train_accs.append(train_acc)\n",
        "                val_accs.append(val_acc)\n",
        "                losses.append(loss)\n",
        "                if val_acc > best_val_acc:\n",
        "                    best_val_acc = val_acc\n",
        "                    best_step = t\n",
        "\n",
        "        if self.verbose:\n",
        "            print(f'terminated after {t} iterations, with norm of the gradient equal to {np.linalg.norm(g)}')\n",
        "            print(f'the weight found: {self.w}')\n",
        "        return self, steps, train_accs, val_accs, best_val_acc, best_step, losses\n",
        "\n",
        "    def predict(self, x, add_bias=False):\n",
        "        if x.ndim == 1:\n",
        "            x = x[:, None]\n",
        "        Nt = x.shape[0]\n",
        "        if add_bias:\n",
        "            x = np.column_stack([x, np.ones(Nt)])\n",
        "        yh = logistic(np.dot(x, self.w))  # predict output\n",
        "        return yh"
      ],
      "execution_count": null,
      "outputs": []
    },
    {
      "cell_type": "code",
      "metadata": {
        "id": "P1n2MaGay-E2"
      },
      "source": [
        "LogisticRegression.gradient = gradient # initialize the gradient method of the LogisticRegression class with gradient function\n",
        "\n",
        "taccs = {}\n",
        "vaccs = {}\n",
        "losses = {}\n",
        "for beta in [0.8, 0.9, 0.95, 0.99, 0]:\n",
        "    logres = LogisticRegression(max_iters=2e3, learning_rate=0.0002, momentum_beta=beta)\n",
        "    model, steps, train_accs, val_accs, best_val_acc, best_step, loss = logres.fit(train_x, train_y, val_x, val_y)\n",
        "    taccs[beta] = train_accs\n",
        "    vaccs[beta] = val_accs\n",
        "    losses[beta] = loss\n",
        "\n",
        "plt.xlabel('iterations')\n",
        "plt.ylabel('accuracy')\n",
        "for beta, vals in taccs.items():\n",
        "    plt.plot(steps, vals, label=f'momentum coefficient {beta}')\n",
        "    plt.legend(loc='lower right', shadow=True, fontsize='medium')\n",
        "    plot.show()\n",
        "\n",
        "plt.xlabel('iterations')\n",
        "plt.ylabel('accuracy')\n",
        "for beta, vals in vaccs.items():\n",
        "    plt.plot(steps, vals, label=f'momentum coefficient {beta}')\n",
        "    plt.legend(loc='lower right', shadow=True, fontsize='medium')\n",
        "    plot.show()\n",
        "\n",
        "plt.xlabel('iterations')\n",
        "plt.ylabel('cross-entropy loss')\n",
        "for beta, vals in losses.items():\n",
        "    plt.plot(steps, vals, label=f'momentum coefficient {beta}')\n",
        "    plt.legend(loc='upper right', shadow=True, fontsize='medium')\n",
        "    plt.show()"
      ],
      "execution_count": null,
      "outputs": []
    },
    {
      "cell_type": "markdown",
      "metadata": {
        "id": "QUAGfckPjyr-"
      },
      "source": [
        "## Momemtum with Mini-Batch SGD"
      ]
    },
    {
      "cell_type": "code",
      "metadata": {
        "id": "Esd83ttgkjn_"
      },
      "source": [
        "logistic = lambda z: 1./ (1 + np.exp(-z))       #logistic function\n",
        "\n",
        "def gradient(self, x, y):\n",
        "    N,D = x.shape\n",
        "    yh = logistic(np.dot(x, self.w))    # predictions  size N\n",
        "    grad = np.dot(x.T, yh - y)/N        # divide by N because cost is mean over N points\n",
        "    return grad                         # size D"
      ],
      "execution_count": null,
      "outputs": []
    },
    {
      "cell_type": "code",
      "metadata": {
        "id": "xo5AtWCzGjk6"
      },
      "source": [
        "class MiniBatchLogisticRegression:\n",
        "\n",
        "    def __init__(self, add_bias=True, learning_rate=.1, epsilon=1e-4, batch_size=8, max_iters=1e5, verbose=False,\n",
        "                 eval_steps=100, shuffle=False, momentum_beta=0.9):\n",
        "        self.add_bias = add_bias\n",
        "        self.learning_rate = learning_rate\n",
        "        self.epsilon = epsilon  # to get the tolerance for the norm of gradients\n",
        "        self.max_iters = max_iters  # maximum number of iteration of gradient descent\n",
        "        self.verbose = verbose\n",
        "        self.eval_steps = eval_steps\n",
        "        self.batch_size = batch_size\n",
        "        self.shuffle = shuffle\n",
        "        self.momentum_beta = momentum_beta\n",
        "\n",
        "    def fit(self, x, y, val_x, val_y):\n",
        "        if x.ndim == 1:\n",
        "            x = x[:, None]\n",
        "        if self.add_bias:\n",
        "            N = x.shape[0]\n",
        "            x = np.column_stack([x, np.ones(N)])\n",
        "        N, D = x.shape\n",
        "        self.w = np.zeros(D)\n",
        "        g = np.inf\n",
        "        t = 0\n",
        "        # the code snippet below is for gradient descent\n",
        "        steps = []\n",
        "        train_accs = []\n",
        "        val_accs = []\n",
        "        best_val_acc = 0\n",
        "        best_step = 0\n",
        "        prev = np.zeros(D)\n",
        "        while np.linalg.norm(g) > self.epsilon and t < self.max_iters:\n",
        "            if self.shuffle:\n",
        "                p = np.random.permutation(int(y.shape[0]))\n",
        "                x = x[p]\n",
        "                y = y[p]\n",
        "            if self.batch_size != 600:\n",
        "                for i in range(0, int(y.shape[0]), self.batch_size):\n",
        "                    batch_x = x[i:i+self.batch_size]\n",
        "                    batch_y = y[i:i+self.batch_size]\n",
        "                    g = self.gradient(batch_x, batch_y)\n",
        "                    g = self.momentum_beta * prev + (1 - self.momentum_beta) * g\n",
        "                    self.w = self.w - self.learning_rate * g\n",
        "                    prev = g\n",
        "            else:\n",
        "                g = self.gradient(x, y)\n",
        "                self.w = self.w - self.learning_rate * g\n",
        "                prev = g\n",
        "            t += 1\n",
        "            if t % self.eval_steps == 0:\n",
        "                print(t)\n",
        "                yh = self.predict(x)\n",
        "                yh = yh > 0.5\n",
        "                preds = y == yh\n",
        "                train_acc = sum(preds) / len(preds)\n",
        "\n",
        "                val_yh = self.predict(val_x, add_bias=True)\n",
        "                val_yh = val_yh > 0.5\n",
        "                val_preds = val_y == val_yh\n",
        "                val_acc = sum(val_preds) / len(val_preds)\n",
        "\n",
        "                steps.append(t)\n",
        "                train_accs.append(train_acc)\n",
        "                val_accs.append(val_acc)\n",
        "                if val_acc > best_val_acc:\n",
        "                    best_val_acc = val_acc\n",
        "                    best_step = t\n",
        "\n",
        "        if self.verbose:\n",
        "            print(f'terminated after {t} iterations, with norm of the gradient equal to {np.linalg.norm(g)}')\n",
        "            print(f'the weight found: {self.w}')\n",
        "        return self, steps, train_accs, val_accs, best_val_acc, best_step\n",
        "\n",
        "    def predict(self, x, add_bias=False):\n",
        "        if x.ndim == 1:\n",
        "            x = x[:, None]\n",
        "        Nt = x.shape[0]\n",
        "        if add_bias:\n",
        "            x = np.column_stack([x, np.ones(Nt)])\n",
        "        yh = logistic(np.dot(x, self.w))  # predict output\n",
        "        return yh"
      ],
      "execution_count": null,
      "outputs": []
    },
    {
      "cell_type": "code",
      "metadata": {
        "id": "3siccTO1GrD1"
      },
      "source": [
        "MiniBatchLogisticRegression.gradient = gradient  # initialize the gradient method of the LogisticRegression class with gradient function\n",
        "\n",
        "for bs in [8, 64]:\n",
        "    taccs = {}\n",
        "    vaccs = {}\n",
        "    for beta in [0.8, 0.9, 0.95, 0.99, 0]:\n",
        "        logres = MiniBatchLogisticRegression(max_iters=1e6, learning_rate=0.0002, momentum_beta=beta, batch_size=bs)\n",
        "        model, steps, train_accs, val_accs, best_val_acc, best_step = logres.fit(train_x, train_y, val_x, val_y)\n",
        "        taccs[beta] = train_accs\n",
        "        vaccs[beta] = val_accs\n",
        "\n",
        "    plt.xlabel('iterations')\n",
        "    plt.ylabel('accuracy')\n",
        "    for beta, vals in taccs.items():\n",
        "        plt.plot(steps, vals, label=f'momentum coefficient {beta}')\n",
        "        plt.legend(loc='lower right', shadow=True, fontsize='medium')\n",
        "        plt.show()\n",
        "\n",
        "    plt.xlabel('iterations')\n",
        "    plt.ylabel('accuracy')\n",
        "    for beta, vals in vaccs.items():\n",
        "        plt.plot(steps, vals, label=f'momentum coefficient {beta}')\n",
        "        plt.legend(loc='lower right', shadow=True, fontsize='medium')\n",
        "        plt.show()"
      ],
      "execution_count": null,
      "outputs": []
    },
    {
      "cell_type": "markdown",
      "metadata": {
        "id": "sW9ngFYOHvI1"
      },
      "source": [
        "# Part 2"
      ]
    },
    {
      "cell_type": "code",
      "metadata": {
        "id": "3ahukbl7nUC4"
      },
      "source": [
        "from collections import Counter\n",
        "from math import log\n",
        "import random\n",
        "\n",
        "import numpy as np\n",
        "import pandas as pd\n",
        "import matplotlib.pyplot as plt\n",
        "\n",
        "import sklearn as sk\n",
        "from sklearn.feature_extraction.text import CountVectorizer, TfidfTransformer\n",
        "from sklearn.linear_model import LogisticRegression, SGDClassifier\n",
        "from sklearn.ensemble import RandomForestClassifier\n",
        "from sklearn.pipeline import Pipeline\n",
        "from sklearn import metrics\n",
        "from sklearn.metrics import roc_curve, auc\n",
        "from sklearn.model_selection import GridSearchCV, RandomizedSearchCV\n",
        "\n",
        "from nltk import word_tokenize\n",
        "from nltk.stem import WordNetLemmatizer"
      ],
      "execution_count": 1,
      "outputs": []
    },
    {
      "cell_type": "code",
      "metadata": {
        "id": "eU8rxFe16oQY",
        "colab": {
          "base_uri": "https://localhost:8080/"
        },
        "outputId": "38b07be9-c180-4ab2-e545-62c7e1d3eef1"
      },
      "source": [
        "import nltk\n",
        "nltk.download('punkt')\n",
        "nltk.download('wordnet')"
      ],
      "execution_count": 2,
      "outputs": [
        {
          "output_type": "stream",
          "name": "stdout",
          "text": [
            "[nltk_data] Downloading package punkt to /root/nltk_data...\n",
            "[nltk_data]   Unzipping tokenizers/punkt.zip.\n",
            "[nltk_data] Downloading package wordnet to /root/nltk_data...\n",
            "[nltk_data]   Unzipping corpora/wordnet.zip.\n"
          ]
        },
        {
          "output_type": "execute_result",
          "data": {
            "text/plain": [
              "True"
            ]
          },
          "metadata": {},
          "execution_count": 2
        }
      ]
    },
    {
      "cell_type": "code",
      "metadata": {
        "id": "PLGHfOU8z34J"
      },
      "source": [
        "# LemmaTokenizer defintion\n",
        "class LemmaTokenizer:\n",
        "  def __init__(self):\n",
        "    self.wnl = WordNetLemmatizer()\n",
        "  def __call__(self, doc):\n",
        "    return [self.wnl.lemmatize(t) for t in word_tokenize(doc)]"
      ],
      "execution_count": 3,
      "outputs": []
    },
    {
      "cell_type": "markdown",
      "metadata": {
        "id": "VO0fekBkqOrl"
      },
      "source": [
        "### Data Loading"
      ]
    },
    {
      "cell_type": "code",
      "metadata": {
        "id": "ykr4JRvoqOVN",
        "colab": {
          "base_uri": "https://localhost:8080/"
        },
        "outputId": "764f2eb7-365b-4e85-dcf0-453c4ea63982"
      },
      "source": [
        "!wget https://raw.githubusercontent.com/BennoKrojer/ML2/main/fake_news_data/fake_news_train.csv\n",
        "!wget https://raw.githubusercontent.com/BennoKrojer/ML2/main/fake_news_data/fake_news_val.csv\n",
        "!wget https://raw.githubusercontent.com/BennoKrojer/ML2/main/fake_news_data/fake_news_test.csv"
      ],
      "execution_count": 4,
      "outputs": [
        {
          "output_type": "stream",
          "name": "stdout",
          "text": [
            "--2021-10-26 19:43:44--  https://raw.githubusercontent.com/BennoKrojer/ML2/main/fake_news_data/fake_news_train.csv\n",
            "Resolving raw.githubusercontent.com (raw.githubusercontent.com)... 185.199.111.133, 185.199.110.133, 185.199.108.133, ...\n",
            "Connecting to raw.githubusercontent.com (raw.githubusercontent.com)|185.199.111.133|:443... connected.\n",
            "HTTP request sent, awaiting response... 200 OK\n",
            "Length: 63830815 (61M) [text/plain]\n",
            "Saving to: ‘fake_news_train.csv’\n",
            "\n",
            "fake_news_train.csv 100%[===================>]  60.87M   159MB/s    in 0.4s    \n",
            "\n",
            "2021-10-26 19:43:45 (159 MB/s) - ‘fake_news_train.csv’ saved [63830815/63830815]\n",
            "\n",
            "--2021-10-26 19:43:45--  https://raw.githubusercontent.com/BennoKrojer/ML2/main/fake_news_data/fake_news_val.csv\n",
            "Resolving raw.githubusercontent.com (raw.githubusercontent.com)... 185.199.111.133, 185.199.110.133, 185.199.108.133, ...\n",
            "Connecting to raw.githubusercontent.com (raw.githubusercontent.com)|185.199.111.133|:443... connected.\n",
            "HTTP request sent, awaiting response... 200 OK\n",
            "Length: 6533293 (6.2M) [text/plain]\n",
            "Saving to: ‘fake_news_val.csv’\n",
            "\n",
            "fake_news_val.csv   100%[===================>]   6.23M  --.-KB/s    in 0.1s    \n",
            "\n",
            "2021-10-26 19:43:46 (63.1 MB/s) - ‘fake_news_val.csv’ saved [6533293/6533293]\n",
            "\n",
            "--2021-10-26 19:43:46--  https://raw.githubusercontent.com/BennoKrojer/ML2/main/fake_news_data/fake_news_test.csv\n",
            "Resolving raw.githubusercontent.com (raw.githubusercontent.com)... 185.199.108.133, 185.199.109.133, 185.199.110.133, ...\n",
            "Connecting to raw.githubusercontent.com (raw.githubusercontent.com)|185.199.108.133|:443... connected.\n",
            "HTTP request sent, awaiting response... 200 OK\n",
            "Length: 9484222 (9.0M) [text/plain]\n",
            "Saving to: ‘fake_news_test.csv’\n",
            "\n",
            "fake_news_test.csv  100%[===================>]   9.04M  --.-KB/s    in 0.1s    \n",
            "\n",
            "2021-10-26 19:43:46 (87.7 MB/s) - ‘fake_news_test.csv’ saved [9484222/9484222]\n",
            "\n"
          ]
        }
      ]
    },
    {
      "cell_type": "code",
      "metadata": {
        "colab": {
          "base_uri": "https://localhost:8080/"
        },
        "id": "q4EotE27rZKj",
        "outputId": "c18a7489-b8b3-42b0-ddcc-f149cc8bfb54"
      },
      "source": [
        "!ls"
      ],
      "execution_count": 5,
      "outputs": [
        {
          "output_type": "stream",
          "name": "stdout",
          "text": [
            "fake_news_test.csv  fake_news_train.csv  fake_news_val.csv  sample_data\n"
          ]
        }
      ]
    },
    {
      "cell_type": "code",
      "metadata": {
        "colab": {
          "base_uri": "https://localhost:8080/"
        },
        "id": "-ctx0Og8rPKS",
        "outputId": "d78d2db7-dee5-41f1-eca6-26a9c176e0b9"
      },
      "source": [
        "raw_data_train = pd.read_csv(\"fake_news_train.csv\")\n",
        "raw_data_val   = pd.read_csv(\"fake_news_val.csv\")\n",
        "raw_data_test  = pd.read_csv(\"fake_news_test.csv\")\n",
        "\n",
        "raw_data_train.head\n",
        "raw_data_train.columns"
      ],
      "execution_count": 6,
      "outputs": [
        {
          "output_type": "execute_result",
          "data": {
            "text/plain": [
              "Index(['text', 'label'], dtype='object')"
            ]
          },
          "metadata": {},
          "execution_count": 6
        }
      ]
    },
    {
      "cell_type": "code",
      "metadata": {
        "colab": {
          "base_uri": "https://localhost:8080/"
        },
        "id": "fu7tBzUNyDC3",
        "outputId": "f7c6d6e6-e61e-4045-8dcb-1e6b4a2b042c"
      },
      "source": [
        "# Seperate raw data into text and label\n",
        "raw_data_train_text = raw_data_train[\"text\"]\n",
        "raw_data_train_label = raw_data_train[\"label\"]\n",
        "\n",
        "# Convert to numpy array so it is easier to work with\n",
        "X_train = np.asarray(raw_data_train_text)\n",
        "\n",
        "# Create numpy array to store target labels\n",
        "Y_train = np.asarray(raw_data_train_label)\n",
        "Y_train\n",
        "\n",
        "print(X_train.shape)\n",
        "print(Y_train.shape)"
      ],
      "execution_count": 7,
      "outputs": [
        {
          "output_type": "stream",
          "name": "stdout",
          "text": [
            "(20000,)\n",
            "(20000,)\n"
          ]
        }
      ]
    },
    {
      "cell_type": "code",
      "metadata": {
        "colab": {
          "base_uri": "https://localhost:8080/"
        },
        "id": "J_pGa57e70GT",
        "outputId": "36c6ea2d-e259-4985-a0fd-a2edf55d7886"
      },
      "source": [
        "# Seperate raw data for validation set\n",
        "raw_data_val_text = raw_data_val[\"text\"]\n",
        "raw_data_val_label = raw_data_val[\"label\"]\n",
        "X_val = np.asarray(raw_data_val_text)\n",
        "Y_val = np.asarray(raw_data_val_label)\n",
        "Y_val\n",
        "print(X_val.shape)\n",
        "print(Y_val.shape)"
      ],
      "execution_count": 8,
      "outputs": [
        {
          "output_type": "stream",
          "name": "stdout",
          "text": [
            "(2000,)\n",
            "(2000,)\n"
          ]
        }
      ]
    },
    {
      "cell_type": "code",
      "metadata": {
        "colab": {
          "base_uri": "https://localhost:8080/"
        },
        "id": "SOmGN5-v71-L",
        "outputId": "14c3415a-c0e1-439f-ab2d-d88ec29467d6"
      },
      "source": [
        "# Seperate raw data for test set\n",
        "raw_data_test_text = raw_data_test[\"text\"]\n",
        "raw_data_test_label = raw_data_test[\"label\"]\n",
        "X_test = np.asarray(raw_data_test_text)\n",
        "Y_test = np.asarray(raw_data_test_label)\n",
        "print(X_test.shape)\n",
        "print(Y_test.shape)"
      ],
      "execution_count": 9,
      "outputs": [
        {
          "output_type": "stream",
          "name": "stdout",
          "text": [
            "(3000,)\n",
            "(3000,)\n"
          ]
        }
      ]
    },
    {
      "cell_type": "markdown",
      "metadata": {
        "id": "ICbXsDsDqRFA"
      },
      "source": [
        "### Data Pre-Processing\n",
        "To preform machine learning on text, need to first extract features for the text."
      ]
    },
    {
      "cell_type": "markdown",
      "metadata": {
        "id": "KfK94Xnxsmlw"
      },
      "source": [
        "#### Bag of Words (Vectorizing)\n",
        "For the bag of words method, each word in the training data set is given an integer ID, then for each data sample, count the number of occurrences of each word, and store the count of each word as a feature for the training sample.  \n",
        "\n",
        "Ex:  \n",
        "`Data sample 'i' = \"The quick brown fox jumped over the brown dog\"`  \n",
        "`if id for word \"brown\" = 3`  \n",
        "`store X[i, 3] = 2 (word count)`    \n",
        "\n",
        "This method implies that the number of features = number of unique words in all training samples. Number features is typically > 100,000.  \n",
        "\n",
        "Thus, if every sample had every word, then the size of the matrix would be 100,000 x 100,000 x 4 bytes, which is not very practical. Luckily, most features will be zero for most samples, as most features only contain a small subset of the total set of words in the data set. For this reason, we usually say that the bag of words features array are *high-dimensional sparse data sets*.  \n",
        "\n",
        "Will use scipy.sparse matrix to store data set features\n",
        "\n",
        "\n"
      ]
    },
    {
      "cell_type": "code",
      "metadata": {
        "colab": {
          "base_uri": "https://localhost:8080/"
        },
        "id": "DwiZn_7ErrzB",
        "outputId": "adc78f55-a6e4-461d-b372-0bdefa031f15"
      },
      "source": [
        "# Use sklearn.feature_extraction.text.CountVectorizer\n",
        "# To build a dictionary of features, and transform data samples into feature vectors\n",
        "count_vect = CountVectorizer()\n",
        "\n",
        "# training feature vectors\n",
        "X_train_counts = count_vect.fit_transform(raw_data_train_text)\n",
        "X_train_counts.shape"
      ],
      "execution_count": 10,
      "outputs": [
        {
          "output_type": "execute_result",
          "data": {
            "text/plain": [
              "(20000, 145402)"
            ]
          },
          "metadata": {},
          "execution_count": 10
        }
      ]
    },
    {
      "cell_type": "markdown",
      "metadata": {
        "id": "XgiRIKFYzQLg"
      },
      "source": [
        "#### Occurences -> Frequencies (Transforming)\n",
        "Occurence count is a good start, but is skewed towards longer documents. Longer text will on average have more occurences than shorter text. To compensate for this, we can look at term frequencies which is the number of occurences of a word in some text, divided by the total number of words in that text.  \n",
        "\n",
        "#### Downscale Word Weights\n",
        "Another pre-processing technique for text is to give higher weights to rarer words, and lower weights to words that appear frequently in the overall set of text. This is down by downscaling the weights of words that appear frequently in all texts.  \n",
        "\n",
        "These two approaches can be combined into something called tf-idf, or Term Frequency times Inverse Document Frequency. Can be computed using sklearn->TfidfTransformer."
      ]
    },
    {
      "cell_type": "code",
      "metadata": {
        "colab": {
          "base_uri": "https://localhost:8080/"
        },
        "id": "xNVBdsHYzosi",
        "outputId": "cbccfda1-3038-4ac2-c8a3-9120645e258b"
      },
      "source": [
        "tfidf_transformer = TfidfTransformer()\n",
        "# fit_transform combines fit and transform into one step\n",
        "X_train_tfidf = tfidf_transformer.fit_transform(X_train_counts)\n",
        "X_train_tfidf.shape"
      ],
      "execution_count": 11,
      "outputs": [
        {
          "output_type": "execute_result",
          "data": {
            "text/plain": [
              "(20000, 145402)"
            ]
          },
          "metadata": {},
          "execution_count": 11
        }
      ]
    },
    {
      "cell_type": "markdown",
      "metadata": {
        "id": "O9t-EmYM5mc7"
      },
      "source": [
        "#### Scaling Features / Reducing \\# Features\n"
      ]
    },
    {
      "cell_type": "code",
      "metadata": {
        "id": "lybjzj1dvs-d",
        "colab": {
          "base_uri": "https://localhost:8080/",
          "height": 312
        },
        "outputId": "b002db98-7e75-4512-efad-059f5149738b"
      },
      "source": [
        "# Remove default stop words\n",
        "cv = CountVectorizer(stop_words='english')\n",
        "X_train_counts = cv.fit_transform(X_train)\n",
        "print(\"# terms: \", X_train_counts.shape)\n",
        "tfidf_transformer = TfidfTransformer()\n",
        "X_train_freq = tfidf_transformer.fit_transform(X_train_counts)\n",
        "\n",
        "# Create dictionary of corpus freq and plot\n",
        "word_list = cv.get_feature_names()\n",
        "freq_list = np.asarray(X_train_freq.sum(axis=0))[0]\n",
        "freq_dict = dict(zip(word_list, freq_list))\n",
        "plot_zipf(freq_dict)"
      ],
      "execution_count": 18,
      "outputs": [
        {
          "output_type": "stream",
          "name": "stdout",
          "text": [
            "# terms:  (20000, 145094)\n"
          ]
        },
        {
          "output_type": "display_data",
          "data": {
            "image/png": "[encoded data removed]",
            "text/plain": [
              "<Figure size 432x288 with 1 Axes>"
            ]
          },
          "metadata": {
            "needs_background": "light"
          }
        }
      ]
    },
    {
      "cell_type": "code",
      "metadata": {
        "id": "9Qcuywe0uhSZ",
        "colab": {
          "base_uri": "https://localhost:8080/",
          "height": 590
        },
        "outputId": "c835a32f-9c82-49a4-f516-06a0d6529c6c"
      },
      "source": [
        "# Remove all words with only 1 occurence\n",
        "cv = CountVectorizer(min_df=2)\n",
        "X_train_counts = cv.fit_transform(X_train)\n",
        "print(\"# terms: \", X_train_counts.shape)\n",
        "tfidf_transformer = TfidfTransformer()\n",
        "X_train_freq = tfidf_transformer.fit_transform(X_train_counts)\n",
        "\n",
        "# Create dictionary of corpus freq and plot\n",
        "word_list = cv.get_feature_names()\n",
        "freq_list = np.asarray(X_train_freq.sum(axis=0))[0]\n",
        "freq_dict = dict(zip(word_list, freq_list))\n",
        "plot_zipf(freq_dict)\n",
        "\n",
        "# Also plot corpus zipf with count instead of frequency\n",
        "count_list = np.asarray(X_train_counts.sum(axis=0))[0]\n",
        "count_dict = dict(zip(word_list, count_list))\n",
        "plot_zipf(count_dict, ylabel=\"log( Word Occurence )\", xlabel=\"log( Word Occurence Rank )\")"
      ],
      "execution_count": 19,
      "outputs": [
        {
          "output_type": "stream",
          "name": "stdout",
          "text": [
            "# terms:  (20000, 70631)\n"
          ]
        },
        {
          "output_type": "display_data",
          "data": {
            "image/png": "[encoded data removed]",
            "text/plain": [
              "<Figure size 432x288 with 1 Axes>"
            ]
          },
          "metadata": {
            "needs_background": "light"
          }
        },
        {
          "output_type": "display_data",
          "data": {
            "image/png": "[encoded data removed]",
            "text/plain": [
              "<Figure size 432x288 with 1 Axes>"
            ]
          },
          "metadata": {
            "needs_background": "light"
          }
        }
      ]
    },
    {
      "cell_type": "code",
      "metadata": {
        "id": "WEZ5ItF9xNdG",
        "colab": {
          "base_uri": "https://localhost:8080/",
          "height": 346
        },
        "outputId": "d91e1fa2-e5bb-4daa-9bd3-e61ff73a60b3"
      },
      "source": [
        "# Remove words that appear too frequently\n",
        "max_df_test = 0.7\n",
        "cv = CountVectorizer(max_df=max_df_test)\n",
        "X_train_counts = cv.fit_transform(X_train)\n",
        "print(\"# terms: \", X_train_counts.shape)\n",
        "print(\"stop words for max_df=\", max_df_test,\": \")\n",
        "print(cv.stop_words_)\n",
        "tfidf_transformer = TfidfTransformer()\n",
        "X_train_freq = tfidf_transformer.fit_transform(X_train_counts)\n",
        "\n",
        "# Create dictionary of corpus freq and plot\n",
        "word_list = cv.get_feature_names()\n",
        "freq_list = np.asarray(X_train_freq.sum(axis=0))[0]\n",
        "freq_dict = dict(zip(word_list, freq_list))\n",
        "plot_zipf(freq_dict)"
      ],
      "execution_count": 20,
      "outputs": [
        {
          "output_type": "stream",
          "name": "stdout",
          "text": [
            "# terms:  (20000, 145379)\n",
            "stop words for max_df= 0.7 : \n",
            "{'from', 'has', 'this', 'it', 'in', 'the', 'have', 'was', 'but', 'for', 'an', 'that', 'be', 'is', 'by', 'of', 'and', 'as', 'to', 'at', 'on', 'with', 'are'}\n"
          ]
        },
        {
          "output_type": "display_data",
          "data": {
            "image/png": "[encoded data removed]",
            "text/plain": [
              "<Figure size 432x288 with 1 Axes>"
            ]
          },
          "metadata": {
            "needs_background": "light"
          }
        }
      ]
    },
    {
      "cell_type": "markdown",
      "metadata": {
        "id": "OVIHxGFzmB1B"
      },
      "source": [
        "#### Feature Visualization - Zipf's Law \n",
        "\n",
        "Zipf's law: plot of log(rank) vs log(freq) should be approx. straight line with slope = -1  \n",
        "x = log(index)  \n",
        "y = log(freq)  "
      ]
    },
    {
      "cell_type": "code",
      "metadata": {
        "id": "ulLNGKpJmB-U"
      },
      "source": [
        "# Start with dictionary: {(word: freq), ...}\n",
        "# Should work with frequency or count\n",
        "def plot_zipf(word_dict, xlabel=None, ylabel=None, save=None):\n",
        "  # Sort dictionary\n",
        "  counter = Counter(word_dict)\n",
        "  word_dict = counter.most_common()\n",
        "  logIndexs = list()\n",
        "  logCounts = list()\n",
        "  i = 1 # log(0) is undefined, so start rank at 1\n",
        "  for word in word_dict:\n",
        "    logIndexs.append(log(i))\n",
        "    word_freq = word[1]\n",
        "    logCounts.append(log(word_freq))\n",
        "    i += 1\n",
        "  # plot using matplotlib scatter\n",
        "  fig, ax = plt.subplots() # figsize=(10, 6)\n",
        "  ax.scatter(logIndexs, logCounts)\n",
        "  if xlabel == None:\n",
        "    xlabel = \"log( Word Frequency Rank )\"\n",
        "  ax.set_xlabel(xlabel)\n",
        "  if ylabel == None:\n",
        "    ylabel = \"log( Word Frequency )\"\n",
        "  ax.set_ylabel(ylabel)\n",
        "  ax.set_title(\"Visualizing Zipf's Law in Fake News Corpus\")\n",
        "  if save is not None:\n",
        "    fig.savefig(save)\n"
      ],
      "execution_count": 13,
      "outputs": []
    },
    {
      "cell_type": "code",
      "metadata": {
        "id": "OYnNREbBq7dH"
      },
      "source": [
        "cv = CountVectorizer()\n",
        "X_counts_test = cv.fit_transform(X_train)"
      ],
      "execution_count": 14,
      "outputs": []
    },
    {
      "cell_type": "code",
      "metadata": {
        "id": "46K1OCVMn94f",
        "colab": {
          "base_uri": "https://localhost:8080/",
          "height": 295
        },
        "outputId": "ed3833f3-00e3-4064-e029-7afebc438a9b"
      },
      "source": [
        "occurence_list = np.asarray(X_counts_test.sum(axis=0))[0]\n",
        "#print(list(occurence_list[0]))\n",
        "word_list = cv.get_feature_names()\n",
        "test_dict = dict(zip(word_list, occurence_list))\n",
        "\n",
        "plot_zipf(test_dict, ylabel=\"log( Word Occurence )\", xlabel=\"log( Word Occurence Rank )\", save=\"zipf_occur.png\")"
      ],
      "execution_count": 15,
      "outputs": [
        {
          "output_type": "display_data",
          "data": {
            "image/png": "[encoded data removed]",
            "text/plain": [
              "<Figure size 432x288 with 1 Axes>"
            ]
          },
          "metadata": {
            "needs_background": "light"
          }
        }
      ]
    },
    {
      "cell_type": "code",
      "metadata": {
        "id": "EMLWbuM_sNLA"
      },
      "source": [
        "# Zipf's Law with freq instead of occurence\n",
        "# First get frequencies from count using tfidf_transformer\n",
        "tfidf_transformer = TfidfTransformer()\n",
        "X_tfidf_test = tfidf_transformer.fit_transform(X_counts_test)"
      ],
      "execution_count": 16,
      "outputs": []
    },
    {
      "cell_type": "code",
      "metadata": {
        "id": "_YiAUjq9sput",
        "colab": {
          "base_uri": "https://localhost:8080/",
          "height": 295
        },
        "outputId": "ba081762-d21a-4e25-ae6d-258e8bd800d5"
      },
      "source": [
        "freq_list = np.asarray(X_tfidf_test.sum(axis=0))[0]\n",
        "#print(freq_list)\n",
        "freq_dict = dict(zip(word_list, freq_list))\n",
        "\n",
        "plot_zipf(freq_dict, save=\"zipf_freq.png\")"
      ],
      "execution_count": 17,
      "outputs": [
        {
          "output_type": "display_data",
          "data": {
            "image/png": "[encoded data removed]",
            "text/plain": [
              "<Figure size 432x288 with 1 Axes>"
            ]
          },
          "metadata": {
            "needs_background": "light"
          }
        }
      ]
    },
    {
      "cell_type": "markdown",
      "metadata": {
        "id": "PLYAELU0rsHs"
      },
      "source": [
        "### Model Training\n",
        "Linear model - Logistic Regression using sklearn.linear_model.LogisticRegression  \n",
        "\n",
        "Start with default parameters for Logistic Regression classifier:  \n",
        "- penalty  - norm of the penalty (default = 'l2')  \n",
        "- tol      - tolerance for stopping criteria (default = 1e-4)  \n",
        "- max_iter - Maximum number of iterations taken for the solvers to converge (default = 100) \n",
        "\n",
        "can also specify # cpus to use\n",
        "n_jobs = default = None: means 1, use -1 to specify all processors"
      ]
    },
    {
      "cell_type": "markdown",
      "metadata": {
        "id": "TRkRtxBq7SCb"
      },
      "source": [
        "#### Fit"
      ]
    },
    {
      "cell_type": "code",
      "metadata": {
        "id": "F-VqA9eCrsW2"
      },
      "source": [
        "\n",
        "# clf = classifier\n",
        "clf = LogisticRegression(penalty='l2', tol=1e-4, max_iter=1000, solver='saga')\n",
        "\n",
        "# fit classifier\n",
        "clf = clf.fit(X_train_tfidf, Y_train)\n",
        "\n"
      ],
      "execution_count": 25,
      "outputs": []
    },
    {
      "cell_type": "code",
      "metadata": {
        "colab": {
          "base_uri": "https://localhost:8080/"
        },
        "id": "SQSAs5M7MckH",
        "outputId": "5a8604b1-7442-490c-9910-630318e86557"
      },
      "source": [
        "# First need to apply same preprocessing to test dataset\n",
        "\n",
        "# also refit cv and tfidf transformers in case they have be modified\n",
        "count_vect = CountVectorizer()\n",
        "X_train_counts = count_vect.fit_transform(X_train)\n",
        "tfidf_transformer = TfidfTransformer()\n",
        "X_train_tfidf = tfidf_transformer.fit_transform(X_train_counts)\n",
        "\n",
        "X_test_counts = count_vect.transform(X_test)\n",
        "X_test_tfidf = tfidf_transformer.transform(X_test_counts)\n",
        "\n",
        "# Score\n",
        "Y_score = clf.decision_function(X_test_tfidf)\n",
        "Y_score"
      ],
      "execution_count": 34,
      "outputs": [
        {
          "output_type": "execute_result",
          "data": {
            "text/plain": [
              "array([ 0.52447739, -0.06038792,  0.97423826, ..., -0.46022243,\n",
              "        0.72943693,  0.31363839])"
            ]
          },
          "metadata": {},
          "execution_count": 34
        }
      ]
    },
    {
      "cell_type": "markdown",
      "metadata": {
        "id": "nQnrepY87The"
      },
      "source": [
        "#### Validate"
      ]
    },
    {
      "cell_type": "code",
      "metadata": {
        "colab": {
          "base_uri": "https://localhost:8080/"
        },
        "id": "BwkimEED7Upb",
        "outputId": "9cac268f-1874-4e51-d013-ab8d27c0030d"
      },
      "source": [
        "# Pre process validation data in same way as train data\n",
        "# But only transform data, as count_vectorizer and tfidf_transformer have already been\n",
        "# fit to training data (and don't want to fit to validation or test data)\n",
        "\n",
        "X_val_counts = count_vect.transform(raw_data_val_text)\n",
        "print(\"X_val_counts.shape: \", X_val_counts.shape)\n",
        "X_val_tfidf = tfidf_transformer.transform(X_val_counts)\n",
        "print(\"X_val_tfidf.shape: \", X_val_tfidf.shape)\n",
        "\n",
        "val_pred = clf.predict(X_val_tfidf)\n",
        "\n",
        "print(\"val_pred.shape: \", val_pred.shape)\n",
        "print(\"Y_val.shape: \", Y_val.shape)\n",
        "\n",
        "# Compare predicitions to labels\n",
        "np.mean(val_pred == Y_val)"
      ],
      "execution_count": 35,
      "outputs": [
        {
          "output_type": "stream",
          "name": "stdout",
          "text": [
            "X_val_counts.shape:  (2000, 145402)\n",
            "X_val_tfidf.shape:  (2000, 145402)\n",
            "val_pred.shape:  (2000,)\n",
            "Y_val.shape:  (2000,)\n"
          ]
        },
        {
          "output_type": "execute_result",
          "data": {
            "text/plain": [
              "0.731"
            ]
          },
          "metadata": {},
          "execution_count": 35
        }
      ]
    },
    {
      "cell_type": "markdown",
      "metadata": {
        "id": "k__mlSeV9pWy"
      },
      "source": [
        "### Pipeline (Data Pre-Processing + Model Training)\n",
        "In order to make our sequence of pre-processing and classifying easier, sklearn allows us to create a pipeline to apply the operations to a set of data: vectorizer->transformer->classifier.  \n",
        "- Vectorizer (\"vect\") = Bag of Words, transform text to counts of words in text\n",
        "- Transformer (\"tfidf\") = TF-IDF transform\n",
        "- Classifier (\"lr-clf\") = Logistic Regression classifier"
      ]
    },
    {
      "cell_type": "code",
      "metadata": {
        "id": "yiHfFd-i-EOY"
      },
      "source": [
        "text_pipeline = Pipeline([\n",
        "    (\"vect\", CountVectorizer()),\n",
        "    (\"tfidf\", TfidfTransformer()),\n",
        "    (\"lr-clf\", LogisticRegression(max_iter=500, solver='saga')),\n",
        "])"
      ],
      "execution_count": 36,
      "outputs": []
    },
    {
      "cell_type": "code",
      "metadata": {
        "colab": {
          "base_uri": "https://localhost:8080/"
        },
        "id": "xAtH1Sfy-sha",
        "outputId": "d817451f-284a-441d-fffc-b069cf2dc22f"
      },
      "source": [
        "# Can now train using a single command / function\n",
        "text_pipeline.fit(X_train, Y_train)"
      ],
      "execution_count": null,
      "outputs": [
        {
          "output_type": "execute_result",
          "data": {
            "text/plain": [
              "Pipeline(memory=None,\n",
              "         steps=[('vect',\n",
              "                 CountVectorizer(analyzer='word', binary=False,\n",
              "                                 decode_error='strict',\n",
              "                                 dtype=<class 'numpy.int64'>, encoding='utf-8',\n",
              "                                 input='content', lowercase=True, max_df=1.0,\n",
              "                                 max_features=None, min_df=1,\n",
              "                                 ngram_range=(1, 1), preprocessor=None,\n",
              "                                 stop_words=None, strip_accents=None,\n",
              "                                 token_pattern='(?u)\\\\b\\\\w\\\\w+\\\\b',\n",
              "                                 tokenizer=None, vocabulary=None)),\n",
              "                ('tfidf',\n",
              "                 TfidfTransformer(norm='l2', smooth_idf=True,\n",
              "                                  sublinear_tf=False, use_idf=True)),\n",
              "                ('lr-clf',\n",
              "                 LogisticRegression(C=1.0, class_weight=None, dual=False,\n",
              "                                    fit_intercept=True, intercept_scaling=1,\n",
              "                                    l1_ratio=None, max_iter=500,\n",
              "                                    multi_class='auto', n_jobs=None,\n",
              "                                    penalty='l2', random_state=None,\n",
              "                                    solver='saga', tol=0.0001, verbose=0,\n",
              "                                    warm_start=False))],\n",
              "         verbose=False)"
            ]
          },
          "metadata": {},
          "execution_count": 19
        }
      ]
    },
    {
      "cell_type": "code",
      "metadata": {
        "colab": {
          "base_uri": "https://localhost:8080/"
        },
        "id": "maWUNYZ8_vaT",
        "outputId": "96e5dbf3-5538-4ea9-ea85-e7238ff7556b"
      },
      "source": [
        "# Train pipeline using train set\n",
        "text_pipeline.score(raw_data_train_text, Y_train)"
      ],
      "execution_count": null,
      "outputs": [
        {
          "output_type": "execute_result",
          "data": {
            "text/plain": [
              "0.85525"
            ]
          },
          "metadata": {},
          "execution_count": 17
        }
      ]
    },
    {
      "cell_type": "code",
      "metadata": {
        "colab": {
          "base_uri": "https://localhost:8080/"
        },
        "id": "9kaAuBPsAQzm",
        "outputId": "25d715b2-6178-4850-9250-07338a7333cf"
      },
      "source": [
        "# Predict labels for train set using pipeline\n",
        "Y_pred = text_pipeline.predict(raw_data_train_text)\n",
        "#print(\"Y_pred.shape: \", Y_pred.shape, \", Y_train.shape: \", Y_train.shape)\n",
        "acc = np.mean(Y_pred == Y_train)\n",
        "print(acc)"
      ],
      "execution_count": null,
      "outputs": [
        {
          "output_type": "stream",
          "name": "stdout",
          "text": [
            "0.85525\n"
          ]
        }
      ]
    },
    {
      "cell_type": "code",
      "metadata": {
        "colab": {
          "base_uri": "https://localhost:8080/"
        },
        "id": "WppegNW5_Vu6",
        "outputId": "99e17c6f-1637-4f71-df79-2cb711a242da"
      },
      "source": [
        "# Validate using pipeline\n",
        "Y_pred = text_pipeline.predict(raw_data_val_text)\n",
        "#print(\"Y_pred.shape: \", Y_pred.shape, \", Y_val.shape: \", Y_val.shape)\n",
        "acc = np.mean(Y_pred == Y_val)\n",
        "print(acc)"
      ],
      "execution_count": null,
      "outputs": [
        {
          "output_type": "stream",
          "name": "stdout",
          "text": [
            "0.731\n"
          ]
        }
      ]
    },
    {
      "cell_type": "markdown",
      "metadata": {
        "id": "9A1umbRo3dBC"
      },
      "source": [
        "### Parameter Tuning\n",
        "\n",
        "First using grid search and then random search or other methods..\n",
        "\n",
        "tol: float, default=1e-4\n",
        "Tolerance for stopping criteria.\n",
        "\n",
        "C: float, default=1.0\n",
        "Inverse of regularization strength; must be a positive float. Like in support vector machines, smaller values specify stronger regularization."
      ]
    },
    {
      "cell_type": "markdown",
      "metadata": {
        "id": "_C2WI8ebL2po"
      },
      "source": [
        "#### Grid Search"
      ]
    },
    {
      "cell_type": "code",
      "metadata": {
        "colab": {
          "base_uri": "https://localhost:8080/"
        },
        "id": "roI7nYTt3n37",
        "outputId": "414f288c-f5cb-4d31-cd61-c4d57d09a213"
      },
      "source": [
        "parameters = {\n",
        "    'vect__ngram_range': [(1,1), (1,2)],\n",
        "    'tfidf__use_idf': (True, False),\n",
        "    'lr-clf__penalty': [None, 'l1', 'l2', 'elasticnet'],\n",
        "    'lr-clf__tol': [1e-4, 1e-3, 1e-2], # tolerance for gradient decsent stopping criteria\n",
        "    'lr-clf__C': [1,2], # regularization parameter\n",
        "    'lr-clf__random_state': [None, 1], # shuffled vs unshuffled\n",
        "    'lr-clf__max_iter': [100, 500, 1000, 5000]\n",
        "}\n",
        "parameters = {\n",
        "    'vect__ngram_range': [(1,1), (1,2)]\n",
        "}\n",
        "print(text_pipeline.get_params().keys())"
      ],
      "execution_count": null,
      "outputs": [
        {
          "output_type": "stream",
          "name": "stdout",
          "text": [
            "dict_keys(['memory', 'steps', 'verbose', 'vect', 'tfidf', 'lr-clf', 'vect__analyzer', 'vect__binary', 'vect__decode_error', 'vect__dtype', 'vect__encoding', 'vect__input', 'vect__lowercase', 'vect__max_df', 'vect__max_features', 'vect__min_df', 'vect__ngram_range', 'vect__preprocessor', 'vect__stop_words', 'vect__strip_accents', 'vect__token_pattern', 'vect__tokenizer', 'vect__vocabulary', 'tfidf__norm', 'tfidf__smooth_idf', 'tfidf__sublinear_tf', 'tfidf__use_idf', 'lr-clf__C', 'lr-clf__class_weight', 'lr-clf__dual', 'lr-clf__fit_intercept', 'lr-clf__intercept_scaling', 'lr-clf__l1_ratio', 'lr-clf__max_iter', 'lr-clf__multi_class', 'lr-clf__n_jobs', 'lr-clf__penalty', 'lr-clf__random_state', 'lr-clf__solver', 'lr-clf__tol', 'lr-clf__verbose', 'lr-clf__warm_start'])\n"
          ]
        }
      ]
    },
    {
      "cell_type": "code",
      "metadata": {
        "colab": {
          "base_uri": "https://localhost:8080/"
        },
        "id": "i11N4atIQgy5",
        "outputId": "b3265157-09b0-4343-c85a-2561f78f9b68"
      },
      "source": [
        "gs_clf = GridSearchCV(text_pipeline, parameters, cv=5, n_jobs=-1)\n",
        "gs_clf = gs_clf.fit(X_train, Y_train)\n",
        "gs_clf.predict(X_test)\n",
        "gs_clf.best_score_\n",
        "gs_clf.best_params_"
      ],
      "execution_count": null,
      "outputs": [
        {
          "output_type": "stream",
          "name": "stderr",
          "text": [
            "/usr/local/lib/python3.7/dist-packages/joblib/externals/loky/process_executor.py:691: UserWarning: A worker stopped while some jobs were given to the executor. This can be caused by a too short worker timeout or by a memory leak.\n",
            "  \"timeout or by a memory leak.\", UserWarning\n"
          ]
        },
        {
          "output_type": "execute_result",
          "data": {
            "text/plain": [
              "0.71415"
            ]
          },
          "metadata": {},
          "execution_count": 101
        }
      ]
    },
    {
      "cell_type": "markdown",
      "metadata": {
        "id": "UDH8jn8sx24E"
      },
      "source": [
        "Parameter tuning, but focusing on parameters for preprocessing rather than classifying"
      ]
    },
    {
      "cell_type": "code",
      "metadata": {
        "id": "FgSPRqc7ycH1"
      },
      "source": [
        "tuning_pipeline = Pipeline([\n",
        "    (\"vect\", CountVectorizer(tokenizer=LemmaTokenizer())),\n",
        "    (\"tfidf\", TfidfTransformer()),\n",
        "    (\"lr-clf\", LogisticRegression(max_iter=500, random_state=0)),\n",
        "])"
      ],
      "execution_count": null,
      "outputs": []
    },
    {
      "cell_type": "code",
      "metadata": {
        "id": "dKSZDFsqx-KD",
        "colab": {
          "base_uri": "https://localhost:8080/"
        },
        "outputId": "aec55769-5bf3-438f-a040-b8cfa5f50e6c"
      },
      "source": [
        "parameters = {\n",
        "    #'vect__max_df': [1.0, 0.6, 0.7, 0.8], # default = 1.0\n",
        "    'vect__max_features': [10000, 50000, None], # default = None\n",
        "    'vect__min_df': [1, 2, 3], # default = 1\n",
        "    'vect__ngram_range': [(1,1), (1,2), (2,2)], # default = (1,1)\n",
        "    #'vect__stop_words': [None, 'english'], # default = None\n",
        "    #'vect__strip_accents': [None, 'ascii'], # default = None\n",
        "    #'vect__tokenizer': [None, LemmaTokenizer()], # default = None\n",
        "    'tfidf__use_idf': (True, False), # default = True\n",
        "    #'lr-clf__random_state': [None, 1], # shuffled vs unshuffled\n",
        "}\n",
        "print(parameters)"
      ],
      "execution_count": 38,
      "outputs": [
        {
          "output_type": "stream",
          "name": "stdout",
          "text": [
            "{'vect__max_features': [10000, 50000, None], 'vect__min_df': [1, 2, 3], 'vect__ngram_range': [(1, 1), (1, 2), (2, 2)], 'tfidf__use_idf': (True, False)}\n"
          ]
        }
      ]
    },
    {
      "cell_type": "code",
      "metadata": {
        "id": "e1PMQY1IUlfd"
      },
      "source": [
        "# Reduce training dataset size to speedup parameter searching\n",
        "param_train_X = X_train[:1000]\n",
        "param_train_Y = Y_train[:1000]\n",
        "param_training = list(zip(param_train_X, param_train_Y))\n",
        "#print(param_training[0])\n",
        "# shuffle list\n",
        "random.seed(0)\n",
        "random.shuffle(param_training)\n",
        "param_train_X = list()\n",
        "param_train_Y = list()\n",
        "for data in param_training:\n",
        "  param_train_X.append(data[0])\n",
        "  param_train_Y.append(data[1])\n",
        "#print(param_train_X[0])\n",
        "#print(param_train_Y[0])"
      ],
      "execution_count": null,
      "outputs": []
    },
    {
      "cell_type": "code",
      "metadata": {
        "id": "UEFIoymf0DK8",
        "colab": {
          "base_uri": "https://localhost:8080/"
        },
        "outputId": "1df95242-8c2e-4455-fda6-a09dd04451cd"
      },
      "source": [
        "\n",
        "param_search = GridSearchCV(text_pipeline, parameters, cv=5, n_jobs=-1)\n",
        "param_search = param_search.fit(param_train_X, param_train_Y)\n",
        "#param_search.predict(X_test)\n",
        "print(param_search.best_score_)\n",
        "print(param_search.best_params_)"
      ],
      "execution_count": null,
      "outputs": [
        {
          "output_type": "stream",
          "name": "stdout",
          "text": [
            "0.617\n",
            "{'tfidf__use_idf': False, 'vect__max_features': 10000, 'vect__min_df': 1, 'vect__ngram_range': (1, 2)}\n"
          ]
        }
      ]
    },
    {
      "cell_type": "markdown",
      "metadata": {
        "id": "BMz5yavuZFn1"
      },
      "source": [
        "```{'tfidf__use_idf': False, 'vect__max_features': 10000, 'vect__min_df': 1, 'vect__ngram_range': (1, 2)}``` on full dataset gave acc: 0.699\n",
        "\n",
        "```{'tfidf__use_idf': False, 'vect__max_features': None, 'vect__min_df': 1, 'vect__ngram_range': (1, 2)}``` on full dataset gave acc: 0.699\n",
        "\n",
        "```{'tfidf__use_idf': True, 'vect__max_features': None, 'vect__min_df': 1, 'vect__ngram_range': (1, 2)}``` on full dataset gave acc: 0.697666"
      ]
    },
    {
      "cell_type": "code",
      "metadata": {
        "id": "qy_kdY0KXwMo",
        "colab": {
          "base_uri": "https://localhost:8080/"
        },
        "outputId": "0d863cce-bbae-46f7-ddf4-8c7117e13ca3"
      },
      "source": [
        "best_param_pipeline = Pipeline([\n",
        "    (\"vect\", CountVectorizer(max_features=None,min_df=1,ngram_range=(1,2))),\n",
        "    (\"tfidf\", TfidfTransformer(use_idf=True)),\n",
        "    (\"lr-clf\", LogisticRegression(max_iter=500, solver='saga')),\n",
        "])\n",
        "fitted_param_pipeline = best_param_pipeline.fit(X_train, Y_train)\n",
        "Y_pred = best_param_pipeline.predict(X_test)\n",
        "Y_param_score = fitted_param_pipeline.decision_function(X_test)\n",
        "acc = np.mean(Y_pred == Y_test)\n",
        "print(acc)"
      ],
      "execution_count": 23,
      "outputs": [
        {
          "output_type": "stream",
          "name": "stdout",
          "text": [
            "0.697\n"
          ]
        }
      ]
    },
    {
      "cell_type": "markdown",
      "metadata": {
        "id": "HLMrgwFMlebV"
      },
      "source": [
        "#### Random Search \n",
        "\n",
        "with All Params"
      ]
    },
    {
      "cell_type": "code",
      "metadata": {
        "id": "j7yRhRxc1Xk_",
        "colab": {
          "base_uri": "https://localhost:8080/"
        },
        "outputId": "aa0cd397-3254-40fa-989a-fcd93f9de99e"
      },
      "source": [
        "param_search = RandomizedSearchCV(text_pipeline, parameters, cv=5, n_jobs=-1)\n",
        "param_search = param_search.fit(X_train, Y_train)\n",
        "#param_search.predict(X_test)\n",
        "print(param_search.best_score_)\n",
        "print(param_search.best_params_)"
      ],
      "execution_count": null,
      "outputs": [
        {
          "output_type": "stream",
          "name": "stderr",
          "text": [
            "/usr/local/lib/python3.7/dist-packages/joblib/externals/loky/process_executor.py:691: UserWarning: A worker stopped while some jobs were given to the executor. This can be caused by a too short worker timeout or by a memory leak.\n",
            "  \"timeout or by a memory leak.\", UserWarning\n"
          ]
        }
      ]
    },
    {
      "cell_type": "markdown",
      "metadata": {
        "id": "RdhG5B4wGacR"
      },
      "source": [
        "#### Individual Parameter Tuning\n",
        "\n",
        "Searching all parameters at once (Grid or Random search) is really slow, so first try tuning just one parameter at a time."
      ]
    },
    {
      "cell_type": "markdown",
      "metadata": {
        "id": "JIw1glCY11Ft"
      },
      "source": [
        "Max_Df parameter tuning\n"
      ]
    },
    {
      "cell_type": "code",
      "metadata": {
        "id": "e1Ipkia113l_",
        "colab": {
          "base_uri": "https://localhost:8080/"
        },
        "outputId": "e0307b9e-7f6b-4f82-df12-572dcb170113"
      },
      "source": [
        "parameters = {'vect__max_df': [1.0, 0.6, 0.7, 0.8]}\n",
        "param_search = GridSearchCV(text_pipeline, parameters, cv=5, n_jobs=-1)\n",
        "param_search = param_search.fit(X_train, Y_train)\n",
        "param_search.predict(X_test)\n",
        "print(param_search.best_score_)\n",
        "print(param_search.best_params_)"
      ],
      "execution_count": null,
      "outputs": [
        {
          "output_type": "stream",
          "name": "stdout",
          "text": [
            "0.71415\n",
            "{'vect__max_df': 1.0}\n"
          ]
        }
      ]
    },
    {
      "cell_type": "code",
      "metadata": {
        "id": "aiYqcqd0ECeQ",
        "colab": {
          "base_uri": "https://localhost:8080/"
        },
        "outputId": "4b2aa6a2-d4e4-4efa-cbd5-d4b37cf550ef"
      },
      "source": [
        "test_mindf_pipeline = Pipeline([\n",
        "    (\"vect\", CountVectorizer(max_df=0.7)),\n",
        "    (\"tfidf\", TfidfTransformer()),\n",
        "    (\"lr-clf\", LogisticRegression(max_iter=5000)),\n",
        "])\n",
        "test_mindf_pipeline.fit(X_train, Y_train)\n",
        "Y_pred = test_mindf_pipeline.predict(X_test)\n",
        "acc = np.mean(Y_pred == Y_test)\n",
        "print(acc)"
      ],
      "execution_count": null,
      "outputs": [
        {
          "output_type": "stream",
          "name": "stdout",
          "text": [
            "0.709\n"
          ]
        }
      ]
    },
    {
      "cell_type": "markdown",
      "metadata": {
        "id": "Svb4Vu1h4Az3"
      },
      "source": [
        "min_df parameter tuning"
      ]
    },
    {
      "cell_type": "code",
      "metadata": {
        "id": "w35K8Ism4CaE",
        "colab": {
          "base_uri": "https://localhost:8080/"
        },
        "outputId": "0aeaea3b-4799-4f52-cfd1-61923d59f3fc"
      },
      "source": [
        "test_mindf_pipeline = Pipeline([\n",
        "    (\"vect\", CountVectorizer(min_df=2)),\n",
        "    (\"tfidf\", TfidfTransformer()),\n",
        "    (\"lr-clf\", LogisticRegression(max_iter=5000)),\n",
        "])\n",
        "test_mindf_pipeline.fit(X_train, Y_train)\n",
        "Y_pred = test_mindf_pipeline.predict(X_test)\n",
        "acc = np.mean(Y_pred == Y_test)\n",
        "print(acc)"
      ],
      "execution_count": null,
      "outputs": [
        {
          "output_type": "stream",
          "name": "stdout",
          "text": [
            "0.713\n"
          ]
        }
      ]
    },
    {
      "cell_type": "markdown",
      "metadata": {
        "id": "Jm4k2w69Su_c"
      },
      "source": [
        "Stop word tuning"
      ]
    },
    {
      "cell_type": "code",
      "metadata": {
        "id": "fP2_1icQSvIT",
        "colab": {
          "base_uri": "https://localhost:8080/"
        },
        "outputId": "aab908f1-48ed-4952-d7ea-ad3f7f2e6201"
      },
      "source": [
        "test_stopword_pipeline = Pipeline([\n",
        "    (\"vect\", CountVectorizer(stop_words='english')),\n",
        "    (\"tfidf\", TfidfTransformer()),\n",
        "    (\"lr-clf\", LogisticRegression()),\n",
        "])\n",
        "test_stopword_pipeline.fit(X_train, Y_train)\n",
        "print(\"num features: \", len(test_stopword_pipeline['vect'].get_feature_names()))\n",
        "Y_pred = test_stopword_pipeline.predict(X_test)\n",
        "acc = np.mean(Y_pred == Y_test)\n",
        "print(acc)"
      ],
      "execution_count": null,
      "outputs": [
        {
          "output_type": "stream",
          "name": "stdout",
          "text": [
            "num features:  145094\n",
            "0.6856666666666666\n"
          ]
        }
      ]
    },
    {
      "cell_type": "markdown",
      "metadata": {
        "id": "zmZzO0qHTgaO"
      },
      "source": [
        "IDF vs No-IDF tuning"
      ]
    },
    {
      "cell_type": "code",
      "metadata": {
        "id": "MwCjFdsWTgid",
        "colab": {
          "base_uri": "https://localhost:8080/"
        },
        "outputId": "77c09ed7-7431-4b03-aa36-5f5554ea856a"
      },
      "source": [
        "test_noidf_pipeline = Pipeline([\n",
        "    (\"vect\", CountVectorizer()),\n",
        "    (\"tfidf\", TfidfTransformer(use_idf=False)),\n",
        "    (\"lr-clf\", LogisticRegression()),\n",
        "])\n",
        "test_noidf_pipeline.fit(X_train, Y_train)\n",
        "Y_pred = test_noidf_pipeline.predict(X_test)\n",
        "acc = np.mean(Y_pred == Y_test)\n",
        "print(acc)"
      ],
      "execution_count": null,
      "outputs": [
        {
          "output_type": "stream",
          "name": "stderr",
          "text": [
            "/usr/local/lib/python3.7/dist-packages/sklearn/linear_model/_logistic.py:940: ConvergenceWarning: lbfgs failed to converge (status=1):\n",
            "STOP: TOTAL NO. of ITERATIONS REACHED LIMIT.\n",
            "\n",
            "Increase the number of iterations (max_iter) or scale the data as shown in:\n",
            "    https://scikit-learn.org/stable/modules/preprocessing.html\n",
            "Please also refer to the documentation for alternative solver options:\n",
            "    https://scikit-learn.org/stable/modules/linear_model.html#logistic-regression\n",
            "  extra_warning_msg=_LOGISTIC_SOLVER_CONVERGENCE_MSG)\n"
          ]
        },
        {
          "output_type": "stream",
          "name": "stdout",
          "text": [
            "0.6833333333333333\n"
          ]
        }
      ]
    },
    {
      "cell_type": "markdown",
      "metadata": {
        "id": "xJE0Y2zm5s8v"
      },
      "source": [
        "n-grams parameter tuning  \n",
        "\n",
        "Big help!!!  \n",
        "ngram_range=(1,2) results in acc = 0.76633....  (with max_iter = 5000)   \n",
        "ngram_range=(1,2) results in acc = 0.76466....  (with max_iter = 500) \n",
        "\n",
        "ngram_range=(2,2) results in acc = "
      ]
    },
    {
      "cell_type": "code",
      "metadata": {
        "id": "qAEz9BbX5tFt",
        "colab": {
          "base_uri": "https://localhost:8080/"
        },
        "outputId": "015409fe-6343-454e-d3d2-61a4a2e84632"
      },
      "source": [
        "test_ngrams_pipeline = Pipeline([\n",
        "    (\"vect\", CountVectorizer(max_features=10000,ngram_range=(1, 2))),\n",
        "    (\"tfidf\", TfidfTransformer()),\n",
        "    (\"lr-clf\", LogisticRegression(max_iter=5000, solver='saga')),\n",
        "])\n",
        "test_ngrams_pipeline.fit(X_train, Y_train)\n",
        "Y_pred = test_ngrams_pipeline.predict(X_test)\n",
        "acc = np.mean(Y_pred == Y_test)\n",
        "print(acc)"
      ],
      "execution_count": null,
      "outputs": [
        {
          "output_type": "stream",
          "name": "stdout",
          "text": [
            "0.7256666666666667\n"
          ]
        }
      ]
    },
    {
      "cell_type": "markdown",
      "metadata": {
        "id": "JUymoObg6IcT"
      },
      "source": [
        "Lemmatizer tuning  \n",
        "Gained 1% accuray using lemmatizer!!"
      ]
    },
    {
      "cell_type": "code",
      "metadata": {
        "id": "rzaQIa5Q6Kty",
        "colab": {
          "base_uri": "https://localhost:8080/"
        },
        "outputId": "26c0a6cb-8bcc-4e46-d656-b1944c0d3e26"
      },
      "source": [
        "test_mindf_pipeline = Pipeline([\n",
        "    (\"vect\", CountVectorizer(tokenizer = LemmaTokenizer(), min_df=2)),\n",
        "    (\"tfidf\", TfidfTransformer()),\n",
        "    (\"lr-clf\", LogisticRegression(max_iter=5000, solver='saga')),\n",
        "])\n",
        "fitted_lemma_pipeline = test_mindf_pipeline.fit(X_train, Y_train)\n",
        "Y_pred = test_mindf_pipeline.predict(X_test)\n",
        "acc = np.mean(Y_pred == Y_test)\n",
        "print(acc)"
      ],
      "execution_count": null,
      "outputs": [
        {
          "output_type": "stream",
          "name": "stdout",
          "text": [
            "0.72\n"
          ]
        }
      ]
    },
    {
      "cell_type": "code",
      "metadata": {
        "id": "_i7Kyg8T8B9R"
      },
      "source": [
        "Y_score_lemma = fitted_lemma_pipeline.decision_function(X_test)"
      ],
      "execution_count": null,
      "outputs": []
    },
    {
      "cell_type": "markdown",
      "metadata": {
        "id": "v1e8r9ZmES2Y"
      },
      "source": [
        "Classifier Tuning\n",
        "\n",
        "SGD classifier gives way lower accuracy: 0.59 (SGD) vs 0.71 (Lin Reg)"
      ]
    },
    {
      "cell_type": "code",
      "metadata": {
        "id": "oGd3TyayES_r",
        "colab": {
          "base_uri": "https://localhost:8080/"
        },
        "outputId": "8229883e-06ce-4336-ba8a-674edab54575"
      },
      "source": [
        "test_svm_pipeline = Pipeline([\n",
        "    (\"vect\", CountVectorizer(tokenizer = LemmaTokenizer(), min_df=2)),\n",
        "    (\"tfidf\", TfidfTransformer()),\n",
        "    (\"svm-clf\", SGDClassifier(loss='hinge', penalty='l2',\n",
        "                              alpha=1e-3, random_state=42,\n",
        "                              max_iter=500, tol=None)),\n",
        "])\n",
        "fitted_svm_pipeline = test_svm_pipeline.fit(X_train, Y_train)\n",
        "Y_score_svm = fitted_svm_pipeline.decision_function(X_test)\n",
        "Y_pred = test_svm_pipeline.predict(X_test)\n",
        "acc = np.mean(Y_pred == Y_test)\n",
        "print(acc)"
      ],
      "execution_count": null,
      "outputs": [
        {
          "output_type": "stream",
          "name": "stdout",
          "text": [
            "0.59\n"
          ]
        }
      ]
    },
    {
      "cell_type": "code",
      "metadata": {
        "id": "m3bQA-WWJbo2",
        "colab": {
          "base_uri": "https://localhost:8080/"
        },
        "outputId": "667209c2-a990-45d7-bb32-3e8aae927c1f"
      },
      "source": [
        "test_tree_pipeline = Pipeline([\n",
        "    (\"vect\", CountVectorizer(tokenizer = LemmaTokenizer(), min_df=2)),\n",
        "    (\"tfidf\", TfidfTransformer()),\n",
        "    (\"tree-clf\", RandomForestClassifier(max_depth=2, random_state=0)),\n",
        "])\n",
        "fitted_tree_pipeline = test_tree_pipeline.fit(X_train, Y_train)\n",
        "#Y_score_tree = fitted_tree_pipeline.decision_function(X_test)\n",
        "Y_pred = test_tree_pipeline.predict(X_test)\n",
        "acc = np.mean(Y_pred == Y_test)\n",
        "print(acc)"
      ],
      "execution_count": null,
      "outputs": [
        {
          "output_type": "stream",
          "name": "stdout",
          "text": [
            "0.59\n"
          ]
        }
      ]
    },
    {
      "cell_type": "markdown",
      "metadata": {
        "id": "Px2g5iI0_EVF"
      },
      "source": [
        "### Model Evalutation (testing)\n",
        "Now test performance of model using testing data"
      ]
    },
    {
      "cell_type": "markdown",
      "metadata": {
        "id": "jmRaZarKB3W2"
      },
      "source": [
        "#### Test accuracy"
      ]
    },
    {
      "cell_type": "code",
      "metadata": {
        "colab": {
          "base_uri": "https://localhost:8080/"
        },
        "id": "keQx08nQBhus",
        "outputId": "f81e26d6-c07a-4cfd-9e0b-3bf1780a8972"
      },
      "source": [
        "# Test model acc with test data\n",
        "Y_pred = text_pipeline.predict(X_test)\n",
        "acc = np.mean(Y_pred == Y_test)\n",
        "print(acc)"
      ],
      "execution_count": null,
      "outputs": [
        {
          "output_type": "stream",
          "name": "stdout",
          "text": [
            "0.71\n"
          ]
        }
      ]
    },
    {
      "cell_type": "code",
      "metadata": {
        "colab": {
          "base_uri": "https://localhost:8080/"
        },
        "id": "TuWb3ZR5Chk4",
        "outputId": "fab87899-a184-42a8-8ecb-1042c4642fdc"
      },
      "source": [
        "# Get score\n",
        "#print(X_train.ravel().shape)\n",
        "#print(Y_train.shape)\n",
        "#print(Y_test.shape)\n",
        "fitted_pipeline = text_pipeline.fit(X_train.ravel(), Y_train)\n",
        "#print(len(Y_train.tolist()))\n",
        "Y_score = fitted_pipeline.decision_function(X_test)\n",
        "Y_score.shape"
      ],
      "execution_count": null,
      "outputs": [
        {
          "output_type": "execute_result",
          "data": {
            "text/plain": [
              "(3000,)"
            ]
          },
          "metadata": {},
          "execution_count": 80
        }
      ]
    },
    {
      "cell_type": "code",
      "metadata": {
        "colab": {
          "base_uri": "https://localhost:8080/"
        },
        "id": "jAlFEXInOxdn",
        "outputId": "6c5a5f0e-53ee-4191-bbb3-c173242ca35c"
      },
      "source": [
        "X_test.shape"
      ],
      "execution_count": null,
      "outputs": [
        {
          "output_type": "execute_result",
          "data": {
            "text/plain": [
              "(3000,)"
            ]
          },
          "metadata": {},
          "execution_count": 81
        }
      ]
    },
    {
      "cell_type": "markdown",
      "metadata": {
        "id": "xK0eFdQRB5J-"
      },
      "source": [
        "#### Model Metrics\n",
        "\n",
        "Confusion matrix  \n",
        "ROC curve\n"
      ]
    },
    {
      "cell_type": "code",
      "metadata": {
        "colab": {
          "base_uri": "https://localhost:8080/"
        },
        "id": "8zWMHpMcB0gG",
        "outputId": "59dd7ab7-0788-43dc-c098-04fbef30a5fb"
      },
      "source": [
        "# Confusion matrix for binary classification: \n",
        "conf_matrix = metrics.confusion_matrix(Y_test, Y_pred)\n",
        "conf_matrix"
      ],
      "execution_count": null,
      "outputs": [
        {
          "output_type": "execute_result",
          "data": {
            "text/plain": [
              "array([[ 554,  676],\n",
              "       [ 194, 1576]])"
            ]
          },
          "metadata": {},
          "execution_count": 85
        }
      ]
    },
    {
      "cell_type": "markdown",
      "metadata": {
        "id": "_MTyeikw0rBG"
      },
      "source": [
        "##### ROC curve for default pipeline"
      ]
    },
    {
      "cell_type": "code",
      "metadata": {
        "id": "9f3odcQcB1Q6"
      },
      "source": [
        "# Compute ROC curve and ROC area\n",
        "fprs = list()\n",
        "tprs = list()\n",
        "fprs, tprs, thresholds = roc_curve(Y_test, Y_score)\n",
        "roc_auc = auc(fprs, tprs)"
      ],
      "execution_count": null,
      "outputs": []
    },
    {
      "cell_type": "code",
      "metadata": {
        "colab": {
          "base_uri": "https://localhost:8080/",
          "height": 295
        },
        "id": "84xGsbXDD_QD",
        "outputId": "37100c5d-7fbf-4024-f0d4-226e274c5b1a"
      },
      "source": [
        "#Plot ROC Curve\n",
        "plt.figure()\n",
        "lw = 2\n",
        "plt.plot(fprs, tprs, color='darkorange',\n",
        "         lw=lw, label='ROC curve (area = %0.2f)' % roc_auc)\n",
        "plt.plot([0, 1], [0, 1], color='navy', lw=lw, linestyle='--')\n",
        "plt.xlim([0.0, 1.0])\n",
        "plt.ylim([0.0, 1.05])\n",
        "plt.xlabel('False Positive Rate')\n",
        "plt.ylabel('True Positive Rate')\n",
        "plt.title('Receiver operating characteristic no parameter tuning')\n",
        "plt.legend(loc=\"lower right\")\n",
        "plt.show()"
      ],
      "execution_count": null,
      "outputs": [
        {
          "output_type": "display_data",
          "data": {
            "image/png": "[encoded data removed]",
            "text/plain": [
              "<Figure size 432x288 with 1 Axes>"
            ]
          },
          "metadata": {
            "needs_background": "light"
          }
        }
      ]
    },
    {
      "cell_type": "markdown",
      "metadata": {
        "id": "MxJOUAlj0wao"
      },
      "source": [
        "##### ROC curve for best fit from param search\n"
      ]
    },
    {
      "cell_type": "code",
      "metadata": {
        "id": "Yg9043wOfZ0y",
        "colab": {
          "base_uri": "https://localhost:8080/"
        },
        "outputId": "d9e9a220-e11f-4012-9685-8a48958e0e6d"
      },
      "source": [
        "best_params_pipeline = Pipeline([\n",
        "    (\"vect\", CountVectorizer(ngram_range=(1, 2))),\n",
        "    (\"tfidf\", TfidfTransformer(use_idf=True)),\n",
        "    (\"lr-clf\", LogisticRegression(max_iter=1000)),\n",
        "])\n",
        "fitted_best_params_pipeline = best_params_pipeline.fit(X_train, Y_train)\n",
        "Y_score_best_params = fitted_best_params_pipeline.decision_function(X_test)\n",
        "Y_pred = best_params_pipeline.predict(X_test)\n",
        "acc = np.mean(Y_pred == Y_test)\n",
        "print(acc)"
      ],
      "execution_count": null,
      "outputs": [
        {
          "output_type": "stream",
          "name": "stdout",
          "text": [
            "0.6976666666666667\n"
          ]
        }
      ]
    },
    {
      "cell_type": "code",
      "metadata": {
        "id": "MWRFJogaBHE-"
      },
      "source": [
        "# Compute ROC curve and ROC area\n",
        "fprs = list()\n",
        "tprs = list()\n",
        "fprs, tprs, thresholds = roc_curve(Y_test, Y_score_best_params)\n",
        "roc_auc = auc(fprs, tprs)"
      ],
      "execution_count": null,
      "outputs": []
    },
    {
      "cell_type": "code",
      "metadata": {
        "id": "ENMYGoXaBCwW",
        "colab": {
          "base_uri": "https://localhost:8080/",
          "height": 295
        },
        "outputId": "af18c20d-582a-4aae-8f37-b0094d6abc5b"
      },
      "source": [
        "#Plot ROC Curve\n",
        "plt.figure()\n",
        "lw = 2\n",
        "plt.plot(fprs, tprs, color='darkorange',\n",
        "         lw=lw, label='ROC curve (area = %0.2f)' % roc_auc)\n",
        "plt.plot([0, 1], [0, 1], color='navy', lw=lw, linestyle='--')\n",
        "plt.xlim([0.0, 1.0])\n",
        "plt.ylim([0.0, 1.05])\n",
        "plt.xlabel('False Positive Rate')\n",
        "plt.ylabel('True Positive Rate')\n",
        "plt.title('Receiver operating characteristic for best parameters')\n",
        "plt.legend(loc=\"lower right\")\n",
        "plt.show()"
      ],
      "execution_count": null,
      "outputs": [
        {
          "output_type": "display_data",
          "data": {
            "image/png": "[encoded data removed]",
            "text/plain": [
              "<Figure size 432x288 with 1 Axes>"
            ]
          },
          "metadata": {
            "needs_background": "light"
          }
        }
      ]
    }
  ]
}