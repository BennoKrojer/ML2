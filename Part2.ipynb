{
  "nbformat": 4,
  "nbformat_minor": 0,
  "metadata": {
    "colab": {
      "name": "Part2.ipynb",
      "provenance": [],
      "collapsed_sections": [],
      "toc_visible": true,
      "authorship_tag": "ABX9TyPxK66BoALklf8cMpBj4+Jm",
      "include_colab_link": true
    },
    "kernelspec": {
      "name": "python3",
      "display_name": "Python 3"
    },
    "language_info": {
      "name": "python"
    }
  },
  "cells": [
    {
      "cell_type": "markdown",
      "metadata": {
        "id": "view-in-github",
        "colab_type": "text"
      },
      "source": [
        "<a href=\"https://colab.research.google.com/github/BennoKrojer/ML2/blob/main/Part2.ipynb\" target=\"_parent\"><img src=\"https://colab.research.google.com/assets/colab-badge.svg\" alt=\"Open In Colab\"/></a>"
      ]
    },
    {
      "cell_type": "markdown",
      "metadata": {
        "id": "NTqmXeilnZp2"
      },
      "source": [
        "# COMP 551 - Mini Project 2\n",
        "\n",
        "Starting point: [sklearn text data tutorial](https://scikit-learn.org/stable/tutorial/text_analytics/working_with_text_data.html)  \n",
        "\n",
        "Recommended Base Model: [sklearn's Logistic Regression package](https://scikit-learn.org/stable/modules/generated/sklearn.linear_model.LogisticRegression.html)\n"
      ]
    },
    {
      "cell_type": "code",
      "metadata": {
        "id": "3ahukbl7nUC4"
      },
      "source": [
        "import numpy as np\n",
        "import pandas as pd\n",
        "import matplotlib.pyplot as plt\n",
        "\n",
        "import sklearn as sk\n",
        "from sklearn.feature_extraction.text import CountVectorizer\n",
        "from sklearn.feature_extraction.text import TfidfTransformer\n",
        "from sklearn.linear_model import LogisticRegression\n",
        "from sklearn.pipeline import Pipeline\n",
        "from sklearn import metrics\n",
        "from sklearn.metrics import roc_curve, auc\n",
        "from sklearn.model_selection import GridSearchCV"
      ],
      "execution_count": 33,
      "outputs": []
    },
    {
      "cell_type": "markdown",
      "metadata": {
        "id": "VO0fekBkqOrl"
      },
      "source": [
        "### Data Loading"
      ]
    },
    {
      "cell_type": "code",
      "metadata": {
        "id": "ykr4JRvoqOVN",
        "colab": {
          "base_uri": "https://localhost:8080/"
        },
        "outputId": "b1815b3a-5243-4930-fe50-f25a9518cb2e"
      },
      "source": [
        "!wget https://raw.githubusercontent.com/BennoKrojer/ML2/main/fake_news_data/fake_news_train.csv\n",
        "!wget https://raw.githubusercontent.com/BennoKrojer/ML2/main/fake_news_data/fake_news_val.csv\n",
        "!wget https://raw.githubusercontent.com/BennoKrojer/ML2/main/fake_news_data/fake_news_test.csv"
      ],
      "execution_count": 3,
      "outputs": [
        {
          "output_type": "stream",
          "name": "stdout",
          "text": [
            "--2021-10-19 00:08:38--  https://raw.githubusercontent.com/BennoKrojer/ML2/main/fake_news_data/fake_news_train.csv\n",
            "Resolving raw.githubusercontent.com (raw.githubusercontent.com)... 185.199.108.133, 185.199.111.133, 185.199.109.133, ...\n",
            "Connecting to raw.githubusercontent.com (raw.githubusercontent.com)|185.199.108.133|:443... connected.\n",
            "HTTP request sent, awaiting response... 200 OK\n",
            "Length: 63830815 (61M) [text/plain]\n",
            "Saving to: ‘fake_news_train.csv’\n",
            "\n",
            "fake_news_train.csv 100%[===================>]  60.87M   150MB/s    in 0.4s    \n",
            "\n",
            "2021-10-19 00:08:43 (150 MB/s) - ‘fake_news_train.csv’ saved [63830815/63830815]\n",
            "\n",
            "--2021-10-19 00:08:43--  https://raw.githubusercontent.com/BennoKrojer/ML2/main/fake_news_data/fake_news_val.csv\n",
            "Resolving raw.githubusercontent.com (raw.githubusercontent.com)... 185.199.111.133, 185.199.108.133, 185.199.110.133, ...\n",
            "Connecting to raw.githubusercontent.com (raw.githubusercontent.com)|185.199.111.133|:443... connected.\n",
            "HTTP request sent, awaiting response... 200 OK\n",
            "Length: 6533293 (6.2M) [text/plain]\n",
            "Saving to: ‘fake_news_val.csv’\n",
            "\n",
            "fake_news_val.csv   100%[===================>]   6.23M  --.-KB/s    in 0.1s    \n",
            "\n",
            "2021-10-19 00:08:43 (58.8 MB/s) - ‘fake_news_val.csv’ saved [6533293/6533293]\n",
            "\n",
            "--2021-10-19 00:08:44--  https://raw.githubusercontent.com/BennoKrojer/ML2/main/fake_news_data/fake_news_test.csv\n",
            "Resolving raw.githubusercontent.com (raw.githubusercontent.com)... 185.199.108.133, 185.199.111.133, 185.199.109.133, ...\n",
            "Connecting to raw.githubusercontent.com (raw.githubusercontent.com)|185.199.108.133|:443... connected.\n",
            "HTTP request sent, awaiting response... 200 OK\n",
            "Length: 9484222 (9.0M) [text/plain]\n",
            "Saving to: ‘fake_news_test.csv’\n",
            "\n",
            "fake_news_test.csv  100%[===================>]   9.04M  54.2MB/s    in 0.2s    \n",
            "\n",
            "2021-10-19 00:08:45 (54.2 MB/s) - ‘fake_news_test.csv’ saved [9484222/9484222]\n",
            "\n"
          ]
        }
      ]
    },
    {
      "cell_type": "code",
      "metadata": {
        "colab": {
          "base_uri": "https://localhost:8080/"
        },
        "id": "q4EotE27rZKj",
        "outputId": "57de4d54-1395-41e5-b658-1a18e6c4505e"
      },
      "source": [
        "!ls"
      ],
      "execution_count": 4,
      "outputs": [
        {
          "output_type": "stream",
          "name": "stdout",
          "text": [
            "fake_news_test.csv  fake_news_train.csv  fake_news_val.csv  sample_data\n"
          ]
        }
      ]
    },
    {
      "cell_type": "code",
      "metadata": {
        "colab": {
          "base_uri": "https://localhost:8080/"
        },
        "id": "-ctx0Og8rPKS",
        "outputId": "2ab7198f-aef7-4ab1-d379-1a2e37927a7b"
      },
      "source": [
        "raw_data_train = pd.read_csv(\"fake_news_train.csv\")\n",
        "raw_data_val   = pd.read_csv(\"fake_news_val.csv\")\n",
        "raw_data_test  = pd.read_csv(\"fake_news_test.csv\")\n",
        "\n",
        "raw_data_train.head\n",
        "raw_data_train.columns"
      ],
      "execution_count": 5,
      "outputs": [
        {
          "output_type": "execute_result",
          "data": {
            "text/plain": [
              "Index(['text', 'label'], dtype='object')"
            ]
          },
          "metadata": {},
          "execution_count": 5
        }
      ]
    },
    {
      "cell_type": "markdown",
      "metadata": {
        "id": "ICbXsDsDqRFA"
      },
      "source": [
        "### Data Pre-Processing\n",
        "To preform machine learning on text, need to first extract features for the text."
      ]
    },
    {
      "cell_type": "code",
      "metadata": {
        "colab": {
          "base_uri": "https://localhost:8080/"
        },
        "id": "fu7tBzUNyDC3",
        "outputId": "89977362-c238-4d5a-aebb-bff818bbb0fc"
      },
      "source": [
        "# Seperate raw data into text and label\n",
        "raw_data_train_text = raw_data_train[\"text\"]\n",
        "raw_data_train_label = raw_data_train[\"label\"]\n",
        "\n",
        "# Convert to numpy array so it is easier to work with\n",
        "X_train = np.asarray(raw_data_train_text)\n",
        "\n",
        "# Create numpy array to store target labels\n",
        "Y_train = np.asarray(raw_data_train_label)\n",
        "Y_train\n",
        "\n",
        "print(X_train.shape)\n",
        "print(Y_train.shape)"
      ],
      "execution_count": 77,
      "outputs": [
        {
          "output_type": "stream",
          "name": "stdout",
          "text": [
            "(20000,)\n",
            "(20000,)\n"
          ]
        }
      ]
    },
    {
      "cell_type": "code",
      "metadata": {
        "colab": {
          "base_uri": "https://localhost:8080/"
        },
        "id": "J_pGa57e70GT",
        "outputId": "8513b7ae-318a-4d06-c3c4-457113ae7c44"
      },
      "source": [
        "# Seperate raw data for validation set\n",
        "raw_data_val_text = raw_data_val[\"text\"]\n",
        "raw_data_val_label = raw_data_val[\"label\"]\n",
        "X_val = np.asarray(raw_data_val_text)\n",
        "Y_val = np.asarray(raw_data_val_label)\n",
        "Y_val\n",
        "print(X_val.shape)\n",
        "print(Y_val.shape)"
      ],
      "execution_count": 76,
      "outputs": [
        {
          "output_type": "stream",
          "name": "stdout",
          "text": [
            "(2000,)\n",
            "(2000,)\n"
          ]
        }
      ]
    },
    {
      "cell_type": "code",
      "metadata": {
        "colab": {
          "base_uri": "https://localhost:8080/"
        },
        "id": "SOmGN5-v71-L",
        "outputId": "35595290-99a2-440d-e971-ceb5506cd1c0"
      },
      "source": [
        "# Seperate raw data for test set\n",
        "raw_data_test_text = raw_data_test[\"text\"]\n",
        "raw_data_test_label = raw_data_test[\"label\"]\n",
        "X_test = np.asarray(raw_data_test_text)\n",
        "Y_test = np.asarray(raw_data_test_label)\n",
        "print(X_test.shape)\n",
        "print(Y_test.shape)"
      ],
      "execution_count": 78,
      "outputs": [
        {
          "output_type": "stream",
          "name": "stdout",
          "text": [
            "(3000,)\n",
            "(3000,)\n"
          ]
        }
      ]
    },
    {
      "cell_type": "markdown",
      "metadata": {
        "id": "KfK94Xnxsmlw"
      },
      "source": [
        "#### Bag of Words (Vectorizing)\n",
        "For the bag of words method, each word in the training data set is given an integer ID, then for each data sample, count the number of occurrences of each word, and store the count of each word as a feature for the training sample.  \n",
        "\n",
        "Ex:  \n",
        "`Data sample 'i' = \"The quick brown fox jumped over the brown dog\"`  \n",
        "`if id for word \"brown\" = 3`  \n",
        "`store X[i, 3] = 2 (word count)`    \n",
        "\n",
        "This method implies that the number of features = number of unique words in all training samples. Number features is typically > 100,000.  \n",
        "\n",
        "Thus, if every sample had every word, then the size of the matrix would be 100,000 x 100,000 x 4 bytes, which is not very practical. Luckily, most features will be zero for most samples, as most features only contain a small subset of the total set of words in the data set. For this reason, we usually say that the bag of words features array are *high-dimensional sparse data sets*.  \n",
        "\n",
        "Will use scipy.sparse matrix to store data set features\n",
        "\n",
        "\n"
      ]
    },
    {
      "cell_type": "code",
      "metadata": {
        "colab": {
          "base_uri": "https://localhost:8080/"
        },
        "id": "DwiZn_7ErrzB",
        "outputId": "e6df4a9d-0961-4b2d-e78b-5c1c8a237ff9"
      },
      "source": [
        "# Use sklearn.feature_extraction.text.CountVectorizer\n",
        "# To build a dictionary of features, and transform data samples into feature vectors\n",
        "count_vect = CountVectorizer()\n",
        "\n",
        "# training feature vectors\n",
        "X_train_counts = count_vect.fit_transform(raw_data_train_text)\n",
        "X_train_counts.shape"
      ],
      "execution_count": 9,
      "outputs": [
        {
          "output_type": "execute_result",
          "data": {
            "text/plain": [
              "(20000, 145402)"
            ]
          },
          "metadata": {},
          "execution_count": 9
        }
      ]
    },
    {
      "cell_type": "markdown",
      "metadata": {
        "id": "i55yok79gSZt"
      },
      "source": [
        "Look into removing junk and/or non-english words."
      ]
    },
    {
      "cell_type": "code",
      "metadata": {
        "id": "-f63qwg4yoZQ",
        "colab": {
          "base_uri": "https://localhost:8080/"
        },
        "outputId": "d262f24d-0756-4b39-aa73-7371b2157e2b"
      },
      "source": [
        "# Peak at output of count vectorizer\n",
        "count_vect.vocabulary_.get(u'algorithm')\n",
        "#count_vect.vocabulary_.get(u' ')\n",
        "#sorted_vocab = np.sort(count_vect.vocabulary_, axis=0)\n",
        "sorted(count_vect.vocabulary_.items(), key=lambda x : x[1], reverse=True)\n",
        "#count_vect.vocabulary_"
      ],
      "execution_count": 119,
      "outputs": [
        {
          "output_type": "execute_result",
          "data": {
            "text/plain": [
              "[('𝙉𝘼𝙏𝙄𝙊𝙉', 145401),\n",
              " ('𝙃𝙀𝘼𝙏', 145400),\n",
              " ('𝘸𝘪𝘵𝘩', 145399),\n",
              " ('𝘭𝘶𝘷', 145398),\n",
              " ('𝘣𝘰𝘺', 145397),\n",
              " ('𝗥𝗶𝗱𝘇𝘂𝗮𝗻', 145396),\n",
              " ('𝗔𝘆𝘀𝗵𝗮', 145395),\n",
              " ('𝖎𝖏𝖚', 145394),\n",
              " ('𝕽𝖆𝖓𝖉𝖞', 145393),\n",
              " ('𝕟𝕖𝕣𝕖𝕒', 145392),\n",
              " ('𝔍𝔲𝔫𝔞𝔦𝔡', 145391),\n",
              " ('𝒽𝒶𝓃𝓃𝒶𝒽', 145390),\n",
              " ('𝑩𝑳𝑯', 145389),\n",
              " ('ａｎａｒ𝕔𝕙𝕚𝕔', 145388),\n",
              " ('ﬁnger', 145387),\n",
              " ('직은', 145386),\n",
              " ('위한', 145385),\n",
              " ('것들을', 145384),\n",
              " ('黒人極太二穴ファック', 145383),\n",
              " ('解禁', 145382),\n",
              " ('綾地', 145381),\n",
              " ('瑞士警方调查狂欢节', 145380),\n",
              " ('煩わしい税関手続き', 145379),\n",
              " ('淫語中出しソープ62', 145378),\n",
              " ('浮気女緊縛公開処刑', 145377),\n",
              " ('梨々花', 145376),\n",
              " ('昭和はs', 145375),\n",
              " ('日間99位', 145374),\n",
              " ('日間75位', 145373),\n",
              " ('日間100位', 145372),\n",
              " ('数量限定', 145371),\n",
              " ('彩葉みおり', 145370),\n",
              " ('平成はh', 145369),\n",
              " ('寧々ちゃん', 145368),\n",
              " ('媚薬bdsm', 145367),\n",
              " ('女子アナ志望の女子大生21才', 145366),\n",
              " ('君島みお', 145365),\n",
              " ('发布于', 145364),\n",
              " ('北山かんな', 145363),\n",
              " ('令和の英字略称はr', 145362),\n",
              " ('令和18年', 145361),\n",
              " ('令和', 145360),\n",
              " ('中国がスイスと絶交した日', 145359),\n",
              " ('三k党服饰事件', 145358),\n",
              " ('一楽拉面', 145357),\n",
              " ('ヤバいとおもったらrt', 145356),\n",
              " ('ミスキャンパス高身長で清楚', 145355),\n",
              " ('パンティと生写真とデジタル写真集付き', 145354),\n",
              " ('スイス警察', 145353),\n",
              " ('エロ動画', 145352),\n",
              " ('アプリでこんなに簡単に', 145351),\n",
              " ('ゆずソオタクさんの考察', 145350),\n",
              " ('ぶらばん発売から30周年', 145349),\n",
              " ('は西暦2036年となり', 145348),\n",
              " ('おちんぽ勃ちそうな人はrt', 145347),\n",
              " ('あれから20年', 145346),\n",
              " ('ᴛʜᴇ', 145345),\n",
              " ('२०१९', 145344),\n",
              " ('११', 145343),\n",
              " ('वर', 145342),\n",
              " ('रह', 145341),\n",
              " ('मदद', 145340),\n",
              " ('बय', 145339),\n",
              " ('बच', 145338),\n",
              " ('नह', 145337),\n",
              " ('धन', 145336),\n",
              " ('तर', 145335),\n",
              " ('तच', 145334),\n",
              " ('टर', 145333),\n",
              " ('चल', 145332),\n",
              " ('गठब', 145331),\n",
              " ('कर', 145330),\n",
              " ('और', 145329),\n",
              " ('एप', 145328),\n",
              " ('इच', 145327),\n",
              " ('आपक', 145326),\n",
              " ('आप', 145325),\n",
              " ('आज', 145324),\n",
              " ('अह', 145323),\n",
              " ('अभ', 145322),\n",
              " ('अन', 145321),\n",
              " ('ون', 145320),\n",
              " ('منصور', 145319),\n",
              " ('لا', 145318),\n",
              " ('قدس', 145317),\n",
              " ('في', 145316),\n",
              " ('غرفة', 145315),\n",
              " ('على', 145314),\n",
              " ('عبيدة', 145313),\n",
              " ('طواقم', 145312),\n",
              " ('شبكة', 145311),\n",
              " ('سلمان', 145310),\n",
              " ('سطح', 145309),\n",
              " ('زهرة', 145308),\n",
              " ('داخل', 145307),\n",
              " ('خالد', 145306),\n",
              " ('حريقا', 145305),\n",
              " ('حريق', 145304),\n",
              " ('حراس', 145303),\n",
              " ('تمويلات', 145302),\n",
              " ('تراجع', 145301),\n",
              " ('تخمد', 145300),\n",
              " ('تخشى', 145299),\n",
              " ('بن', 145298),\n",
              " ('بالمسجد', 145297),\n",
              " ('اندلع', 145296),\n",
              " ('النيران', 145295),\n",
              " ('المصلى', 145294),\n",
              " ('المسجد', 145293),\n",
              " ('المرواني', 145292),\n",
              " ('السويسرية', 145291),\n",
              " ('الجامعات', 145290),\n",
              " ('التهمت', 145289),\n",
              " ('الإطفاء', 145288),\n",
              " ('الإخبارية', 145287),\n",
              " ('الإتحاد', 145286),\n",
              " ('الأوروبي', 145285),\n",
              " ('الأقصى', 145284),\n",
              " ('اغ', 145283),\n",
              " ('أبو', 145282),\n",
              " ('ראורום', 145281),\n",
              " ('צילום', 145280),\n",
              " ('דודראל', 145279),\n",
              " ('сited', 145278),\n",
              " ('родион', 145277),\n",
              " ('помощью', 145276),\n",
              " ('мой', 145275),\n",
              " ('любовь', 145274),\n",
              " ('журавлёв', 145273),\n",
              " ('γçöγçü', 145272),\n",
              " ('αôââ', 145271),\n",
              " ('αé¾ôââ', 145270),\n",
              " ('ʽinfluencerʼ', 145269),\n",
              " ('ʽcommunicationʼ', 145268),\n",
              " ('ʟᴀꜱᴛ', 145267),\n",
              " ('ʜᴏʀꜱᴇᴍᴀɴ', 145266),\n",
              " ('əmin', 145265),\n",
              " ('əm', 145264),\n",
              " ('željko', 145263),\n",
              " ('œwe', 145262),\n",
              " ('œunknown', 145261),\n",
              " ('œto', 145260),\n",
              " ('œthis', 145259),\n",
              " ('œthe', 145258),\n",
              " ('œsuccess', 145257),\n",
              " ('œsince', 145256),\n",
              " ('œquite', 145255),\n",
              " ('œour', 145254),\n",
              " ('œjohn', 145253),\n",
              " ('œit', 145252),\n",
              " ('œin', 145251),\n",
              " ('œif', 145250),\n",
              " ('œhe', 145249),\n",
              " ('œdiversification', 145248),\n",
              " ('œafrica', 145247),\n",
              " ('čolhle', 145246),\n",
              " ('čaputová', 145245),\n",
              " ('ānahera', 145244),\n",
              " ('ülgen', 145243),\n",
              " ('über', 145242),\n",
              " ('útil', 145241),\n",
              " ('únicos', 145240),\n",
              " ('únicas', 145239),\n",
              " ('únicamente', 145238),\n",
              " ('única', 145237),\n",
              " ('últimos', 145236),\n",
              " ('último', 145235),\n",
              " ('últimas', 145234),\n",
              " ('última', 145233),\n",
              " ('özil', 145232),\n",
              " ('öyster', 145231),\n",
              " ('överallt', 145230),\n",
              " ('östberg', 145229),\n",
              " ('öland', 145228),\n",
              " ('öhlins', 145227),\n",
              " ('óγé¼γç', 145226),\n",
              " ('óγé¼γäóve', 145225),\n",
              " ('óγé¼γäós', 145224),\n",
              " ('óγé¼γäóre', 145223),\n",
              " ('óγé¼γäóll', 145222),\n",
              " ('óγé¼', 145221),\n",
              " ('óptico', 145220),\n",
              " ('óg', 145219),\n",
              " ('ðââ', 145218),\n",
              " ('ðâ', 145217),\n",
              " ('ïââ', 145216),\n",
              " ('îmwe', 145215),\n",
              " ('île', 145214),\n",
              " ('íntivos', 145213),\n",
              " ('ílkín', 145212),\n",
              " ('ílkin', 145211),\n",
              " ('êみやお时派', 145210),\n",
              " ('être', 145209),\n",
              " ('éxito', 145208),\n",
              " ('événements', 145207),\n",
              " ('éviter', 145206),\n",
              " ('étouffée', 145205),\n",
              " ('étienne', 145204),\n",
              " ('étend', 145203),\n",
              " ('état', 145202),\n",
              " ('éric', 145201),\n",
              " ('émotion', 145200),\n",
              " ('émilie', 145199),\n",
              " ('émigré', 145198),\n",
              " ('éléments', 145197),\n",
              " ('élément', 145196),\n",
              " ('élysées', 145195),\n",
              " ('élysée', 145194),\n",
              " ('élyne', 145193),\n",
              " ('élite', 145192),\n",
              " ('élise', 145191),\n",
              " ('électriques', 145190),\n",
              " ('él', 145189),\n",
              " ('éireann', 145188),\n",
              " ('églises', 145187),\n",
              " ('église', 145186),\n",
              " ('édéenne', 145185),\n",
              " ('édith', 145184),\n",
              " ('école', 145183),\n",
              " ('éclat', 145182),\n",
              " ('çavuşoğlu', 145181),\n",
              " ('ça', 145180),\n",
              " ('åstrand', 145179),\n",
              " ('åkerlund', 145178),\n",
              " ('ässät', 145177),\n",
              " ('âââ', 145176),\n",
              " ('ââ', 145175),\n",
              " ('âme', 145174),\n",
              " ('área', 145173),\n",
              " ('árboles', 145172),\n",
              " ('árbol', 145171),\n",
              " ('ángulos', 145170),\n",
              " ('ángulo', 145169),\n",
              " ('ángeles', 145168),\n",
              " ('ángel', 145167),\n",
              " ('álvarez', 145166),\n",
              " ('ágætis', 145165),\n",
              " ('ábarro', 145164),\n",
              " ('¾à', 145163),\n",
              " ('¾oz', 145162),\n",
              " ('ºï', 145161),\n",
              " ('³ðââ', 145160),\n",
              " ('ªà', 145159),\n",
              " ('zīrtom', 145158),\n",
              " ('zürich', 145157),\n",
              " ('zürcher', 145156),\n",
              " ('zúñiga', 145155),\n",
              " ('zéro', 145154),\n",
              " ('zzzzzzzzzzzzzzzzzzzzzzzzz', 145153),\n",
              " ('zz', 145152),\n",
              " ('zyzak', 145151),\n",
              " ('zywer', 145150),\n",
              " ('zyvezsov', 145149),\n",
              " ('zyszkiewicz', 145148),\n",
              " ('zyryanova', 145147),\n",
              " ('zypern', 145146),\n",
              " ('zynga', 145145),\n",
              " ('zyndecht', 145144),\n",
              " ('zylstra', 145143),\n",
              " ('zylka', 145142),\n",
              " ('zyl', 145141),\n",
              " ('zygna', 145140),\n",
              " ('zygi', 145139),\n",
              " ('zyfers', 145138),\n",
              " ('zydent', 145137),\n",
              " ('zydeco', 145136),\n",
              " ('zxpdsupgcz', 145135),\n",
              " ('zww8tnpe9l', 145134),\n",
              " ('zwinggi', 145133),\n",
              " ('zwift', 145132),\n",
              " ('zwieg', 145131),\n",
              " ('zwiebel', 145130),\n",
              " ('zwickau', 145129),\n",
              " ('zwick', 145128),\n",
              " ('zwerling', 145127),\n",
              " ('zweigite', 145126),\n",
              " ('zweifel', 145125),\n",
              " ('zwbgrus9py', 145124),\n",
              " ('zwaska', 145123),\n",
              " ('zwart', 145122),\n",
              " ('zwane', 145121),\n",
              " ('zwaan', 145120),\n",
              " ('zvuowfuvsc', 145119),\n",
              " ('zvtrqghrgbmid3rna8bkgt', 145118),\n",
              " ('zvi', 145117),\n",
              " ('zverev', 145116),\n",
              " ('zvc', 145115),\n",
              " ('zv7mcxdbwd', 145114),\n",
              " ('zuñiga', 145113),\n",
              " ('zuzenak', 145112),\n",
              " ('zuzana', 145111),\n",
              " ('zuydam', 145110),\n",
              " ('zuwara', 145109),\n",
              " ('zuvela', 145108),\n",
              " ('zuul', 145107),\n",
              " ('zusammengestossen', 145106),\n",
              " ('zuru', 145105),\n",
              " ('zuroff', 145104),\n",
              " ('zurmin', 145103),\n",
              " ('zurich', 145102),\n",
              " ('zurer', 145101),\n",
              " ('zurbrigg', 145100),\n",
              " ('zupinoub', 145099),\n",
              " ('zunni', 145098),\n",
              " ('zunino', 145097),\n",
              " ('zuniga', 145096),\n",
              " ('zuneidos', 145095),\n",
              " ('zumwalt', 145094),\n",
              " ('zumoff', 145093),\n",
              " ('zume', 145092),\n",
              " ('zumbühl', 145091),\n",
              " ('zumbrota', 145090),\n",
              " ('zumbathons', 145089),\n",
              " ('zumbathon', 145088),\n",
              " ('zumbahua', 145087),\n",
              " ('zumba', 145086),\n",
              " ('zuma', 145085),\n",
              " ('zum', 145084),\n",
              " ('zulwin', 145083),\n",
              " ('zulus', 145082),\n",
              " ('zulu', 145081),\n",
              " ('zullar', 145080),\n",
              " ('zulifqar', 145079),\n",
              " ('zulia', 145078),\n",
              " ('zulfugarov', 145077),\n",
              " ('zulfiqarabad', 145076),\n",
              " ('zulfiqar', 145075),\n",
              " ('zulfikar', 145074),\n",
              " ('zulfi', 145073),\n",
              " ('zuko', 145072),\n",
              " ('zukerman', 145071),\n",
              " ('zukerberg', 145070),\n",
              " ('zuker', 145069),\n",
              " ('zuhri', 145068),\n",
              " ('zuhair', 145067),\n",
              " ('zugzwang', 145066),\n",
              " ('zughayr', 145065),\n",
              " ('zuckness', 145064),\n",
              " ('zuckerman', 145063),\n",
              " ('zuckerberg', 145062),\n",
              " ('zucker', 145061),\n",
              " ('zucked', 145060),\n",
              " ('zuck', 145059),\n",
              " ('zuchlinski', 145058),\n",
              " ('zuchamo', 145057),\n",
              " ('zucchini', 145056),\n",
              " ('zuccarello', 145055),\n",
              " ('zubrus', 145054),\n",
              " ('zubr', 145053),\n",
              " ('zubizarreta', 145052),\n",
              " ('zubinow', 145051),\n",
              " ('zubin', 145050),\n",
              " ('zuber', 145049),\n",
              " ('zubeidi', 145048),\n",
              " ('zubeidat', 145047),\n",
              " ('zubeena', 145046),\n",
              " ('zubairu', 145045),\n",
              " ('zubair', 145044),\n",
              " ('zubac', 145043),\n",
              " ('zubaan', 145042),\n",
              " ('zu4aa4fdl', 145041),\n",
              " ('zu', 145040),\n",
              " ('ztpv5j6x6ilmsh5sbcmsap', 145039),\n",
              " ('zte', 145038),\n",
              " ('ztb3', 145037),\n",
              " ('zspace', 145036),\n",
              " ('zsofia', 145035),\n",
              " ('zsa', 145034),\n",
              " ('zs', 145033),\n",
              " ('zrosenblatt', 145032),\n",
              " ('zroblatt', 145031),\n",
              " ('zrmzszivzn', 145030),\n",
              " ('zrawikova', 145029),\n",
              " ('zr1', 145028),\n",
              " ('zqt8jovg1w', 145027),\n",
              " ('zqqc8byfz1', 145026),\n",
              " ('zpasses', 145025),\n",
              " ('zpass', 145024),\n",
              " ('zp1', 145023),\n",
              " ('zoë', 145022),\n",
              " ('zoé', 145021),\n",
              " ('zoya', 145020),\n",
              " ('zouologist', 145019),\n",
              " ('zoubi', 145018),\n",
              " ('zotz', 145017),\n",
              " ('zotto', 145016),\n",
              " ('zotac', 145015),\n",
              " ('zosia', 145014),\n",
              " ('zoryo', 145013),\n",
              " ('zorro', 145012),\n",
              " ('zoroastrians', 145011),\n",
              " ('zoroastrianism', 145010),\n",
              " ('zorn', 145009),\n",
              " ('zormani', 145008),\n",
              " ('zorb', 145007),\n",
              " ('zoramic', 145006),\n",
              " ('zora', 145005),\n",
              " ('zor', 145004),\n",
              " ('zoplaid', 145003),\n",
              " ('zopk9gr3tf', 145002),\n",
              " ('zootopia', 145001),\n",
              " ('zoot', 145000),\n",
              " ('zoosk', 144999),\n",
              " ('zoos', 144998),\n",
              " ('zoonatic', 144997),\n",
              " ('zooms', 144996),\n",
              " ('zooming', 144995),\n",
              " ('zoomed', 144994),\n",
              " ('zoomcar', 144993),\n",
              " ('zoom', 144992),\n",
              " ('zoology', 144991),\n",
              " ('zoologist', 144990),\n",
              " ('zoological', 144989),\n",
              " ('zoolander', 144988),\n",
              " ('zookeepers', 144987),\n",
              " ('zookeeper', 144986),\n",
              " ('zooey', 144985),\n",
              " ('zoo', 144984),\n",
              " ('zonnique', 144983),\n",
              " ('zonked', 144982),\n",
              " ('zonings', 144981),\n",
              " ('zoning', 144980),\n",
              " ('zongalero', 144979),\n",
              " ('zonfrillo', 144978),\n",
              " ('zones', 144977),\n",
              " ('zoned', 144976),\n",
              " ('zone', 144975),\n",
              " ('zonday', 144974),\n",
              " ('zonal', 144973),\n",
              " ('zona', 144972),\n",
              " ('zomljyviid', 144971),\n",
              " ('zombified', 144970),\n",
              " ('zombies', 144969),\n",
              " ('zombieland', 144968),\n",
              " ('zombie', 144967),\n",
              " ('zomba', 144966),\n",
              " ('zom', 144965),\n",
              " ('zoltan', 144964),\n",
              " ('zolotukhin', 144963),\n",
              " ('zollitsch', 144962),\n",
              " ('zollars', 144961),\n",
              " ('zolgensma', 144960),\n",
              " ('zolfield', 144959),\n",
              " ('zolciak', 144958),\n",
              " ('zola', 144957),\n",
              " ('zokoe', 144956),\n",
              " ('zoink', 144955),\n",
              " ('zoilo', 144954),\n",
              " ('zoiled', 144953),\n",
              " ('zoi', 144952),\n",
              " ('zohrab', 144951),\n",
              " ('zohra', 144950),\n",
              " ('zohore', 144949),\n",
              " ('zoheb', 144948),\n",
              " ('zohara', 144947),\n",
              " ('zohaib', 144946),\n",
              " ('zoglianoff', 144945),\n",
              " ('zogenix', 144944),\n",
              " ('zogby', 144943),\n",
              " ('zofeesh', 144942),\n",
              " ('zoey', 144941),\n",
              " ('zoetis', 144940),\n",
              " ('zoet', 144939),\n",
              " ('zoesaldana', 144938),\n",
              " ('zoeller', 144937),\n",
              " ('zoella', 144936),\n",
              " ('zoejonasemusic', 144935),\n",
              " ('zoe_dv09', 144934),\n",
              " ('zoe3', 144933),\n",
              " ('zoe', 144932),\n",
              " ('zody', 144931),\n",
              " ('zodiak', 144930),\n",
              " ('zodiacs', 144929),\n",
              " ('zodiac', 144928),\n",
              " ('zodia', 144927),\n",
              " ('zoda', 144926),\n",
              " ('zod', 144925),\n",
              " ('zochodone', 144924),\n",
              " ('zocalo', 144923),\n",
              " ('zobrist', 144922),\n",
              " ('zobmzpohqk', 144921),\n",
              " ('zobeida', 144920),\n",
              " ('zobeck', 144919),\n",
              " ('zoanne', 144918),\n",
              " ('zoabi', 144917),\n",
              " ('zo2_', 144916),\n",
              " ('zo2', 144915),\n",
              " ('zo', 144914),\n",
              " ('zm', 144913),\n",
              " ('zloty', 144912),\n",
              " ('zlotow', 144911),\n",
              " ('zlitan', 144910),\n",
              " ('zlfk9by0vx', 144909),\n",
              " ('zlatan', 144908),\n",
              " ('zlamal', 144907),\n",
              " ('zlaing', 144906),\n",
              " ('zl1', 144905),\n",
              " ('zkqeblhjbq', 144904),\n",
              " ('zkppa2c2w2', 144903),\n",
              " ('zkld1ch2gj', 144902),\n",
              " ('zkhx0eeozn', 144901),\n",
              " ('zjlaing', 144900),\n",
              " ('zjeer', 144899),\n",
              " ('zjbeaetvyg', 144898),\n",
              " ('ziyi', 144897),\n",
              " ('ziyech', 144896),\n",
              " ('zivania', 144895),\n",
              " ('ziva', 144894),\n",
              " ('ziv', 144893),\n",
              " ('zits', 144892),\n",
              " ('zitron', 144891),\n",
              " ('ziti', 144890),\n",
              " ('zit', 144889),\n",
              " ('ziskin', 144888),\n",
              " ('ziska', 144887),\n",
              " ('zirk', 144886),\n",
              " ('zirinsky', 144885),\n",
              " ('ziri', 144884),\n",
              " ('zirconia', 144883),\n",
              " ('zira', 144882),\n",
              " ('ziq', 144881),\n",
              " ('zips', 144880),\n",
              " ('ziprecruiter', 144879),\n",
              " ('zippy', 144878),\n",
              " ('zipping', 144877),\n",
              " ('zippers', 144876),\n",
              " ('zippered', 144875),\n",
              " ('zipper', 144874),\n",
              " ('zipped', 144873),\n",
              " ('ziplock', 144872),\n",
              " ('zipline', 144871),\n",
              " ('zipkova', 144870),\n",
              " ('zipi', 144869),\n",
              " ('zipes', 144868),\n",
              " ('zipcar', 144867),\n",
              " ('zip', 144866),\n",
              " ('zionists', 144865),\n",
              " ('zionist', 144864),\n",
              " ('zionism', 144863),\n",
              " ('zion', 144862),\n",
              " ('zinzi', 144861),\n",
              " ('zintan', 144860),\n",
              " ('zinta', 144859),\n",
              " ('zint', 144858),\n",
              " ('zinstan', 144857),\n",
              " ('zinsman', 144856),\n",
              " ('zinnias', 144855),\n",
              " ('zinner', 144854),\n",
              " ('zinnat', 144853),\n",
              " ('zinn', 144852),\n",
              " ('zinlx7ocmx', 144851),\n",
              " ('zinke', 144850),\n",
              " ('zinjibar', 144849),\n",
              " ('zinhumwe', 144848),\n",
              " ('zingy', 144847),\n",
              " ('zings', 144846),\n",
              " ('zingkhai', 144845),\n",
              " ('zinging', 144844),\n",
              " ('zingers', 144843),\n",
              " ('zingani', 144842),\n",
              " ('zing', 144841),\n",
              " ('zinfandel', 144840),\n",
              " ('zinets', 144839),\n",
              " ('zinedine', 144838),\n",
              " ('zine', 144837),\n",
              " ('zindl', 144836),\n",
              " ('zindagi', 144835),\n",
              " ('zindabad', 144834),\n",
              " ('zinda', 144833),\n",
              " ('zinco', 144832),\n",
              " ('zinchenko', 144831),\n",
              " ('zinc', 144830),\n",
              " ('zinakusumbua', 144829),\n",
              " ('zina', 144828),\n",
              " ('zin', 144827),\n",
              " ('zimri', 144826),\n",
              " ('zimpel', 144825),\n",
              " ('zimmt', 144824),\n",
              " ('zimmern', 144823),\n",
              " ('zimmermann', 144822),\n",
              " ('zimmerman', 144821),\n",
              " ('zimmer', 144820),\n",
              " ('zimich', 144819),\n",
              " ('zimfy', 144818),\n",
              " ('zimbalist', 144817),\n",
              " ('zimbabweers', 144816),\n",
              " ('zimbabweans', 144815),\n",
              " ('zimbabwean', 144814),\n",
              " ('zimbabwe', 144813),\n",
              " ('zillow', 144812),\n",
              " ('zillion', 144811),\n",
              " ('ziller', 144810),\n",
              " ('zilla', 144809),\n",
              " ('zilkey', 144808),\n",
              " ('zilberman', 144807),\n",
              " ('zikry', 144806),\n",
              " ('zikri', 144805),\n",
              " ('zika', 144804),\n",
              " ('zik', 144803),\n",
              " ('zijouna', 144802),\n",
              " ('zijina', 144801),\n",
              " ('ziiqlqbxkr', 144800),\n",
              " ('zihov', 144799),\n",
              " ('zihaf', 144798),\n",
              " ('zigzags', 144797),\n",
              " ('zigzagging', 144796),\n",
              " ('zigurdole', 144795),\n",
              " ('zigs', 144794),\n",
              " ('ziggy', 144793),\n",
              " ('zig', 144792),\n",
              " ('ziffren', 144791),\n",
              " ('ziff', 144790),\n",
              " ('zifaiky', 144789),\n",
              " ('zifa', 144788),\n",
              " ('ziesemer', 144787),\n",
              " ('zierlein', 144786),\n",
              " ('ziering', 144785),\n",
              " ('ziener', 144784),\n",
              " ('ziemba', 144783),\n",
              " ('zielinski', 144782),\n",
              " ('ziehlke', 144781),\n",
              " ('ziegler', 144780),\n",
              " ('ziebell', 144779),\n",
              " ('ziebel', 144778),\n",
              " ('zidlicky', 144777),\n",
              " ('zidane', 144776),\n",
              " ('zico', 144775),\n",
              " ('zichron', 144774),\n",
              " ('zibanejad', 144773),\n",
              " ('ziback', 144772),\n",
              " ('ziaullah', 144771),\n",
              " ('ziaul', 144770),\n",
              " ('zianina', 144769),\n",
              " ('ziaeian', 144768),\n",
              " ('zia', 144767),\n",
              " ('zi', 144766),\n",
              " ('zhzhang', 144765),\n",
              " ('zhw6uj3mdv', 144764),\n",
              " ('zhuzdai', 144763),\n",
              " ('zhuang', 144762),\n",
              " ('zhu', 144761),\n",
              " ('zhou', 144760),\n",
              " ('zhongnanhai', 144759),\n",
              " ('zhongmin', 144758),\n",
              " ('zhongfang', 144757),\n",
              " ('zhong', 144756),\n",
              " ('zhob', 144755),\n",
              " ('zho', 144754),\n",
              " ('zhkbh3fzf4', 144753),\n",
              " ('zhivago', 144752),\n",
              " ('zhiuts8aze', 144751),\n",
              " ('zhimo', 144750),\n",
              " ('zhimin', 144749),\n",
              " ('zhijun', 144748),\n",
              " ('zhihao', 144747),\n",
              " ('zhichun', 144746),\n",
              " ('zhi', 144745),\n",
              " ('zhey', 144744),\n",
              " ('zhestkov', 144743),\n",
              " ('zheqiu', 144742),\n",
              " ('zhenya', 144741),\n",
              " ('zhenping', 144740),\n",
              " ('zhenhao', 144739),\n",
              " ('zhengtai', 144738),\n",
              " ('zhengming', 144737),\n",
              " ('zhengfei', 144736),\n",
              " ('zheng', 144735),\n",
              " ('zhejiang', 144734),\n",
              " ('zheir', 144733),\n",
              " ('zhecmc5pcg', 144732),\n",
              " ('zhdannikov', 144731),\n",
              " ('zhczw3bib7', 144730),\n",
              " ('zharyah', 144729),\n",
              " ('zharov', 144728),\n",
              " ('zhaohui', 144727),\n",
              " ('zhao', 144726),\n",
              " ('zhanshu', 144725),\n",
              " ('zhanisov', 144724),\n",
              " ('zhanibek', 144723),\n",
              " ('zhang', 144722),\n",
              " ('zhanar', 144721),\n",
              " ('zhaire', 144720),\n",
              " ('zhai', 144719),\n",
              " ('zhabarn', 144718),\n",
              " ('zh80trzfqk', 144717),\n",
              " ('zh', 144716),\n",
              " ('zfpuchalic', 144715),\n",
              " ('zfp8tuhgvc', 144714),\n",
              " ('zfast6', 144713),\n",
              " ('zf', 144712),\n",
              " ('zeze', 144711),\n",
              " ('zeyoudi', 144710),\n",
              " ('zeynalova', 144709),\n",
              " ('zeyidan', 144708),\n",
              " ('zewde', 144707),\n",
              " ('zew', 144706),\n",
              " ('zevulon', 144705),\n",
              " ('zevs', 144704),\n",
              " ('zev', 144703),\n",
              " ('zeuses', 144702),\n",
              " ('zeus', 144701),\n",
              " ('zeufack', 144700),\n",
              " ('zetterberg', 144699),\n",
              " ('zetter', 144698),\n",
              " ('zettel', 144697),\n",
              " ('zetsche', 144696),\n",
              " ('zetland', 144695),\n",
              " ('zetas', 144694),\n",
              " ('zeta', 144693),\n",
              " ('zesty', 144692),\n",
              " ('zestful', 144691),\n",
              " ('zest', 144690),\n",
              " ('zesnodnasia', 144689),\n",
              " ('zervos', 144688),\n",
              " ('zervas', 144687),\n",
              " ('zerto', 144686),\n",
              " ('zers', 144685),\n",
              " ('zeroville', 144684),\n",
              " ('zeros', 144683),\n",
              " ('zeroing', 144682),\n",
              " ('zerohedge', 144681),\n",
              " ('zeroes', 144680),\n",
              " ('zeroed', 144679),\n",
              " ('zeroday', 144678),\n",
              " ('zero1', 144677),\n",
              " ('zero', 144676),\n",
              " ('zermattutahevents', 144675),\n",
              " ('zermatt', 144674),\n",
              " ('zermano', 144673),\n",
              " ('zerbe', 144672),\n",
              " ('zerbato', 144671),\n",
              " ('zer0', 144670),\n",
              " ('zeptolab', 144669),\n",
              " ('zeppos', 144668),\n",
              " ('zeppelin', 144667),\n",
              " ('zephyrus', 144666),\n",
              " ('zephyrs', 144665),\n",
              " ('zephyrno', 144664),\n",
              " ('zephyrhills', 144663),\n",
              " ('zephyrhail', 144662),\n",
              " ('zephyr', 144661),\n",
              " ('zepeda', 144660),\n",
              " ('zep', 144659),\n",
              " ('zeock', 144658),\n",
              " ('zeny_aleimow', 144657),\n",
              " ('zeny', 144656),\n",
              " ('zens', 144655),\n",
              " ('zenner', 144654),\n",
              " ('zenlike', 144653),\n",
              " ('zenitz', 144652),\n",
              " ('zenithbank', 144651),\n",
              " ('zenith', 144650),\n",
              " ('zenitaka', 144649),\n",
              " ('zenit', 144648),\n",
              " ('zenimax', 144647),\n",
              " ('zenia', 144646),\n",
              " ('zenger', 144645),\n",
              " ('zenga', 144644),\n",
              " ('zeng', 144643),\n",
              " ('zenefits', 144642),\n",
              " ('zendegi', 144641),\n",
              " ('zende', 144640),\n",
              " ('zendaya', 144639),\n",
              " ('zenbook', 144638),\n",
              " ('zenbeth', 144637),\n",
              " ('zenawi', 144636),\n",
              " ('zenatix', 144635),\n",
              " ('zenana', 144634),\n",
              " ('zen', 144633),\n",
              " ('zemsky', 144632),\n",
              " ('zemp', 144631),\n",
              " ('zemola', 144630),\n",
              " ('zemo', 144629),\n",
              " ('zemlianichenko', 144628),\n",
              " ('zemin', 144627),\n",
              " ('zemeckis', 144626),\n",
              " ('zembla', 144625),\n",
              " ('zema', 144624),\n",
              " ('zelous', 144623),\n",
              " ('zelmo', 144622),\n",
              " ('zelmer', 144621),\n",
              " ('zelman', 144620),\n",
              " ('zellweger', 144619),\n",
              " ('zellner', 144618),\n",
              " ('zellmeyer', 144617),\n",
              " ('zellers', 144616),\n",
              " ('zellerbach', 144615),\n",
              " ('zeller', 144614),\n",
              " ('zelle', 144613),\n",
              " ('zella', 144612),\n",
              " ('zelina', 144611),\n",
              " ('zeliang', 144610),\n",
              " ('zelezniak', 144609),\n",
              " ('zelensky', 144608),\n",
              " ('zelenskiy', 144607),\n",
              " ('zeldin', 144606),\n",
              " ('zelda', 144605),\n",
              " ('zelanda', 144604),\n",
              " ('zekollari', 144603),\n",
              " ('zekeman', 144602),\n",
              " ('zekejmiller', 144601),\n",
              " ('zeke', 144600),\n",
              " ('zeitung', 144599),\n",
              " ('zeitlin', 144598),\n",
              " ('zeitler', 144597),\n",
              " ('zeitgeisty', 144596),\n",
              " ('zeitgeist', 144595),\n",
              " ('zeit', 144594),\n",
              " ('zeiss', 144593),\n",
              " ('zeishi', 144592),\n",
              " ('zeinhom', 144591),\n",
              " ('zein', 144590),\n",
              " ('zeiler', 144589),\n",
              " ('zeigler', 144588),\n",
              " ('zeiger', 144587),\n",
              " ('zeidman', 144586),\n",
              " ('zeidler', 144585),\n",
              " ('zeidan', 144584),\n",
              " ('zeid', 144583),\n",
              " ('zehut', 144582),\n",
              " ('zehug', 144581),\n",
              " ('zehring', 144580),\n",
              " ('zehr', 144579),\n",
              " ('zehlander', 144578),\n",
              " ('zehani', 144577),\n",
              " ('zehaf', 144576),\n",
              " ('zegras', 144575),\n",
              " ('zegen', 144574),\n",
              " ('zeff', 144573),\n",
              " ('zeezy', 144572),\n",
              " ('zeeshan', 144571),\n",
              " ('zeese', 144570),\n",
              " ('zeer', 144569),\n",
              " ('zeeman', 144568),\n",
              " ('zeeland', 144567),\n",
              " ('zeefilms', 144566),\n",
              " ('zeeesh', 144565),\n",
              " ('zeebrugge', 144564),\n",
              " ('zee5', 144563),\n",
              " ('zee', 144562),\n",
              " ('zedtown', 144561),\n",
              " ('zeds', 144560),\n",
              " ('zedrick', 144559),\n",
              " ('zedong', 144558),\n",
              " ('zedek', 144557),\n",
              " ('zedd', 144556),\n",
              " ('zedani', 144555),\n",
              " ('zed', 144554),\n",
              " ('zech', 144553),\n",
              " ('zec', 144552),\n",
              " ('zebulon', 144551),\n",
              " ('zebu', 144550),\n",
              " ('zebrowski', 144549),\n",
              " ('zebrevious', 144548),\n",
              " ('zebre', 144547),\n",
              " ('zebras', 144546),\n",
              " ('zebrafish', 144545),\n",
              " ('zebra', 144544),\n",
              " ('zebari', 144543),\n",
              " ('zeba', 144542),\n",
              " ('zeb', 144541),\n",
              " ('zeaxanthin', 144540),\n",
              " ('zealously', 144539),\n",
              " ('zealous', 144538),\n",
              " ('zealands', 144537),\n",
              " ('zealanders', 144536),\n",
              " ('zealander', 144535),\n",
              " ('zealand', 144534),\n",
              " ('zeal', 144533),\n",
              " ('zea', 144532),\n",
              " ('ze3lzzqv9j', 144531),\n",
              " ('ze', 144530),\n",
              " ('zdzfvqmhry', 144529),\n",
              " ('zdt', 144528),\n",
              " ('zdnet', 144527),\n",
              " ('zdf', 144526),\n",
              " ('zdeno', 144525),\n",
              " ('zdenek', 144524),\n",
              " ('zcrzvgqpfq', 144523),\n",
              " ('zcoxinhb4k', 144522),\n",
              " ('zcci', 144521),\n",
              " ('zcash', 144520),\n",
              " ('zbyszewski', 144519),\n",
              " ('zbu', 144518),\n",
              " ('zbtc', 144517),\n",
              " ('zbrum', 144516),\n",
              " ('zboril', 144515),\n",
              " ('zbigniew', 144514),\n",
              " ('zbcetcqcmmnghyn3zr9w5k', 144513),\n",
              " ('zbc', 144512),\n",
              " ('zb', 144511),\n",
              " ('zazzle', 144510),\n",
              " ('zazie', 144509),\n",
              " ('zaza', 144508),\n",
              " ('zaytoven', 144507),\n",
              " ('zaynmalik', 144506),\n",
              " ('zaynab', 144505),\n",
              " ('zayn', 144504),\n",
              " ('zayed', 144503),\n",
              " ('zaydi', 144502),\n",
              " ('zayce', 144501),\n",
              " ('zayas', 144500),\n",
              " ('zayan', 144499),\n",
              " ('zay', 144498),\n",
              " ('zawrzel', 144497),\n",
              " ('zawqari', 144496),\n",
              " ('zawiya', 144495),\n",
              " ('zawiercie', 144494),\n",
              " ('zawia', 144493),\n",
              " ('zawhis', 144492),\n",
              " ('zavis', 144491),\n",
              " ('zavier', 144490),\n",
              " ('zavaziec', 144489),\n",
              " ('zavala', 144488),\n",
              " ('zavaccio', 144487),\n",
              " ('zatz', 144486),\n",
              " ('zatopek', 144485),\n",
              " ('zatkoff', 144484),\n",
              " ('zatanna', 144483),\n",
              " ('zatak', 144482),\n",
              " ('zaslav', 144481),\n",
              " ('zaskey', 144480),\n",
              " ('zarzano', 144479),\n",
              " ('zarubezhneft', 144478),\n",
              " ('zarshopos', 144477),\n",
              " ('zarrar', 144476),\n",
              " ('zarqawi', 144475),\n",
              " ('zarny', 144474),\n",
              " ('zarnoch', 144473),\n",
              " ('zarnik', 144472),\n",
              " ('zarmena', 144471),\n",
              " ('zarlu', 144470),\n",
              " ('zarlingo', 144469),\n",
              " ('zarkana', 144468),\n",
              " ('zarivar', 144467),\n",
              " ('zaris', 144466),\n",
              " ('zaringhalam', 144465),\n",
              " ('zarina', 144464),\n",
              " ('zarimua', 144463),\n",
              " ('zariffi', 144462),\n",
              " ('zarif', 144461),\n",
              " ('zaribaf', 144460),\n",
              " ('zaria', 144459),\n",
              " ('zari', 144458),\n",
              " ('zargham', 144457),\n",
              " ('zareq', 144456),\n",
              " ('zarek', 144455),\n",
              " ('zare', 144454),\n",
              " ('zardes', 144453),\n",
              " ('zardari', 144452),\n",
              " ('zardab', 144451),\n",
              " ('zarco', 144450),\n",
              " ('zarb', 144449),\n",
              " ('zarate', 144448),\n",
              " ('zaragoza', 144447),\n",
              " ('zara', 144446),\n",
              " ('zar', 144445),\n",
              " ('zaqy', 144444),\n",
              " ('zappos', 144443),\n",
              " ('zappone', 144442),\n",
              " ('zapping', 144441),\n",
              " ('zapped', 144440),\n",
              " ('zappacosta', 144439),\n",
              " ('zaporozhye', 144438),\n",
              " ('zaporizhzhya', 144437),\n",
              " ('zapopan', 144436),\n",
              " ('zapdos', 144435),\n",
              " ('zapatista', 144434),\n",
              " ('zapatero', 144433),\n",
              " ('zapata', 144432),\n",
              " ('zap2it', 144431),\n",
              " ('zap', 144430),\n",
              " ('zaobao', 144429),\n",
              " ('zanzibar', 144428),\n",
              " ('zany', 144427),\n",
              " ('zanuzu', 144426),\n",
              " ('zanu', 144425),\n",
              " ('zante', 144424),\n",
              " ('zantara', 144423),\n",
              " ('zanona', 144422),\n",
              " ('zano', 144421),\n",
              " ('zanku', 144420),\n",
              " ('zanki', 144419),\n",
              " ('zanjeersingh', 144418),\n",
              " ('zanjeer', 144417),\n",
              " ('zaniolo', 144416),\n",
              " ('zanine', 144415),\n",
              " ('zangrillo', 144414),\n",
              " ('zanghi', 144413),\n",
              " ('zanganeh', 144412),\n",
              " ('zanessa', 144411),\n",
              " ('zanerobe', 144410),\n",
              " ('zanella', 144409),\n",
              " ('zane', 144408),\n",
              " ('zandt', 144407),\n",
              " ('zandieh', 144406),\n",
              " ('zandi', 144405),\n",
              " ('zander', 144404),\n",
              " ('zandarara', 144403),\n",
              " ('zampino', 144402),\n",
              " ...]"
            ]
          },
          "metadata": {},
          "execution_count": 119
        }
      ]
    },
    {
      "cell_type": "markdown",
      "metadata": {
        "id": "XgiRIKFYzQLg"
      },
      "source": [
        "#### Occurences -> Frequencies (Transforming)\n",
        "Occurence count is a good start, but is skewed towards longer documents. Longer text will on average have more occurences than shorter text. To compensate for this, we can look at term frequencies which is the number of occurences of a word in some text, divided by the total number of words in that text.  \n",
        "\n",
        "#### Downscale Word Weights\n",
        "Another pre-processing technique for text is to give higher weights to rarer words, and lower weights to words that appear frequently in the overall set of text. This is down by downscaling the weights of words that appear frequently in all texts.  \n",
        "\n",
        "These two approaches can be combined into something called tf-idf, or Term Frequency times Inverse Document Frequency. Can be computed using sklearn->TfidfTransformer."
      ]
    },
    {
      "cell_type": "code",
      "metadata": {
        "colab": {
          "base_uri": "https://localhost:8080/"
        },
        "id": "xNVBdsHYzosi",
        "outputId": "92762677-3131-49b7-cc80-5afa6acceaca"
      },
      "source": [
        "tfidf_transformer = TfidfTransformer()\n",
        "# fit_transform combines fit and transform into one step\n",
        "X_train_tfidf = tfidf_transformer.fit_transform(X_train_counts)\n",
        "X_train_tfidf.shape"
      ],
      "execution_count": 11,
      "outputs": [
        {
          "output_type": "execute_result",
          "data": {
            "text/plain": [
              "(20000, 145402)"
            ]
          },
          "metadata": {},
          "execution_count": 11
        }
      ]
    },
    {
      "cell_type": "markdown",
      "metadata": {
        "id": "0sDXUD51cE6i"
      },
      "source": [
        "Visualize word weights (after tf-idf)"
      ]
    },
    {
      "cell_type": "code",
      "metadata": {
        "colab": {
          "base_uri": "https://localhost:8080/"
        },
        "id": "BBB2KoPacEks",
        "outputId": "7cb6d4f7-ff38-4ec5-b179-9c837c238cde"
      },
      "source": [
        "X_train_tfidf"
      ],
      "execution_count": 105,
      "outputs": [
        {
          "output_type": "execute_result",
          "data": {
            "text/plain": [
              "<20000x145402 sparse matrix of type '<class 'numpy.float64'>'\n",
              "\twith 5141820 stored elements in Compressed Sparse Row format>"
            ]
          },
          "metadata": {},
          "execution_count": 105
        }
      ]
    },
    {
      "cell_type": "markdown",
      "metadata": {
        "id": "O9t-EmYM5mc7"
      },
      "source": [
        "#### Scaling Features\n"
      ]
    },
    {
      "cell_type": "code",
      "metadata": {
        "id": "tyWsWJxd9L32"
      },
      "source": [
        ""
      ],
      "execution_count": null,
      "outputs": []
    },
    {
      "cell_type": "markdown",
      "metadata": {
        "id": "PLYAELU0rsHs"
      },
      "source": [
        "### Model Training\n",
        "Linear model - Logistic Regression using sklearn.linear_model.LogisticRegression  \n",
        "\n",
        "Start with default parameters for Logistic Regression classifier:  \n",
        "- penalty  - norm of the penalty (default = 'l2')  \n",
        "- tol      - tolerance for stopping criteria (default = 1e-4)  \n",
        "- max_iter - Maximum number of iterations taken for the solvers to converge (default = 100) \n",
        "\n",
        "can also specify # cpus to use\n",
        "n_jobs = default = None: means 1, use -1 to specify all processors"
      ]
    },
    {
      "cell_type": "markdown",
      "metadata": {
        "id": "TRkRtxBq7SCb"
      },
      "source": [
        "#### Fit"
      ]
    },
    {
      "cell_type": "code",
      "metadata": {
        "colab": {
          "base_uri": "https://localhost:8080/"
        },
        "id": "F-VqA9eCrsW2",
        "outputId": "7e993055-6c1c-4f33-86bb-613247314a08"
      },
      "source": [
        "# is model same as classifier?\n",
        "# clf = classifier\n",
        "clf = LogisticRegression(penalty='l2', tol=1e-4, max_iter=1000)\n",
        "\n",
        "# fit classifier\n",
        "clf.fit(X_train_tfidf, Y_train)\n",
        "\n"
      ],
      "execution_count": 13,
      "outputs": [
        {
          "output_type": "execute_result",
          "data": {
            "text/plain": [
              "LogisticRegression(C=1.0, class_weight=None, dual=False, fit_intercept=True,\n",
              "                   intercept_scaling=1, l1_ratio=None, max_iter=1000,\n",
              "                   multi_class='auto', n_jobs=None, penalty='l2',\n",
              "                   random_state=None, solver='lbfgs', tol=0.0001, verbose=0,\n",
              "                   warm_start=False)"
            ]
          },
          "metadata": {},
          "execution_count": 13
        }
      ]
    },
    {
      "cell_type": "code",
      "metadata": {
        "colab": {
          "base_uri": "https://localhost:8080/",
          "height": 505
        },
        "id": "SQSAs5M7MckH",
        "outputId": "c8c34ebf-e2c6-46d1-ac76-d0d5b2f71c88"
      },
      "source": [
        "# Score\n",
        "Y_score = clf.decision_function(X_test)\n",
        "Y_score"
      ],
      "execution_count": 60,
      "outputs": [
        {
          "output_type": "error",
          "ename": "ValueError",
          "evalue": "ignored",
          "traceback": [
            "\u001b[0;31m---------------------------------------------------------------------------\u001b[0m",
            "\u001b[0;31mValueError\u001b[0m                                Traceback (most recent call last)",
            "\u001b[0;32m<ipython-input-60-3c94d1a40c51>\u001b[0m in \u001b[0;36m<module>\u001b[0;34m()\u001b[0m\n\u001b[1;32m      1\u001b[0m \u001b[0;31m# Score\u001b[0m\u001b[0;34m\u001b[0m\u001b[0;34m\u001b[0m\u001b[0;34m\u001b[0m\u001b[0m\n\u001b[0;32m----> 2\u001b[0;31m \u001b[0mY_score\u001b[0m \u001b[0;34m=\u001b[0m \u001b[0mclf\u001b[0m\u001b[0;34m.\u001b[0m\u001b[0mdecision_function\u001b[0m\u001b[0;34m(\u001b[0m\u001b[0mX_test\u001b[0m\u001b[0;34m)\u001b[0m\u001b[0;34m\u001b[0m\u001b[0;34m\u001b[0m\u001b[0m\n\u001b[0m\u001b[1;32m      3\u001b[0m \u001b[0mY_score\u001b[0m\u001b[0;34m\u001b[0m\u001b[0;34m\u001b[0m\u001b[0m\n",
            "\u001b[0;32m/usr/local/lib/python3.7/dist-packages/sklearn/linear_model/_base.py\u001b[0m in \u001b[0;36mdecision_function\u001b[0;34m(self, X)\u001b[0m\n\u001b[1;32m    266\u001b[0m         \u001b[0mcheck_is_fitted\u001b[0m\u001b[0;34m(\u001b[0m\u001b[0mself\u001b[0m\u001b[0;34m)\u001b[0m\u001b[0;34m\u001b[0m\u001b[0;34m\u001b[0m\u001b[0m\n\u001b[1;32m    267\u001b[0m \u001b[0;34m\u001b[0m\u001b[0m\n\u001b[0;32m--> 268\u001b[0;31m         \u001b[0mX\u001b[0m \u001b[0;34m=\u001b[0m \u001b[0mcheck_array\u001b[0m\u001b[0;34m(\u001b[0m\u001b[0mX\u001b[0m\u001b[0;34m,\u001b[0m \u001b[0maccept_sparse\u001b[0m\u001b[0;34m=\u001b[0m\u001b[0;34m'csr'\u001b[0m\u001b[0;34m)\u001b[0m\u001b[0;34m\u001b[0m\u001b[0;34m\u001b[0m\u001b[0m\n\u001b[0m\u001b[1;32m    269\u001b[0m \u001b[0;34m\u001b[0m\u001b[0m\n\u001b[1;32m    270\u001b[0m         \u001b[0mn_features\u001b[0m \u001b[0;34m=\u001b[0m \u001b[0mself\u001b[0m\u001b[0;34m.\u001b[0m\u001b[0mcoef_\u001b[0m\u001b[0;34m.\u001b[0m\u001b[0mshape\u001b[0m\u001b[0;34m[\u001b[0m\u001b[0;36m1\u001b[0m\u001b[0;34m]\u001b[0m\u001b[0;34m\u001b[0m\u001b[0;34m\u001b[0m\u001b[0m\n",
            "\u001b[0;32m/usr/local/lib/python3.7/dist-packages/sklearn/utils/validation.py\u001b[0m in \u001b[0;36mcheck_array\u001b[0;34m(array, accept_sparse, accept_large_sparse, dtype, order, copy, force_all_finite, ensure_2d, allow_nd, ensure_min_samples, ensure_min_features, warn_on_dtype, estimator)\u001b[0m\n\u001b[1;32m    529\u001b[0m                     \u001b[0marray\u001b[0m \u001b[0;34m=\u001b[0m \u001b[0marray\u001b[0m\u001b[0;34m.\u001b[0m\u001b[0mastype\u001b[0m\u001b[0;34m(\u001b[0m\u001b[0mdtype\u001b[0m\u001b[0;34m,\u001b[0m \u001b[0mcasting\u001b[0m\u001b[0;34m=\u001b[0m\u001b[0;34m\"unsafe\"\u001b[0m\u001b[0;34m,\u001b[0m \u001b[0mcopy\u001b[0m\u001b[0;34m=\u001b[0m\u001b[0;32mFalse\u001b[0m\u001b[0;34m)\u001b[0m\u001b[0;34m\u001b[0m\u001b[0;34m\u001b[0m\u001b[0m\n\u001b[1;32m    530\u001b[0m                 \u001b[0;32melse\u001b[0m\u001b[0;34m:\u001b[0m\u001b[0;34m\u001b[0m\u001b[0;34m\u001b[0m\u001b[0m\n\u001b[0;32m--> 531\u001b[0;31m                     \u001b[0marray\u001b[0m \u001b[0;34m=\u001b[0m \u001b[0mnp\u001b[0m\u001b[0;34m.\u001b[0m\u001b[0masarray\u001b[0m\u001b[0;34m(\u001b[0m\u001b[0marray\u001b[0m\u001b[0;34m,\u001b[0m \u001b[0morder\u001b[0m\u001b[0;34m=\u001b[0m\u001b[0morder\u001b[0m\u001b[0;34m,\u001b[0m \u001b[0mdtype\u001b[0m\u001b[0;34m=\u001b[0m\u001b[0mdtype\u001b[0m\u001b[0;34m)\u001b[0m\u001b[0;34m\u001b[0m\u001b[0;34m\u001b[0m\u001b[0m\n\u001b[0m\u001b[1;32m    532\u001b[0m             \u001b[0;32mexcept\u001b[0m \u001b[0mComplexWarning\u001b[0m\u001b[0;34m:\u001b[0m\u001b[0;34m\u001b[0m\u001b[0;34m\u001b[0m\u001b[0m\n\u001b[1;32m    533\u001b[0m                 raise ValueError(\"Complex data not supported\\n\"\n",
            "\u001b[0;32m/usr/local/lib/python3.7/dist-packages/numpy/core/_asarray.py\u001b[0m in \u001b[0;36masarray\u001b[0;34m(a, dtype, order)\u001b[0m\n\u001b[1;32m     81\u001b[0m \u001b[0;34m\u001b[0m\u001b[0m\n\u001b[1;32m     82\u001b[0m     \"\"\"\n\u001b[0;32m---> 83\u001b[0;31m     \u001b[0;32mreturn\u001b[0m \u001b[0marray\u001b[0m\u001b[0;34m(\u001b[0m\u001b[0ma\u001b[0m\u001b[0;34m,\u001b[0m \u001b[0mdtype\u001b[0m\u001b[0;34m,\u001b[0m \u001b[0mcopy\u001b[0m\u001b[0;34m=\u001b[0m\u001b[0;32mFalse\u001b[0m\u001b[0;34m,\u001b[0m \u001b[0morder\u001b[0m\u001b[0;34m=\u001b[0m\u001b[0morder\u001b[0m\u001b[0;34m)\u001b[0m\u001b[0;34m\u001b[0m\u001b[0;34m\u001b[0m\u001b[0m\n\u001b[0m\u001b[1;32m     84\u001b[0m \u001b[0;34m\u001b[0m\u001b[0m\n\u001b[1;32m     85\u001b[0m \u001b[0;34m\u001b[0m\u001b[0m\n",
            "\u001b[0;31mValueError\u001b[0m: could not convert string to float: 'When don\\'t you have something appropriate to wear?\\nGreat, looks mean. And we think that\\'s the point of retirement sunglasses. If you don\\'t wear them in public, you don\\'t know exactly what you\\'ve got.\\nAdvertisement - Continue Reading Below\\nTo that end, lenses make the wearer look as if they’re wearing as part of their “heavenly” life, and the only special effect is the glasses get lost or stolen or lost, or those pesky gaps in the appearance.\\nThe style so recently included Peter Frampton sunglasses, Scarlett Johansson light sunglasses, Lupita Nyong\\'o light sunglasses, Armie Hammer light sunglasses, and that old-timey yego-posito prescription sunglasses. Or, of course, flats.\\nAnd now, art-house sunglasses – the kind made possible, by the people who sell them – are up for sale as Christie\\'s writes that they\\'re as good as they’re going to get.\\n\"\\'They\\'re beautiful,\" one top designer said of the pricey frames. \"It\\'s no joke,” he added. “They’re really indestructible.”\\nWhy do we have to call them sunglasses? The famous jeweler is famed for letting us know that matte-coated lenses actually make a difference. They even aid some Instagram-worthy selfies by making them look a little sequin-jointed.\\nAdvertisement - Continue Reading Below\\nBut these frames don’t just function as a cheap accessory, they work just as well. Sadly, they don’t stay on for very long. You can\\'t wear them for much longer and they\\'l..."
          ]
        }
      ]
    },
    {
      "cell_type": "markdown",
      "metadata": {
        "id": "nQnrepY87The"
      },
      "source": [
        "#### Validate"
      ]
    },
    {
      "cell_type": "code",
      "metadata": {
        "colab": {
          "base_uri": "https://localhost:8080/"
        },
        "id": "BwkimEED7Upb",
        "outputId": "7945a75f-09ef-4f12-94aa-77c336fc3b0b"
      },
      "source": [
        "# Pre process validation data in same way as train data\n",
        "# But only transform data, as count_vectorizer and tfidf_transformer have already been\n",
        "# fit to training data (and don't want to fit to validation or test data)\n",
        "\n",
        "X_val_counts = count_vect.transform(raw_data_val_text)\n",
        "print(\"X_val_counts.shape: \", X_val_counts.shape)\n",
        "X_val_tfidf = tfidf_transformer.transform(X_val_counts)\n",
        "print(\"X_val_tfidf.shape: \", X_val_tfidf.shape)\n",
        "\n",
        "val_pred = clf.predict(X_val_tfidf)\n",
        "\n",
        "print(\"val_pred.shape: \", val_pred.shape)\n",
        "print(\"Y_val.shape: \", Y_val.shape)\n",
        "\n",
        "# Compare predicitions to labels\n",
        "np.mean(val_pred == Y_val)"
      ],
      "execution_count": 14,
      "outputs": [
        {
          "output_type": "stream",
          "name": "stdout",
          "text": [
            "X_val_counts.shape:  (2000, 145402)\n",
            "X_val_tfidf.shape:  (2000, 145402)\n",
            "val_pred.shape:  (2000,)\n",
            "Y_val.shape:  (2000,)\n"
          ]
        },
        {
          "output_type": "execute_result",
          "data": {
            "text/plain": [
              "0.731"
            ]
          },
          "metadata": {},
          "execution_count": 14
        }
      ]
    },
    {
      "cell_type": "markdown",
      "metadata": {
        "id": "k__mlSeV9pWy"
      },
      "source": [
        "### Pipeline\n",
        "In order to make our sequence of pre-processing and classifying easier, sklearn allows us to create a pipeline to apply the operations to a set of data: vectorizer->transformer->classifier.  \n",
        "- Vectorizer (\"vect\") = Bag of Words, transform text to counts of words in text\n",
        "- Transformer (\"tfidf\") = TF-IDF transform\n",
        "- Classifier (\"lr-clf\") = Logistic Regression classifier"
      ]
    },
    {
      "cell_type": "code",
      "metadata": {
        "id": "yiHfFd-i-EOY"
      },
      "source": [
        "text_pipeline = Pipeline([\n",
        "    (\"vect\", CountVectorizer()),\n",
        "    (\"tfidf\", TfidfTransformer()),\n",
        "    (\"lr-clf\", LogisticRegression(max_iter=500)),\n",
        "])"
      ],
      "execution_count": 15,
      "outputs": []
    },
    {
      "cell_type": "code",
      "metadata": {
        "colab": {
          "base_uri": "https://localhost:8080/"
        },
        "id": "xAtH1Sfy-sha",
        "outputId": "23179266-28f9-4d26-9aea-f39511b762f7"
      },
      "source": [
        "# Can now train using a single command / function\n",
        "text_pipeline.fit(raw_data_train_text, Y_train)"
      ],
      "execution_count": 49,
      "outputs": [
        {
          "output_type": "stream",
          "name": "stdout",
          "text": [
            "(20000,)\n"
          ]
        }
      ]
    },
    {
      "cell_type": "code",
      "metadata": {
        "colab": {
          "base_uri": "https://localhost:8080/"
        },
        "id": "maWUNYZ8_vaT",
        "outputId": "96e5dbf3-5538-4ea9-ea85-e7238ff7556b"
      },
      "source": [
        "# Train pipeline using train set\n",
        "text_pipeline.score(raw_data_train_text, Y_train)"
      ],
      "execution_count": 17,
      "outputs": [
        {
          "output_type": "execute_result",
          "data": {
            "text/plain": [
              "0.85525"
            ]
          },
          "metadata": {},
          "execution_count": 17
        }
      ]
    },
    {
      "cell_type": "code",
      "metadata": {
        "colab": {
          "base_uri": "https://localhost:8080/"
        },
        "id": "9kaAuBPsAQzm",
        "outputId": "25d715b2-6178-4850-9250-07338a7333cf"
      },
      "source": [
        "# Predict labels for train set using pipeline\n",
        "Y_pred = text_pipeline.predict(raw_data_train_text)\n",
        "#print(\"Y_pred.shape: \", Y_pred.shape, \", Y_train.shape: \", Y_train.shape)\n",
        "acc = np.mean(Y_pred == Y_train)\n",
        "print(acc)"
      ],
      "execution_count": 18,
      "outputs": [
        {
          "output_type": "stream",
          "name": "stdout",
          "text": [
            "0.85525\n"
          ]
        }
      ]
    },
    {
      "cell_type": "code",
      "metadata": {
        "colab": {
          "base_uri": "https://localhost:8080/"
        },
        "id": "WppegNW5_Vu6",
        "outputId": "99e17c6f-1637-4f71-df79-2cb711a242da"
      },
      "source": [
        "# Validate using pipeline\n",
        "Y_pred = text_pipeline.predict(raw_data_val_text)\n",
        "#print(\"Y_pred.shape: \", Y_pred.shape, \", Y_val.shape: \", Y_val.shape)\n",
        "acc = np.mean(Y_pred == Y_val)\n",
        "print(acc)"
      ],
      "execution_count": 19,
      "outputs": [
        {
          "output_type": "stream",
          "name": "stdout",
          "text": [
            "0.731\n"
          ]
        }
      ]
    },
    {
      "cell_type": "markdown",
      "metadata": {
        "id": "9A1umbRo3dBC"
      },
      "source": [
        "### Parameter Tuning\n",
        "\n",
        "First using grid search and then random search or other methods..\n",
        "\n",
        "tol: float, default=1e-4\n",
        "Tolerance for stopping criteria.\n",
        "\n",
        "C: float, default=1.0\n",
        "Inverse of regularization strength; must be a positive float. Like in support vector machines, smaller values specify stronger regularization."
      ]
    },
    {
      "cell_type": "code",
      "metadata": {
        "colab": {
          "base_uri": "https://localhost:8080/"
        },
        "id": "roI7nYTt3n37",
        "outputId": "414f288c-f5cb-4d31-cd61-c4d57d09a213"
      },
      "source": [
        "parameters = {\n",
        "    'vect__ngram_range': [(1,1), (1,2)],\n",
        "    'tfidf__use_idf': (True, False),\n",
        "    'lr-clf__penalty': [None, 'l1', 'l2', 'elasticnet'],\n",
        "    'lr-clf__tol': [1e-4, 1e-3, 1e-2], # tolerance for gradient decsent stopping criteria\n",
        "    'lr-clf__C': [1,2], # regularization parameter\n",
        "    'lr-clf__random_state': [None, 1], # shuffled vs unshuffled\n",
        "    'lr-clf__max_iter': [100, 500, 1000, 5000]\n",
        "}\n",
        "parameters = {\n",
        "    'vect__ngram_range': [(1,1), (1,2)]\n",
        "}\n",
        "print(text_pipeline.get_params().keys())"
      ],
      "execution_count": 100,
      "outputs": [
        {
          "output_type": "stream",
          "name": "stdout",
          "text": [
            "dict_keys(['memory', 'steps', 'verbose', 'vect', 'tfidf', 'lr-clf', 'vect__analyzer', 'vect__binary', 'vect__decode_error', 'vect__dtype', 'vect__encoding', 'vect__input', 'vect__lowercase', 'vect__max_df', 'vect__max_features', 'vect__min_df', 'vect__ngram_range', 'vect__preprocessor', 'vect__stop_words', 'vect__strip_accents', 'vect__token_pattern', 'vect__tokenizer', 'vect__vocabulary', 'tfidf__norm', 'tfidf__smooth_idf', 'tfidf__sublinear_tf', 'tfidf__use_idf', 'lr-clf__C', 'lr-clf__class_weight', 'lr-clf__dual', 'lr-clf__fit_intercept', 'lr-clf__intercept_scaling', 'lr-clf__l1_ratio', 'lr-clf__max_iter', 'lr-clf__multi_class', 'lr-clf__n_jobs', 'lr-clf__penalty', 'lr-clf__random_state', 'lr-clf__solver', 'lr-clf__tol', 'lr-clf__verbose', 'lr-clf__warm_start'])\n"
          ]
        }
      ]
    },
    {
      "cell_type": "code",
      "metadata": {
        "colab": {
          "base_uri": "https://localhost:8080/"
        },
        "id": "i11N4atIQgy5",
        "outputId": "b3265157-09b0-4343-c85a-2561f78f9b68"
      },
      "source": [
        "gs_clf = GridSearchCV(text_pipeline, parameters, cv=5, n_jobs=-1)\n",
        "gs_clf = gs_clf.fit(X_train, Y_train)\n",
        "gs_clf.predict(X_test)\n",
        "gs_clf.best_score_\n",
        "gs_clf.best_params_"
      ],
      "execution_count": 101,
      "outputs": [
        {
          "output_type": "stream",
          "name": "stderr",
          "text": [
            "/usr/local/lib/python3.7/dist-packages/joblib/externals/loky/process_executor.py:691: UserWarning: A worker stopped while some jobs were given to the executor. This can be caused by a too short worker timeout or by a memory leak.\n",
            "  \"timeout or by a memory leak.\", UserWarning\n"
          ]
        },
        {
          "output_type": "execute_result",
          "data": {
            "text/plain": [
              "0.71415"
            ]
          },
          "metadata": {},
          "execution_count": 101
        }
      ]
    },
    {
      "cell_type": "markdown",
      "metadata": {
        "id": "HLMrgwFMlebV"
      },
      "source": [
        "Random Search with All Params"
      ]
    },
    {
      "cell_type": "code",
      "metadata": {
        "id": "D4AFnsEZlg5v"
      },
      "source": [
        "# implement RandomSearch"
      ],
      "execution_count": null,
      "outputs": []
    },
    {
      "cell_type": "markdown",
      "metadata": {
        "id": "Px2g5iI0_EVF"
      },
      "source": [
        "### Model Evalutation (testing)\n",
        "Now test performance of model using testing data"
      ]
    },
    {
      "cell_type": "markdown",
      "metadata": {
        "id": "jmRaZarKB3W2"
      },
      "source": [
        "#### Test accuracy"
      ]
    },
    {
      "cell_type": "code",
      "metadata": {
        "colab": {
          "base_uri": "https://localhost:8080/"
        },
        "id": "keQx08nQBhus",
        "outputId": "38ea2749-9bd6-4126-9e4e-ce97b3d66345"
      },
      "source": [
        "# Test model acc with test data\n",
        "Y_pred = text_pipeline.predict(raw_data_test_text)\n",
        "acc = np.mean(Y_pred == Y_test)\n",
        "print(acc)"
      ],
      "execution_count": 20,
      "outputs": [
        {
          "output_type": "stream",
          "name": "stdout",
          "text": [
            "0.71\n"
          ]
        }
      ]
    },
    {
      "cell_type": "code",
      "metadata": {
        "colab": {
          "base_uri": "https://localhost:8080/"
        },
        "id": "TuWb3ZR5Chk4",
        "outputId": "fab87899-a184-42a8-8ecb-1042c4642fdc"
      },
      "source": [
        "# Get score\n",
        "#print(X_train.ravel().shape)\n",
        "#print(Y_train.shape)\n",
        "#print(Y_test.shape)\n",
        "fitted_pipeline = text_pipeline.fit(X_train.ravel(), Y_train)\n",
        "#print(len(Y_train.tolist()))\n",
        "Y_score = fitted_pipeline.decision_function(X_test)\n",
        "Y_score.shape"
      ],
      "execution_count": 80,
      "outputs": [
        {
          "output_type": "execute_result",
          "data": {
            "text/plain": [
              "(3000,)"
            ]
          },
          "metadata": {},
          "execution_count": 80
        }
      ]
    },
    {
      "cell_type": "code",
      "metadata": {
        "colab": {
          "base_uri": "https://localhost:8080/"
        },
        "id": "jAlFEXInOxdn",
        "outputId": "6c5a5f0e-53ee-4191-bbb3-c173242ca35c"
      },
      "source": [
        "X_test.shape"
      ],
      "execution_count": 81,
      "outputs": [
        {
          "output_type": "execute_result",
          "data": {
            "text/plain": [
              "(3000,)"
            ]
          },
          "metadata": {},
          "execution_count": 81
        }
      ]
    },
    {
      "cell_type": "markdown",
      "metadata": {
        "id": "xK0eFdQRB5J-"
      },
      "source": [
        "#### Model Metrics\n",
        "\n",
        "**double check this** might be backwards  \n",
        "Confusion Matrix: Positive = fake news, Negative = not fake news  \n",
        "\n",
        "          |          | Predicted\t    |\n",
        "          |          | Positive       |\tNegative  \n",
        "----------|----------|----------------|------------------\n",
        "Observed  |\tPositive |\tTP (# of TPs) |\tFN (# of FNs)  \n",
        "          | Negative |\tFP (# of FPs) |\tTN (# of TNs)  \n"
      ]
    },
    {
      "cell_type": "code",
      "metadata": {
        "colab": {
          "base_uri": "https://localhost:8080/"
        },
        "id": "8zWMHpMcB0gG",
        "outputId": "59dd7ab7-0788-43dc-c098-04fbef30a5fb"
      },
      "source": [
        "# Confusion matrix for binary classification: \n",
        "conf_matrix = metrics.confusion_matrix(Y_test, Y_pred)\n",
        "conf_matrix"
      ],
      "execution_count": 85,
      "outputs": [
        {
          "output_type": "execute_result",
          "data": {
            "text/plain": [
              "array([[ 554,  676],\n",
              "       [ 194, 1576]])"
            ]
          },
          "metadata": {},
          "execution_count": 85
        }
      ]
    },
    {
      "cell_type": "code",
      "metadata": {
        "id": "Qi_-WWry_zdt"
      },
      "source": [
        "TP = conf_matrix[0,0]\n",
        "FN = conf_matrix[0,1]\n",
        "FP = conf_matrix[1,0]\n",
        "TN = conf_matrix[1,1]\n",
        "\n",
        "tpr = TP / (TP + FN)\n",
        "fpr = FP / (FP + TN)\n",
        "\n",
        "def tpr(conf_matrix):\n",
        "  TP = conf_matrix[0,0]\n",
        "  FN = conf_matrix[0,1]\n",
        "  tpr = TP / (TP + FN)\n",
        "  return tpr\n",
        "\n",
        "def fpr(conf_matrix):\n",
        "  FP = conf_matrix[1,0]\n",
        "  TN = conf_matrix[1,1]\n",
        "  fpr = FP / (FP + TN)\n",
        "  return fpr"
      ],
      "execution_count": 58,
      "outputs": []
    },
    {
      "cell_type": "code",
      "metadata": {
        "id": "9f3odcQcB1Q6"
      },
      "source": [
        "# Compute ROC curve and ROC area\n",
        "fprs = list()\n",
        "tprs = list()\n",
        "fprs, tprs, thresholds = roc_curve(Y_test, Y_score)\n",
        "roc_auc = auc(fprs, tprs)"
      ],
      "execution_count": 83,
      "outputs": []
    },
    {
      "cell_type": "code",
      "metadata": {
        "colab": {
          "base_uri": "https://localhost:8080/",
          "height": 295
        },
        "id": "84xGsbXDD_QD",
        "outputId": "37100c5d-7fbf-4024-f0d4-226e274c5b1a"
      },
      "source": [
        "#Plot ROC Curve\n",
        "plt.figure()\n",
        "lw = 2\n",
        "plt.plot(fprs, tprs, color='darkorange',\n",
        "         lw=lw, label='ROC curve (area = %0.2f)' % roc_auc)\n",
        "plt.plot([0, 1], [0, 1], color='navy', lw=lw, linestyle='--')\n",
        "plt.xlim([0.0, 1.0])\n",
        "plt.ylim([0.0, 1.05])\n",
        "plt.xlabel('False Positive Rate')\n",
        "plt.ylabel('True Positive Rate')\n",
        "plt.title('Receiver operating characteristic example')\n",
        "plt.legend(loc=\"lower right\")\n",
        "plt.show()"
      ],
      "execution_count": 84,
      "outputs": [
        {
          "output_type": "display_data",
          "data": {
            "image/png": "[encoded data removed]",
            "text/plain": [
              "<Figure size 432x288 with 1 Axes>"
            ]
          },
          "metadata": {
            "needs_background": "light"
          }
        }
      ]
    }
  ]
}