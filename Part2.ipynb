{
  "nbformat": 4,
  "nbformat_minor": 0,
  "metadata": {
    "colab": {
      "name": "Part2.ipynb",
      "provenance": [],
      "collapsed_sections": [],
      "toc_visible": true,
      "authorship_tag": "ABX9TyPEuv+UN3/75CC1da711mKC",
      "include_colab_link": true
    },
    "kernelspec": {
      "name": "python3",
      "display_name": "Python 3"
    },
    "language_info": {
      "name": "python"
    }
  },
  "cells": [
    {
      "cell_type": "markdown",
      "metadata": {
        "id": "view-in-github",
        "colab_type": "text"
      },
      "source": [
        "<a href=\"https://colab.research.google.com/github/BennoKrojer/ML2/blob/main/Part2.ipynb\" target=\"_parent\"><img src=\"https://colab.research.google.com/assets/colab-badge.svg\" alt=\"Open In Colab\"/></a>"
      ]
    },
    {
      "cell_type": "markdown",
      "metadata": {
        "id": "NTqmXeilnZp2"
      },
      "source": [
        "# COMP 551 - Mini Project 2\n",
        "\n",
        "Starting point: [sklearn text data tutorial](https://scikit-learn.org/stable/tutorial/text_analytics/working_with_text_data.html)  \n",
        "\n",
        "Recommended Base Model: [sklearn's Logistic Regression package](https://scikit-learn.org/stable/modules/generated/sklearn.linear_model.LogisticRegression.html)\n"
      ]
    },
    {
      "cell_type": "code",
      "metadata": {
        "id": "3ahukbl7nUC4"
      },
      "source": [
        "from collections import Counter\n",
        "from math import log\n",
        "import random\n",
        "\n",
        "import numpy as np\n",
        "import pandas as pd\n",
        "import matplotlib.pyplot as plt\n",
        "\n",
        "import sklearn as sk\n",
        "from sklearn.feature_extraction.text import CountVectorizer, TfidfTransformer\n",
        "from sklearn.linear_model import LogisticRegression, SGDClassifier\n",
        "from sklearn.ensemble import RandomForestClassifier\n",
        "from sklearn.pipeline import Pipeline\n",
        "from sklearn import metrics\n",
        "from sklearn.metrics import roc_curve, auc\n",
        "from sklearn.model_selection import GridSearchCV, RandomizedSearchCV\n",
        "\n",
        "from nltk import word_tokenize\n",
        "from nltk.stem import WordNetLemmatizer"
      ],
      "execution_count": 4,
      "outputs": []
    },
    {
      "cell_type": "code",
      "metadata": {
        "id": "eU8rxFe16oQY",
        "colab": {
          "base_uri": "https://localhost:8080/"
        },
        "outputId": "dfc72ed7-f6aa-4cf5-9389-9d8cd1215898"
      },
      "source": [
        "import nltk\n",
        "nltk.download('punkt')\n",
        "nltk.download('wordnet')"
      ],
      "execution_count": 5,
      "outputs": [
        {
          "output_type": "stream",
          "name": "stdout",
          "text": [
            "[nltk_data] Downloading package punkt to /root/nltk_data...\n",
            "[nltk_data]   Unzipping tokenizers/punkt.zip.\n",
            "[nltk_data] Downloading package wordnet to /root/nltk_data...\n",
            "[nltk_data]   Unzipping corpora/wordnet.zip.\n"
          ]
        },
        {
          "output_type": "execute_result",
          "data": {
            "text/plain": [
              "True"
            ]
          },
          "metadata": {},
          "execution_count": 5
        }
      ]
    },
    {
      "cell_type": "code",
      "metadata": {
        "id": "PLGHfOU8z34J"
      },
      "source": [
        "# LemmaTokenizer defintion\n",
        "class LemmaTokenizer:\n",
        "  def __init__(self):\n",
        "    self.wnl = WordNetLemmatizer()\n",
        "  def __call__(self, doc):\n",
        "    return [self.wnl.lemmatize(t) for t in word_tokenize(doc)]"
      ],
      "execution_count": 6,
      "outputs": []
    },
    {
      "cell_type": "markdown",
      "metadata": {
        "id": "VO0fekBkqOrl"
      },
      "source": [
        "### Data Loading"
      ]
    },
    {
      "cell_type": "code",
      "metadata": {
        "id": "ykr4JRvoqOVN",
        "outputId": "b2b0d43a-abdd-4f30-a436-247e72179829",
        "colab": {
          "base_uri": "https://localhost:8080/"
        }
      },
      "source": [
        "!wget https://raw.githubusercontent.com/BennoKrojer/ML2/main/fake_news_data/fake_news_train.csv\n",
        "!wget https://raw.githubusercontent.com/BennoKrojer/ML2/main/fake_news_data/fake_news_val.csv\n",
        "!wget https://raw.githubusercontent.com/BennoKrojer/ML2/main/fake_news_data/fake_news_test.csv"
      ],
      "execution_count": 7,
      "outputs": [
        {
          "output_type": "stream",
          "name": "stdout",
          "text": [
            "--2021-10-26 05:42:52--  https://raw.githubusercontent.com/BennoKrojer/ML2/main/fake_news_data/fake_news_train.csv\n",
            "Resolving raw.githubusercontent.com (raw.githubusercontent.com)... 185.199.110.133, 185.199.111.133, 185.199.108.133, ...\n",
            "Connecting to raw.githubusercontent.com (raw.githubusercontent.com)|185.199.110.133|:443... connected.\n",
            "HTTP request sent, awaiting response... 200 OK\n",
            "Length: 63830815 (61M) [text/plain]\n",
            "Saving to: ‘fake_news_train.csv’\n",
            "\n",
            "fake_news_train.csv 100%[===================>]  60.87M  95.3MB/s    in 0.6s    \n",
            "\n",
            "2021-10-26 05:42:57 (95.3 MB/s) - ‘fake_news_train.csv’ saved [63830815/63830815]\n",
            "\n",
            "--2021-10-26 05:42:57--  https://raw.githubusercontent.com/BennoKrojer/ML2/main/fake_news_data/fake_news_val.csv\n",
            "Resolving raw.githubusercontent.com (raw.githubusercontent.com)... 185.199.108.133, 185.199.109.133, 185.199.110.133, ...\n",
            "Connecting to raw.githubusercontent.com (raw.githubusercontent.com)|185.199.108.133|:443... connected.\n",
            "HTTP request sent, awaiting response... 200 OK\n",
            "Length: 6533293 (6.2M) [text/plain]\n",
            "Saving to: ‘fake_news_val.csv’\n",
            "\n",
            "fake_news_val.csv   100%[===================>]   6.23M  --.-KB/s    in 0.1s    \n",
            "\n",
            "2021-10-26 05:42:58 (59.6 MB/s) - ‘fake_news_val.csv’ saved [6533293/6533293]\n",
            "\n",
            "--2021-10-26 05:42:58--  https://raw.githubusercontent.com/BennoKrojer/ML2/main/fake_news_data/fake_news_test.csv\n",
            "Resolving raw.githubusercontent.com (raw.githubusercontent.com)... 185.199.108.133, 185.199.109.133, 185.199.110.133, ...\n",
            "Connecting to raw.githubusercontent.com (raw.githubusercontent.com)|185.199.108.133|:443... connected.\n",
            "HTTP request sent, awaiting response... 200 OK\n",
            "Length: 9484222 (9.0M) [text/plain]\n",
            "Saving to: ‘fake_news_test.csv’\n",
            "\n",
            "fake_news_test.csv  100%[===================>]   9.04M  --.-KB/s    in 0.1s    \n",
            "\n",
            "2021-10-26 05:42:59 (76.6 MB/s) - ‘fake_news_test.csv’ saved [9484222/9484222]\n",
            "\n"
          ]
        }
      ]
    },
    {
      "cell_type": "code",
      "metadata": {
        "colab": {
          "base_uri": "https://localhost:8080/"
        },
        "id": "q4EotE27rZKj",
        "outputId": "50235268-fd4d-411d-e3e4-f70837107237"
      },
      "source": [
        "!ls"
      ],
      "execution_count": 8,
      "outputs": [
        {
          "output_type": "stream",
          "name": "stdout",
          "text": [
            "fake_news_test.csv  fake_news_train.csv  fake_news_val.csv  sample_data\n"
          ]
        }
      ]
    },
    {
      "cell_type": "code",
      "metadata": {
        "colab": {
          "base_uri": "https://localhost:8080/"
        },
        "id": "-ctx0Og8rPKS",
        "outputId": "308da059-29a8-4fd9-8e45-c28551851306"
      },
      "source": [
        "raw_data_train = pd.read_csv(\"fake_news_train.csv\")\n",
        "raw_data_val   = pd.read_csv(\"fake_news_val.csv\")\n",
        "raw_data_test  = pd.read_csv(\"fake_news_test.csv\")\n",
        "\n",
        "raw_data_train.head\n",
        "raw_data_train.columns"
      ],
      "execution_count": 9,
      "outputs": [
        {
          "output_type": "execute_result",
          "data": {
            "text/plain": [
              "Index(['text', 'label'], dtype='object')"
            ]
          },
          "metadata": {},
          "execution_count": 9
        }
      ]
    },
    {
      "cell_type": "code",
      "metadata": {
        "colab": {
          "base_uri": "https://localhost:8080/"
        },
        "id": "fu7tBzUNyDC3",
        "outputId": "e40028b9-aecb-478e-81e4-a83ec3f8e2ac"
      },
      "source": [
        "# Seperate raw data into text and label\n",
        "raw_data_train_text = raw_data_train[\"text\"]\n",
        "raw_data_train_label = raw_data_train[\"label\"]\n",
        "\n",
        "# Convert to numpy array so it is easier to work with\n",
        "X_train = np.asarray(raw_data_train_text)\n",
        "\n",
        "# Create numpy array to store target labels\n",
        "Y_train = np.asarray(raw_data_train_label)\n",
        "Y_train\n",
        "\n",
        "print(X_train.shape)\n",
        "print(Y_train.shape)"
      ],
      "execution_count": 10,
      "outputs": [
        {
          "output_type": "stream",
          "name": "stdout",
          "text": [
            "(20000,)\n",
            "(20000,)\n"
          ]
        }
      ]
    },
    {
      "cell_type": "code",
      "metadata": {
        "colab": {
          "base_uri": "https://localhost:8080/"
        },
        "id": "J_pGa57e70GT",
        "outputId": "c9331baa-e9e7-4fc9-c1f4-75106a795ced"
      },
      "source": [
        "# Seperate raw data for validation set\n",
        "raw_data_val_text = raw_data_val[\"text\"]\n",
        "raw_data_val_label = raw_data_val[\"label\"]\n",
        "X_val = np.asarray(raw_data_val_text)\n",
        "Y_val = np.asarray(raw_data_val_label)\n",
        "Y_val\n",
        "print(X_val.shape)\n",
        "print(Y_val.shape)"
      ],
      "execution_count": 11,
      "outputs": [
        {
          "output_type": "stream",
          "name": "stdout",
          "text": [
            "(2000,)\n",
            "(2000,)\n"
          ]
        }
      ]
    },
    {
      "cell_type": "code",
      "metadata": {
        "colab": {
          "base_uri": "https://localhost:8080/"
        },
        "id": "SOmGN5-v71-L",
        "outputId": "a0961796-27af-4d3a-8fc5-56765bd7539e"
      },
      "source": [
        "# Seperate raw data for test set\n",
        "raw_data_test_text = raw_data_test[\"text\"]\n",
        "raw_data_test_label = raw_data_test[\"label\"]\n",
        "X_test = np.asarray(raw_data_test_text)\n",
        "Y_test = np.asarray(raw_data_test_label)\n",
        "print(X_test.shape)\n",
        "print(Y_test.shape)"
      ],
      "execution_count": 12,
      "outputs": [
        {
          "output_type": "stream",
          "name": "stdout",
          "text": [
            "(3000,)\n",
            "(3000,)\n"
          ]
        }
      ]
    },
    {
      "cell_type": "markdown",
      "metadata": {
        "id": "ICbXsDsDqRFA"
      },
      "source": [
        "### Data Pre-Processing\n",
        "To preform machine learning on text, need to first extract features for the text."
      ]
    },
    {
      "cell_type": "markdown",
      "metadata": {
        "id": "KfK94Xnxsmlw"
      },
      "source": [
        "#### Bag of Words (Vectorizing)\n",
        "For the bag of words method, each word in the training data set is given an integer ID, then for each data sample, count the number of occurrences of each word, and store the count of each word as a feature for the training sample.  \n",
        "\n",
        "Ex:  \n",
        "`Data sample 'i' = \"The quick brown fox jumped over the brown dog\"`  \n",
        "`if id for word \"brown\" = 3`  \n",
        "`store X[i, 3] = 2 (word count)`    \n",
        "\n",
        "This method implies that the number of features = number of unique words in all training samples. Number features is typically > 100,000.  \n",
        "\n",
        "Thus, if every sample had every word, then the size of the matrix would be 100,000 x 100,000 x 4 bytes, which is not very practical. Luckily, most features will be zero for most samples, as most features only contain a small subset of the total set of words in the data set. For this reason, we usually say that the bag of words features array are *high-dimensional sparse data sets*.  \n",
        "\n",
        "Will use scipy.sparse matrix to store data set features\n",
        "\n",
        "\n"
      ]
    },
    {
      "cell_type": "code",
      "metadata": {
        "colab": {
          "base_uri": "https://localhost:8080/"
        },
        "id": "DwiZn_7ErrzB",
        "outputId": "e6df4a9d-0961-4b2d-e78b-5c1c8a237ff9"
      },
      "source": [
        "# Use sklearn.feature_extraction.text.CountVectorizer\n",
        "# To build a dictionary of features, and transform data samples into feature vectors\n",
        "count_vect = CountVectorizer()\n",
        "\n",
        "# training feature vectors\n",
        "X_train_counts = count_vect.fit_transform(raw_data_train_text)\n",
        "X_train_counts.shape"
      ],
      "execution_count": null,
      "outputs": [
        {
          "output_type": "execute_result",
          "data": {
            "text/plain": [
              "(20000, 145402)"
            ]
          },
          "metadata": {},
          "execution_count": 9
        }
      ]
    },
    {
      "cell_type": "markdown",
      "metadata": {
        "id": "i55yok79gSZt"
      },
      "source": [
        "Look into removing junk and/or non-english words."
      ]
    },
    {
      "cell_type": "code",
      "metadata": {
        "id": "-f63qwg4yoZQ"
      },
      "source": [
        "# Peak at output of count vectorizer\n",
        "count_vect.vocabulary_.get(u'algorithm')\n",
        "#count_vect.vocabulary_.get(u' ')\n",
        "#sorted_vocab = np.sort(count_vect.vocabulary_, axis=0)\n",
        "sorted(count_vect.vocabulary_.items(), key=lambda x : x[1], reverse=True)\n",
        "#count_vect.vocabulary_"
      ],
      "execution_count": null,
      "outputs": []
    },
    {
      "cell_type": "markdown",
      "metadata": {
        "id": "XgiRIKFYzQLg"
      },
      "source": [
        "#### Occurences -> Frequencies (Transforming)\n",
        "Occurence count is a good start, but is skewed towards longer documents. Longer text will on average have more occurences than shorter text. To compensate for this, we can look at term frequencies which is the number of occurences of a word in some text, divided by the total number of words in that text.  \n",
        "\n",
        "#### Downscale Word Weights\n",
        "Another pre-processing technique for text is to give higher weights to rarer words, and lower weights to words that appear frequently in the overall set of text. This is down by downscaling the weights of words that appear frequently in all texts.  \n",
        "\n",
        "These two approaches can be combined into something called tf-idf, or Term Frequency times Inverse Document Frequency. Can be computed using sklearn->TfidfTransformer."
      ]
    },
    {
      "cell_type": "code",
      "metadata": {
        "colab": {
          "base_uri": "https://localhost:8080/"
        },
        "id": "xNVBdsHYzosi",
        "outputId": "fb3c1e97-fb12-4871-a25c-a76116b8a063"
      },
      "source": [
        "tfidf_transformer = TfidfTransformer()\n",
        "# fit_transform combines fit and transform into one step\n",
        "X_train_tfidf = tfidf_transformer.fit_transform(X_train_counts)\n",
        "X_train_tfidf.shape"
      ],
      "execution_count": null,
      "outputs": [
        {
          "output_type": "execute_result",
          "data": {
            "text/plain": [
              "(20000, 145094)"
            ]
          },
          "metadata": {},
          "execution_count": 46
        }
      ]
    },
    {
      "cell_type": "markdown",
      "metadata": {
        "id": "0sDXUD51cE6i"
      },
      "source": [
        "Visualize word weights (after tf-idf)"
      ]
    },
    {
      "cell_type": "code",
      "metadata": {
        "colab": {
          "base_uri": "https://localhost:8080/"
        },
        "id": "BBB2KoPacEks",
        "outputId": "7cb6d4f7-ff38-4ec5-b179-9c837c238cde"
      },
      "source": [
        "\n",
        "X_train_tfidf"
      ],
      "execution_count": null,
      "outputs": [
        {
          "output_type": "execute_result",
          "data": {
            "text/plain": [
              "<20000x145402 sparse matrix of type '<class 'numpy.float64'>'\n",
              "\twith 5141820 stored elements in Compressed Sparse Row format>"
            ]
          },
          "metadata": {},
          "execution_count": 105
        }
      ]
    },
    {
      "cell_type": "markdown",
      "metadata": {
        "id": "O9t-EmYM5mc7"
      },
      "source": [
        "#### Scaling Features / Reducing \\# Features\n"
      ]
    },
    {
      "cell_type": "code",
      "metadata": {
        "id": "lybjzj1dvs-d",
        "colab": {
          "base_uri": "https://localhost:8080/",
          "height": 312
        },
        "outputId": "a78b2914-3545-430d-9a16-0595b4e49525"
      },
      "source": [
        "# Remove default stop words\n",
        "cv = CountVectorizer(stop_words='english')\n",
        "X_train_counts = cv.fit_transform(X_train)\n",
        "print(\"# terms: \", X_train_counts.shape)\n",
        "tfidf_transformer = TfidfTransformer()\n",
        "X_train_freq = tfidf_transformer.fit_transform(X_train_counts)\n",
        "\n",
        "# Create dictionary of corpus freq and plot\n",
        "word_list = cv.get_feature_names()\n",
        "freq_list = np.asarray(X_train_freq.sum(axis=0))[0]\n",
        "freq_dict = dict(zip(word_list, freq_list))\n",
        "plot_zipf(freq_dict)"
      ],
      "execution_count": null,
      "outputs": [
        {
          "output_type": "stream",
          "name": "stdout",
          "text": [
            "# terms:  (20000, 145094)\n"
          ]
        },
        {
          "output_type": "display_data",
          "data": {
            "image/png": "[encoded data removed]",
            "text/plain": [
              "<Figure size 432x288 with 1 Axes>"
            ]
          },
          "metadata": {
            "needs_background": "light"
          }
        }
      ]
    },
    {
      "cell_type": "code",
      "metadata": {
        "id": "9Qcuywe0uhSZ",
        "colab": {
          "base_uri": "https://localhost:8080/",
          "height": 590
        },
        "outputId": "00ab73e1-2f16-4b61-e159-63e544aaa3ba"
      },
      "source": [
        "# Remove all words with only 1 occurence\n",
        "cv = CountVectorizer(min_df=2)\n",
        "X_train_counts = cv.fit_transform(X_train)\n",
        "print(\"# terms: \", X_train_counts.shape)\n",
        "tfidf_transformer = TfidfTransformer()\n",
        "X_train_freq = tfidf_transformer.fit_transform(X_train_counts)\n",
        "\n",
        "# Create dictionary of corpus freq and plot\n",
        "word_list = cv.get_feature_names()\n",
        "freq_list = np.asarray(X_train_freq.sum(axis=0))[0]\n",
        "freq_dict = dict(zip(word_list, freq_list))\n",
        "plot_zipf(freq_dict)\n",
        "\n",
        "# Also plot corpus zipf with count instead of frequency\n",
        "count_list = np.asarray(X_train_counts.sum(axis=0))[0]\n",
        "count_dict = dict(zip(word_list, count_list))\n",
        "plot_zipf(count_dict)"
      ],
      "execution_count": null,
      "outputs": [
        {
          "output_type": "stream",
          "name": "stdout",
          "text": [
            "# terms:  (20000, 70631)\n"
          ]
        },
        {
          "output_type": "display_data",
          "data": {
            "image/png": "[encoded data removed]",
            "text/plain": [
              "<Figure size 432x288 with 1 Axes>"
            ]
          },
          "metadata": {
            "needs_background": "light"
          }
        },
        {
          "output_type": "display_data",
          "data": {
            "image/png": "[encoded data removed]",
            "text/plain": [
              "<Figure size 432x288 with 1 Axes>"
            ]
          },
          "metadata": {
            "needs_background": "light"
          }
        }
      ]
    },
    {
      "cell_type": "code",
      "metadata": {
        "id": "tyWsWJxd9L32",
        "colab": {
          "base_uri": "https://localhost:8080/"
        },
        "outputId": "96460526-d9b4-4857-91bd-3d731a3a6799"
      },
      "source": [
        "count1s = 0\n",
        "for count in np.asarray(X_train_counts.sum(axis=0))[0]:\n",
        "  #print(count)\n",
        "  if count == 1:\n",
        "    count1s += 1\n",
        "print(count1s)"
      ],
      "execution_count": null,
      "outputs": [
        {
          "output_type": "stream",
          "name": "stdout",
          "text": [
            "0\n"
          ]
        }
      ]
    },
    {
      "cell_type": "code",
      "metadata": {
        "id": "WEZ5ItF9xNdG",
        "colab": {
          "base_uri": "https://localhost:8080/",
          "height": 346
        },
        "outputId": "d366be95-f865-4982-e1ec-a2ccfa2f45c6"
      },
      "source": [
        "# Remove words that appear too frequently\n",
        "max_df_test = 0.7\n",
        "cv = CountVectorizer(max_df=max_df_test)\n",
        "X_train_counts = cv.fit_transform(X_train)\n",
        "print(\"# terms: \", X_train_counts.shape)\n",
        "print(\"stop words for max_df=\", max_df_test,\": \")\n",
        "print(cv.stop_words_)\n",
        "tfidf_transformer = TfidfTransformer()\n",
        "X_train_freq = tfidf_transformer.fit_transform(X_train_counts)\n",
        "\n",
        "# Create dictionary of corpus freq and plot\n",
        "word_list = cv.get_feature_names()\n",
        "freq_list = np.asarray(X_train_freq.sum(axis=0))[0]\n",
        "freq_dict = dict(zip(word_list, freq_list))\n",
        "plot_zipf(freq_dict)"
      ],
      "execution_count": null,
      "outputs": [
        {
          "output_type": "stream",
          "name": "stdout",
          "text": [
            "# terms:  (20000, 145379)\n",
            "stop words for max_df= 0.7 : \n",
            "{'is', 'by', 'of', 'was', 'for', 'but', 'that', 'on', 'to', 'it', 'at', 'have', 'are', 'from', 'with', 'the', 'be', 'has', 'and', 'an', 'as', 'this', 'in'}\n"
          ]
        },
        {
          "output_type": "display_data",
          "data": {
            "image/png": "[encoded data removed]",
            "text/plain": [
              "<Figure size 432x288 with 1 Axes>"
            ]
          },
          "metadata": {
            "needs_background": "light"
          }
        }
      ]
    },
    {
      "cell_type": "markdown",
      "metadata": {
        "id": "OVIHxGFzmB1B"
      },
      "source": [
        "#### Feature Visualization - Zipf's Law \n",
        "\n",
        "Zipf's law: plot of log(rank) vs log(freq) should be approx. straight line with slope = -1  \n",
        "x = log(index)  \n",
        "y = log(freq)  "
      ]
    },
    {
      "cell_type": "code",
      "metadata": {
        "id": "ulLNGKpJmB-U"
      },
      "source": [
        "# Start with dictionary: {(word: freq), ...}\n",
        "# Should work with frequency or count\n",
        "def plot_zipf(word_dict, xlabel=None, ylabel=None, save=None):\n",
        "  # Sort dictionary\n",
        "  counter = Counter(word_dict)\n",
        "  word_dict = counter.most_common()\n",
        "  logIndexs = list()\n",
        "  logCounts = list()\n",
        "  i = 1 # log(0) is undefined, so start rank at 1\n",
        "  for word in word_dict:\n",
        "    logIndexs.append(log(i))\n",
        "    word_freq = word[1]\n",
        "    logCounts.append(log(word_freq))\n",
        "    i += 1\n",
        "  # plot using matplotlib scatter\n",
        "  fig, ax = plt.subplots() # figsize=(10, 6)\n",
        "  ax.scatter(logIndexs, logCounts)\n",
        "  if xlabel == None:\n",
        "    xlabel = \"log( Word Frequency Rank )\"\n",
        "  ax.set_xlabel(xlabel)\n",
        "  if ylabel == None:\n",
        "    ylabel = \"log( Word Frequency )\"\n",
        "  ax.set_ylabel(ylabel)\n",
        "  ax.set_title(\"Visualizing Zipf's Law in Fake News Corpus\")\n",
        "  if save is not None:\n",
        "    fig.savefig(save)\n"
      ],
      "execution_count": null,
      "outputs": []
    },
    {
      "cell_type": "code",
      "metadata": {
        "id": "OYnNREbBq7dH"
      },
      "source": [
        "cv = CountVectorizer()\n",
        "X_counts_test = cv.fit_transform(X_train)"
      ],
      "execution_count": null,
      "outputs": []
    },
    {
      "cell_type": "code",
      "metadata": {
        "id": "46K1OCVMn94f",
        "colab": {
          "base_uri": "https://localhost:8080/",
          "height": 295
        },
        "outputId": "3097d71f-0c9e-475a-8277-874d3f2f5add"
      },
      "source": [
        "occurence_list = np.asarray(X_counts_test.sum(axis=0))[0]\n",
        "#print(list(occurence_list[0]))\n",
        "word_list = cv.get_feature_names()\n",
        "test_dict = dict(zip(word_list, occurence_list))\n",
        "\n",
        "plot_zipf(test_dict, ylabel=\"log( Word Occurence )\", xlabel=\"log( Word Occurence Rank )\", save=\"zipf_occur.png\")"
      ],
      "execution_count": null,
      "outputs": [
        {
          "output_type": "display_data",
          "data": {
            "image/png": "[encoded data removed]",
            "text/plain": [
              "<Figure size 432x288 with 1 Axes>"
            ]
          },
          "metadata": {
            "needs_background": "light"
          }
        }
      ]
    },
    {
      "cell_type": "code",
      "metadata": {
        "id": "EMLWbuM_sNLA"
      },
      "source": [
        "# Zipf's Law with freq instead of occurence\n",
        "# First get frequencies from count using tfidf_transformer\n",
        "tfidf_transformer = TfidfTransformer()\n",
        "X_tfidf_test = tfidf_transformer.fit_transform(X_counts_test)"
      ],
      "execution_count": null,
      "outputs": []
    },
    {
      "cell_type": "code",
      "metadata": {
        "id": "_YiAUjq9sput",
        "colab": {
          "base_uri": "https://localhost:8080/",
          "height": 295
        },
        "outputId": "a18756be-5b4d-4a41-9a84-5f34d5c35295"
      },
      "source": [
        "freq_list = np.asarray(X_tfidf_test.sum(axis=0))[0]\n",
        "#print(freq_list)\n",
        "freq_dict = dict(zip(word_list, freq_list))\n",
        "\n",
        "plot_zipf(freq_dict, save=\"zipf_freq.png\")"
      ],
      "execution_count": null,
      "outputs": [
        {
          "output_type": "display_data",
          "data": {
            "image/png": "[encoded data removed]",
            "text/plain": [
              "<Figure size 432x288 with 1 Axes>"
            ]
          },
          "metadata": {
            "needs_background": "light"
          }
        }
      ]
    },
    {
      "cell_type": "markdown",
      "metadata": {
        "id": "PLYAELU0rsHs"
      },
      "source": [
        "### Model Training\n",
        "Linear model - Logistic Regression using sklearn.linear_model.LogisticRegression  \n",
        "\n",
        "Start with default parameters for Logistic Regression classifier:  \n",
        "- penalty  - norm of the penalty (default = 'l2')  \n",
        "- tol      - tolerance for stopping criteria (default = 1e-4)  \n",
        "- max_iter - Maximum number of iterations taken for the solvers to converge (default = 100) \n",
        "\n",
        "can also specify # cpus to use\n",
        "n_jobs = default = None: means 1, use -1 to specify all processors"
      ]
    },
    {
      "cell_type": "markdown",
      "metadata": {
        "id": "TRkRtxBq7SCb"
      },
      "source": [
        "#### Fit"
      ]
    },
    {
      "cell_type": "code",
      "metadata": {
        "colab": {
          "base_uri": "https://localhost:8080/"
        },
        "id": "F-VqA9eCrsW2",
        "outputId": "7e993055-6c1c-4f33-86bb-613247314a08"
      },
      "source": [
        "# is model same as classifier?\n",
        "# clf = classifier\n",
        "clf = LogisticRegression(penalty='l2', tol=1e-4, max_iter=1000)\n",
        "\n",
        "# fit classifier\n",
        "clf.fit(X_train_tfidf, Y_train)\n",
        "\n"
      ],
      "execution_count": null,
      "outputs": [
        {
          "output_type": "execute_result",
          "data": {
            "text/plain": [
              "LogisticRegression(C=1.0, class_weight=None, dual=False, fit_intercept=True,\n",
              "                   intercept_scaling=1, l1_ratio=None, max_iter=1000,\n",
              "                   multi_class='auto', n_jobs=None, penalty='l2',\n",
              "                   random_state=None, solver='lbfgs', tol=0.0001, verbose=0,\n",
              "                   warm_start=False)"
            ]
          },
          "metadata": {},
          "execution_count": 13
        }
      ]
    },
    {
      "cell_type": "code",
      "metadata": {
        "colab": {
          "base_uri": "https://localhost:8080/",
          "height": 505
        },
        "id": "SQSAs5M7MckH",
        "outputId": "c8c34ebf-e2c6-46d1-ac76-d0d5b2f71c88"
      },
      "source": [
        "# Score\n",
        "Y_score = clf.decision_function(X_test)\n",
        "Y_score"
      ],
      "execution_count": null,
      "outputs": [
        {
          "output_type": "error",
          "ename": "ValueError",
          "evalue": "ignored",
          "traceback": [
            "\u001b[0;31m---------------------------------------------------------------------------\u001b[0m",
            "\u001b[0;31mValueError\u001b[0m                                Traceback (most recent call last)",
            "\u001b[0;32m<ipython-input-60-3c94d1a40c51>\u001b[0m in \u001b[0;36m<module>\u001b[0;34m()\u001b[0m\n\u001b[1;32m      1\u001b[0m \u001b[0;31m# Score\u001b[0m\u001b[0;34m\u001b[0m\u001b[0;34m\u001b[0m\u001b[0;34m\u001b[0m\u001b[0m\n\u001b[0;32m----> 2\u001b[0;31m \u001b[0mY_score\u001b[0m \u001b[0;34m=\u001b[0m \u001b[0mclf\u001b[0m\u001b[0;34m.\u001b[0m\u001b[0mdecision_function\u001b[0m\u001b[0;34m(\u001b[0m\u001b[0mX_test\u001b[0m\u001b[0;34m)\u001b[0m\u001b[0;34m\u001b[0m\u001b[0;34m\u001b[0m\u001b[0m\n\u001b[0m\u001b[1;32m      3\u001b[0m \u001b[0mY_score\u001b[0m\u001b[0;34m\u001b[0m\u001b[0;34m\u001b[0m\u001b[0m\n",
            "\u001b[0;32m/usr/local/lib/python3.7/dist-packages/sklearn/linear_model/_base.py\u001b[0m in \u001b[0;36mdecision_function\u001b[0;34m(self, X)\u001b[0m\n\u001b[1;32m    266\u001b[0m         \u001b[0mcheck_is_fitted\u001b[0m\u001b[0;34m(\u001b[0m\u001b[0mself\u001b[0m\u001b[0;34m)\u001b[0m\u001b[0;34m\u001b[0m\u001b[0;34m\u001b[0m\u001b[0m\n\u001b[1;32m    267\u001b[0m \u001b[0;34m\u001b[0m\u001b[0m\n\u001b[0;32m--> 268\u001b[0;31m         \u001b[0mX\u001b[0m \u001b[0;34m=\u001b[0m \u001b[0mcheck_array\u001b[0m\u001b[0;34m(\u001b[0m\u001b[0mX\u001b[0m\u001b[0;34m,\u001b[0m \u001b[0maccept_sparse\u001b[0m\u001b[0;34m=\u001b[0m\u001b[0;34m'csr'\u001b[0m\u001b[0;34m)\u001b[0m\u001b[0;34m\u001b[0m\u001b[0;34m\u001b[0m\u001b[0m\n\u001b[0m\u001b[1;32m    269\u001b[0m \u001b[0;34m\u001b[0m\u001b[0m\n\u001b[1;32m    270\u001b[0m         \u001b[0mn_features\u001b[0m \u001b[0;34m=\u001b[0m \u001b[0mself\u001b[0m\u001b[0;34m.\u001b[0m\u001b[0mcoef_\u001b[0m\u001b[0;34m.\u001b[0m\u001b[0mshape\u001b[0m\u001b[0;34m[\u001b[0m\u001b[0;36m1\u001b[0m\u001b[0;34m]\u001b[0m\u001b[0;34m\u001b[0m\u001b[0;34m\u001b[0m\u001b[0m\n",
            "\u001b[0;32m/usr/local/lib/python3.7/dist-packages/sklearn/utils/validation.py\u001b[0m in \u001b[0;36mcheck_array\u001b[0;34m(array, accept_sparse, accept_large_sparse, dtype, order, copy, force_all_finite, ensure_2d, allow_nd, ensure_min_samples, ensure_min_features, warn_on_dtype, estimator)\u001b[0m\n\u001b[1;32m    529\u001b[0m                     \u001b[0marray\u001b[0m \u001b[0;34m=\u001b[0m \u001b[0marray\u001b[0m\u001b[0;34m.\u001b[0m\u001b[0mastype\u001b[0m\u001b[0;34m(\u001b[0m\u001b[0mdtype\u001b[0m\u001b[0;34m,\u001b[0m \u001b[0mcasting\u001b[0m\u001b[0;34m=\u001b[0m\u001b[0;34m\"unsafe\"\u001b[0m\u001b[0;34m,\u001b[0m \u001b[0mcopy\u001b[0m\u001b[0;34m=\u001b[0m\u001b[0;32mFalse\u001b[0m\u001b[0;34m)\u001b[0m\u001b[0;34m\u001b[0m\u001b[0;34m\u001b[0m\u001b[0m\n\u001b[1;32m    530\u001b[0m                 \u001b[0;32melse\u001b[0m\u001b[0;34m:\u001b[0m\u001b[0;34m\u001b[0m\u001b[0;34m\u001b[0m\u001b[0m\n\u001b[0;32m--> 531\u001b[0;31m                     \u001b[0marray\u001b[0m \u001b[0;34m=\u001b[0m \u001b[0mnp\u001b[0m\u001b[0;34m.\u001b[0m\u001b[0masarray\u001b[0m\u001b[0;34m(\u001b[0m\u001b[0marray\u001b[0m\u001b[0;34m,\u001b[0m \u001b[0morder\u001b[0m\u001b[0;34m=\u001b[0m\u001b[0morder\u001b[0m\u001b[0;34m,\u001b[0m \u001b[0mdtype\u001b[0m\u001b[0;34m=\u001b[0m\u001b[0mdtype\u001b[0m\u001b[0;34m)\u001b[0m\u001b[0;34m\u001b[0m\u001b[0;34m\u001b[0m\u001b[0m\n\u001b[0m\u001b[1;32m    532\u001b[0m             \u001b[0;32mexcept\u001b[0m \u001b[0mComplexWarning\u001b[0m\u001b[0;34m:\u001b[0m\u001b[0;34m\u001b[0m\u001b[0;34m\u001b[0m\u001b[0m\n\u001b[1;32m    533\u001b[0m                 raise ValueError(\"Complex data not supported\\n\"\n",
            "\u001b[0;32m/usr/local/lib/python3.7/dist-packages/numpy/core/_asarray.py\u001b[0m in \u001b[0;36masarray\u001b[0;34m(a, dtype, order)\u001b[0m\n\u001b[1;32m     81\u001b[0m \u001b[0;34m\u001b[0m\u001b[0m\n\u001b[1;32m     82\u001b[0m     \"\"\"\n\u001b[0;32m---> 83\u001b[0;31m     \u001b[0;32mreturn\u001b[0m \u001b[0marray\u001b[0m\u001b[0;34m(\u001b[0m\u001b[0ma\u001b[0m\u001b[0;34m,\u001b[0m \u001b[0mdtype\u001b[0m\u001b[0;34m,\u001b[0m \u001b[0mcopy\u001b[0m\u001b[0;34m=\u001b[0m\u001b[0;32mFalse\u001b[0m\u001b[0;34m,\u001b[0m \u001b[0morder\u001b[0m\u001b[0;34m=\u001b[0m\u001b[0morder\u001b[0m\u001b[0;34m)\u001b[0m\u001b[0;34m\u001b[0m\u001b[0;34m\u001b[0m\u001b[0m\n\u001b[0m\u001b[1;32m     84\u001b[0m \u001b[0;34m\u001b[0m\u001b[0m\n\u001b[1;32m     85\u001b[0m \u001b[0;34m\u001b[0m\u001b[0m\n",
            "\u001b[0;31mValueError\u001b[0m: could not convert string to float: 'When don\\'t you have something appropriate to wear?\\nGreat, looks mean. And we think that\\'s the point of retirement sunglasses. If you don\\'t wear them in public, you don\\'t know exactly what you\\'ve got.\\nAdvertisement - Continue Reading Below\\nTo that end, lenses make the wearer look as if they’re wearing as part of their “heavenly” life, and the only special effect is the glasses get lost or stolen or lost, or those pesky gaps in the appearance.\\nThe style so recently included Peter Frampton sunglasses, Scarlett Johansson light sunglasses, Lupita Nyong\\'o light sunglasses, Armie Hammer light sunglasses, and that old-timey yego-posito prescription sunglasses. Or, of course, flats.\\nAnd now, art-house sunglasses – the kind made possible, by the people who sell them – are up for sale as Christie\\'s writes that they\\'re as good as they’re going to get.\\n\"\\'They\\'re beautiful,\" one top designer said of the pricey frames. \"It\\'s no joke,” he added. “They’re really indestructible.”\\nWhy do we have to call them sunglasses? The famous jeweler is famed for letting us know that matte-coated lenses actually make a difference. They even aid some Instagram-worthy selfies by making them look a little sequin-jointed.\\nAdvertisement - Continue Reading Below\\nBut these frames don’t just function as a cheap accessory, they work just as well. Sadly, they don’t stay on for very long. You can\\'t wear them for much longer and they\\'l..."
          ]
        }
      ]
    },
    {
      "cell_type": "markdown",
      "metadata": {
        "id": "nQnrepY87The"
      },
      "source": [
        "#### Validate"
      ]
    },
    {
      "cell_type": "code",
      "metadata": {
        "colab": {
          "base_uri": "https://localhost:8080/"
        },
        "id": "BwkimEED7Upb",
        "outputId": "7945a75f-09ef-4f12-94aa-77c336fc3b0b"
      },
      "source": [
        "# Pre process validation data in same way as train data\n",
        "# But only transform data, as count_vectorizer and tfidf_transformer have already been\n",
        "# fit to training data (and don't want to fit to validation or test data)\n",
        "\n",
        "X_val_counts = count_vect.transform(raw_data_val_text)\n",
        "print(\"X_val_counts.shape: \", X_val_counts.shape)\n",
        "X_val_tfidf = tfidf_transformer.transform(X_val_counts)\n",
        "print(\"X_val_tfidf.shape: \", X_val_tfidf.shape)\n",
        "\n",
        "val_pred = clf.predict(X_val_tfidf)\n",
        "\n",
        "print(\"val_pred.shape: \", val_pred.shape)\n",
        "print(\"Y_val.shape: \", Y_val.shape)\n",
        "\n",
        "# Compare predicitions to labels\n",
        "np.mean(val_pred == Y_val)"
      ],
      "execution_count": null,
      "outputs": [
        {
          "output_type": "stream",
          "name": "stdout",
          "text": [
            "X_val_counts.shape:  (2000, 145402)\n",
            "X_val_tfidf.shape:  (2000, 145402)\n",
            "val_pred.shape:  (2000,)\n",
            "Y_val.shape:  (2000,)\n"
          ]
        },
        {
          "output_type": "execute_result",
          "data": {
            "text/plain": [
              "0.731"
            ]
          },
          "metadata": {},
          "execution_count": 14
        }
      ]
    },
    {
      "cell_type": "markdown",
      "metadata": {
        "id": "k__mlSeV9pWy"
      },
      "source": [
        "### Pipeline (Data Pre-Processing + Model Training)\n",
        "In order to make our sequence of pre-processing and classifying easier, sklearn allows us to create a pipeline to apply the operations to a set of data: vectorizer->transformer->classifier.  \n",
        "- Vectorizer (\"vect\") = Bag of Words, transform text to counts of words in text\n",
        "- Transformer (\"tfidf\") = TF-IDF transform\n",
        "- Classifier (\"lr-clf\") = Logistic Regression classifier"
      ]
    },
    {
      "cell_type": "code",
      "metadata": {
        "id": "yiHfFd-i-EOY"
      },
      "source": [
        "text_pipeline = Pipeline([\n",
        "    (\"vect\", CountVectorizer()),\n",
        "    (\"tfidf\", TfidfTransformer()),\n",
        "    (\"lr-clf\", LogisticRegression(max_iter=500, solver='saga')),\n",
        "])"
      ],
      "execution_count": 18,
      "outputs": []
    },
    {
      "cell_type": "code",
      "metadata": {
        "colab": {
          "base_uri": "https://localhost:8080/"
        },
        "id": "xAtH1Sfy-sha",
        "outputId": "d817451f-284a-441d-fffc-b069cf2dc22f"
      },
      "source": [
        "# Can now train using a single command / function\n",
        "text_pipeline.fit(X_train, Y_train)"
      ],
      "execution_count": 19,
      "outputs": [
        {
          "output_type": "execute_result",
          "data": {
            "text/plain": [
              "Pipeline(memory=None,\n",
              "         steps=[('vect',\n",
              "                 CountVectorizer(analyzer='word', binary=False,\n",
              "                                 decode_error='strict',\n",
              "                                 dtype=<class 'numpy.int64'>, encoding='utf-8',\n",
              "                                 input='content', lowercase=True, max_df=1.0,\n",
              "                                 max_features=None, min_df=1,\n",
              "                                 ngram_range=(1, 1), preprocessor=None,\n",
              "                                 stop_words=None, strip_accents=None,\n",
              "                                 token_pattern='(?u)\\\\b\\\\w\\\\w+\\\\b',\n",
              "                                 tokenizer=None, vocabulary=None)),\n",
              "                ('tfidf',\n",
              "                 TfidfTransformer(norm='l2', smooth_idf=True,\n",
              "                                  sublinear_tf=False, use_idf=True)),\n",
              "                ('lr-clf',\n",
              "                 LogisticRegression(C=1.0, class_weight=None, dual=False,\n",
              "                                    fit_intercept=True, intercept_scaling=1,\n",
              "                                    l1_ratio=None, max_iter=500,\n",
              "                                    multi_class='auto', n_jobs=None,\n",
              "                                    penalty='l2', random_state=None,\n",
              "                                    solver='saga', tol=0.0001, verbose=0,\n",
              "                                    warm_start=False))],\n",
              "         verbose=False)"
            ]
          },
          "metadata": {},
          "execution_count": 19
        }
      ]
    },
    {
      "cell_type": "code",
      "metadata": {
        "colab": {
          "base_uri": "https://localhost:8080/"
        },
        "id": "maWUNYZ8_vaT",
        "outputId": "96e5dbf3-5538-4ea9-ea85-e7238ff7556b"
      },
      "source": [
        "# Train pipeline using train set\n",
        "text_pipeline.score(raw_data_train_text, Y_train)"
      ],
      "execution_count": null,
      "outputs": [
        {
          "output_type": "execute_result",
          "data": {
            "text/plain": [
              "0.85525"
            ]
          },
          "metadata": {},
          "execution_count": 17
        }
      ]
    },
    {
      "cell_type": "code",
      "metadata": {
        "colab": {
          "base_uri": "https://localhost:8080/"
        },
        "id": "9kaAuBPsAQzm",
        "outputId": "25d715b2-6178-4850-9250-07338a7333cf"
      },
      "source": [
        "# Predict labels for train set using pipeline\n",
        "Y_pred = text_pipeline.predict(raw_data_train_text)\n",
        "#print(\"Y_pred.shape: \", Y_pred.shape, \", Y_train.shape: \", Y_train.shape)\n",
        "acc = np.mean(Y_pred == Y_train)\n",
        "print(acc)"
      ],
      "execution_count": null,
      "outputs": [
        {
          "output_type": "stream",
          "name": "stdout",
          "text": [
            "0.85525\n"
          ]
        }
      ]
    },
    {
      "cell_type": "code",
      "metadata": {
        "colab": {
          "base_uri": "https://localhost:8080/"
        },
        "id": "WppegNW5_Vu6",
        "outputId": "99e17c6f-1637-4f71-df79-2cb711a242da"
      },
      "source": [
        "# Validate using pipeline\n",
        "Y_pred = text_pipeline.predict(raw_data_val_text)\n",
        "#print(\"Y_pred.shape: \", Y_pred.shape, \", Y_val.shape: \", Y_val.shape)\n",
        "acc = np.mean(Y_pred == Y_val)\n",
        "print(acc)"
      ],
      "execution_count": null,
      "outputs": [
        {
          "output_type": "stream",
          "name": "stdout",
          "text": [
            "0.731\n"
          ]
        }
      ]
    },
    {
      "cell_type": "markdown",
      "metadata": {
        "id": "9A1umbRo3dBC"
      },
      "source": [
        "### Parameter Tuning\n",
        "\n",
        "First using grid search and then random search or other methods..\n",
        "\n",
        "tol: float, default=1e-4\n",
        "Tolerance for stopping criteria.\n",
        "\n",
        "C: float, default=1.0\n",
        "Inverse of regularization strength; must be a positive float. Like in support vector machines, smaller values specify stronger regularization."
      ]
    },
    {
      "cell_type": "code",
      "metadata": {
        "colab": {
          "base_uri": "https://localhost:8080/"
        },
        "id": "roI7nYTt3n37",
        "outputId": "414f288c-f5cb-4d31-cd61-c4d57d09a213"
      },
      "source": [
        "parameters = {\n",
        "    'vect__ngram_range': [(1,1), (1,2)],\n",
        "    'tfidf__use_idf': (True, False),\n",
        "    'lr-clf__penalty': [None, 'l1', 'l2', 'elasticnet'],\n",
        "    'lr-clf__tol': [1e-4, 1e-3, 1e-2], # tolerance for gradient decsent stopping criteria\n",
        "    'lr-clf__C': [1,2], # regularization parameter\n",
        "    'lr-clf__random_state': [None, 1], # shuffled vs unshuffled\n",
        "    'lr-clf__max_iter': [100, 500, 1000, 5000]\n",
        "}\n",
        "parameters = {\n",
        "    'vect__ngram_range': [(1,1), (1,2)]\n",
        "}\n",
        "print(text_pipeline.get_params().keys())"
      ],
      "execution_count": null,
      "outputs": [
        {
          "output_type": "stream",
          "name": "stdout",
          "text": [
            "dict_keys(['memory', 'steps', 'verbose', 'vect', 'tfidf', 'lr-clf', 'vect__analyzer', 'vect__binary', 'vect__decode_error', 'vect__dtype', 'vect__encoding', 'vect__input', 'vect__lowercase', 'vect__max_df', 'vect__max_features', 'vect__min_df', 'vect__ngram_range', 'vect__preprocessor', 'vect__stop_words', 'vect__strip_accents', 'vect__token_pattern', 'vect__tokenizer', 'vect__vocabulary', 'tfidf__norm', 'tfidf__smooth_idf', 'tfidf__sublinear_tf', 'tfidf__use_idf', 'lr-clf__C', 'lr-clf__class_weight', 'lr-clf__dual', 'lr-clf__fit_intercept', 'lr-clf__intercept_scaling', 'lr-clf__l1_ratio', 'lr-clf__max_iter', 'lr-clf__multi_class', 'lr-clf__n_jobs', 'lr-clf__penalty', 'lr-clf__random_state', 'lr-clf__solver', 'lr-clf__tol', 'lr-clf__verbose', 'lr-clf__warm_start'])\n"
          ]
        }
      ]
    },
    {
      "cell_type": "code",
      "metadata": {
        "colab": {
          "base_uri": "https://localhost:8080/"
        },
        "id": "i11N4atIQgy5",
        "outputId": "b3265157-09b0-4343-c85a-2561f78f9b68"
      },
      "source": [
        "gs_clf = GridSearchCV(text_pipeline, parameters, cv=5, n_jobs=-1)\n",
        "gs_clf = gs_clf.fit(X_train, Y_train)\n",
        "gs_clf.predict(X_test)\n",
        "gs_clf.best_score_\n",
        "gs_clf.best_params_"
      ],
      "execution_count": null,
      "outputs": [
        {
          "output_type": "stream",
          "name": "stderr",
          "text": [
            "/usr/local/lib/python3.7/dist-packages/joblib/externals/loky/process_executor.py:691: UserWarning: A worker stopped while some jobs were given to the executor. This can be caused by a too short worker timeout or by a memory leak.\n",
            "  \"timeout or by a memory leak.\", UserWarning\n"
          ]
        },
        {
          "output_type": "execute_result",
          "data": {
            "text/plain": [
              "0.71415"
            ]
          },
          "metadata": {},
          "execution_count": 101
        }
      ]
    },
    {
      "cell_type": "markdown",
      "metadata": {
        "id": "HLMrgwFMlebV"
      },
      "source": [
        "Random Search with All Params"
      ]
    },
    {
      "cell_type": "code",
      "metadata": {
        "id": "D4AFnsEZlg5v"
      },
      "source": [
        "# implement RandomSearch"
      ],
      "execution_count": null,
      "outputs": []
    },
    {
      "cell_type": "markdown",
      "metadata": {
        "id": "UDH8jn8sx24E"
      },
      "source": [
        "Parameter tuning, but focusing on parameters for preprocessing rather than classifying"
      ]
    },
    {
      "cell_type": "code",
      "metadata": {
        "id": "FgSPRqc7ycH1"
      },
      "source": [
        "tuning_pipeline = Pipeline([\n",
        "    (\"vect\", CountVectorizer(tokenizer=LemmaTokenizer())),\n",
        "    (\"tfidf\", TfidfTransformer()),\n",
        "    (\"lr-clf\", LogisticRegression(max_iter=500, random_state=0)),\n",
        "])"
      ],
      "execution_count": null,
      "outputs": []
    },
    {
      "cell_type": "code",
      "metadata": {
        "id": "dKSZDFsqx-KD",
        "colab": {
          "base_uri": "https://localhost:8080/"
        },
        "outputId": "0eb99355-d68b-4c28-8b47-2ccf1945afea"
      },
      "source": [
        "parameters = {\n",
        "    #'vect__max_df': [1.0, 0.6, 0.7, 0.8], # default = 1.0\n",
        "    'vect__max_features': [10000, 50000, None], # default = None\n",
        "    'vect__min_df': [1, 2, 3], # default = 1\n",
        "    'vect__ngram_range': [(1,1), (1,2), (2,2)], # default = (1,1)\n",
        "    #'vect__stop_words': [None, 'english'], # default = None\n",
        "    #'vect__strip_accents': [None, 'ascii'], # default = None\n",
        "    #'vect__tokenizer': [None, LemmaTokenizer()], # default = None\n",
        "    'tfidf__use_idf': (True, False), # default = True\n",
        "    #'lr-clf__random_state': [None, 1], # shuffled vs unshuffled\n",
        "}\n",
        "print(parameters)"
      ],
      "execution_count": null,
      "outputs": [
        {
          "output_type": "stream",
          "name": "stdout",
          "text": [
            "{'vect__max_features': [10000, 50000, None], 'vect__min_df': [1, 2, 3], 'vect__ngram_range': [(1, 1), (1, 2), (2, 2)], 'tfidf__use_idf': (True, False)}\n"
          ]
        }
      ]
    },
    {
      "cell_type": "code",
      "metadata": {
        "id": "e1PMQY1IUlfd"
      },
      "source": [
        "# Reduce training dataset size to speedup parameter searching\n",
        "param_train_X = X_train[:1000]\n",
        "param_train_Y = Y_train[:1000]\n",
        "param_training = list(zip(param_train_X, param_train_Y))\n",
        "#print(param_training[0])\n",
        "# shuffle list\n",
        "random.seed(0)\n",
        "random.shuffle(param_training)\n",
        "param_train_X = list()\n",
        "param_train_Y = list()\n",
        "for data in param_training:\n",
        "  param_train_X.append(data[0])\n",
        "  param_train_Y.append(data[1])\n",
        "#print(param_train_X[0])\n",
        "#print(param_train_Y[0])"
      ],
      "execution_count": null,
      "outputs": []
    },
    {
      "cell_type": "code",
      "metadata": {
        "id": "UEFIoymf0DK8",
        "colab": {
          "base_uri": "https://localhost:8080/"
        },
        "outputId": "1df95242-8c2e-4455-fda6-a09dd04451cd"
      },
      "source": [
        "\n",
        "param_search = GridSearchCV(text_pipeline, parameters, cv=5, n_jobs=-1)\n",
        "param_search = param_search.fit(param_train_X, param_train_Y)\n",
        "#param_search.predict(X_test)\n",
        "print(param_search.best_score_)\n",
        "print(param_search.best_params_)"
      ],
      "execution_count": null,
      "outputs": [
        {
          "output_type": "stream",
          "name": "stdout",
          "text": [
            "0.617\n",
            "{'tfidf__use_idf': False, 'vect__max_features': 10000, 'vect__min_df': 1, 'vect__ngram_range': (1, 2)}\n"
          ]
        }
      ]
    },
    {
      "cell_type": "markdown",
      "metadata": {
        "id": "BMz5yavuZFn1"
      },
      "source": [
        "```{'tfidf__use_idf': False, 'vect__max_features': 10000, 'vect__min_df': 1, 'vect__ngram_range': (1, 2)}``` on full dataset gave acc: 0.699\n",
        "\n",
        "```{'tfidf__use_idf': False, 'vect__max_features': None, 'vect__min_df': 1, 'vect__ngram_range': (1, 2)}``` on full dataset gave acc: 0.699\n",
        "\n",
        "```{'tfidf__use_idf': True, 'vect__max_features': None, 'vect__min_df': 1, 'vect__ngram_range': (1, 2)}``` on full dataset gave acc: 0.697666"
      ]
    },
    {
      "cell_type": "code",
      "metadata": {
        "id": "qy_kdY0KXwMo",
        "colab": {
          "base_uri": "https://localhost:8080/"
        },
        "outputId": "975aa69e-dce6-49f4-d37c-b19b40e177bf"
      },
      "source": [
        "best_param_pipeline = Pipeline([\n",
        "    (\"vect\", CountVectorizer(max_features=None,min_df=1,ngram_range=(1,2))),\n",
        "    (\"tfidf\", TfidfTransformer(use_idf=True)),\n",
        "    (\"lr-clf\", LogisticRegression(max_iter=500, solver='saga')),\n",
        "])\n",
        "fitted_param_pipeline = best_param_pipeline.fit(X_train, Y_train)\n",
        "Y_pred = best_param_pipeline.predict(X_test)\n",
        "Y_param_score = fitted_param_pipeline.decision_function(X_test)\n",
        "acc = np.mean(Y_pred == Y_test)\n",
        "print(acc)"
      ],
      "execution_count": 13,
      "outputs": [
        {
          "output_type": "stream",
          "name": "stdout",
          "text": [
            "0.6976666666666667\n"
          ]
        }
      ]
    },
    {
      "cell_type": "code",
      "metadata": {
        "id": "j7yRhRxc1Xk_"
      },
      "source": [
        "param_search = RandomizedSearchCV(text_pipeline, parameters, cv=5, n_jobs=-1)\n",
        "param_search = param_search.fit(X_train, Y_train)\n",
        "#param_search.predict(X_test)\n",
        "print(param_search.best_score_)\n",
        "print(param_search.best_params_)"
      ],
      "execution_count": null,
      "outputs": []
    },
    {
      "cell_type": "markdown",
      "metadata": {
        "id": "RdhG5B4wGacR"
      },
      "source": [
        "Searching all parameters at once (Grid or Random search) is really slow, so first try tuning just one parameter at a time."
      ]
    },
    {
      "cell_type": "markdown",
      "metadata": {
        "id": "JIw1glCY11Ft"
      },
      "source": [
        "Max_Df parameter tuning\n"
      ]
    },
    {
      "cell_type": "code",
      "metadata": {
        "id": "e1Ipkia113l_",
        "colab": {
          "base_uri": "https://localhost:8080/"
        },
        "outputId": "e0307b9e-7f6b-4f82-df12-572dcb170113"
      },
      "source": [
        "parameters = {'vect__max_df': [1.0, 0.6, 0.7, 0.8]}\n",
        "param_search = GridSearchCV(text_pipeline, parameters, cv=5, n_jobs=-1)\n",
        "param_search = param_search.fit(X_train, Y_train)\n",
        "param_search.predict(X_test)\n",
        "print(param_search.best_score_)\n",
        "print(param_search.best_params_)"
      ],
      "execution_count": null,
      "outputs": [
        {
          "output_type": "stream",
          "name": "stdout",
          "text": [
            "0.71415\n",
            "{'vect__max_df': 1.0}\n"
          ]
        }
      ]
    },
    {
      "cell_type": "code",
      "metadata": {
        "id": "aiYqcqd0ECeQ",
        "colab": {
          "base_uri": "https://localhost:8080/"
        },
        "outputId": "4b2aa6a2-d4e4-4efa-cbd5-d4b37cf550ef"
      },
      "source": [
        "test_mindf_pipeline = Pipeline([\n",
        "    (\"vect\", CountVectorizer(max_df=0.7)),\n",
        "    (\"tfidf\", TfidfTransformer()),\n",
        "    (\"lr-clf\", LogisticRegression(max_iter=5000)),\n",
        "])\n",
        "test_mindf_pipeline.fit(X_train, Y_train)\n",
        "Y_pred = test_mindf_pipeline.predict(X_test)\n",
        "acc = np.mean(Y_pred == Y_test)\n",
        "print(acc)"
      ],
      "execution_count": null,
      "outputs": [
        {
          "output_type": "stream",
          "name": "stdout",
          "text": [
            "0.709\n"
          ]
        }
      ]
    },
    {
      "cell_type": "markdown",
      "metadata": {
        "id": "Svb4Vu1h4Az3"
      },
      "source": [
        "min_df parameter tuning"
      ]
    },
    {
      "cell_type": "code",
      "metadata": {
        "id": "w35K8Ism4CaE",
        "colab": {
          "base_uri": "https://localhost:8080/"
        },
        "outputId": "0aeaea3b-4799-4f52-cfd1-61923d59f3fc"
      },
      "source": [
        "test_mindf_pipeline = Pipeline([\n",
        "    (\"vect\", CountVectorizer(min_df=2)),\n",
        "    (\"tfidf\", TfidfTransformer()),\n",
        "    (\"lr-clf\", LogisticRegression(max_iter=5000)),\n",
        "])\n",
        "test_mindf_pipeline.fit(X_train, Y_train)\n",
        "Y_pred = test_mindf_pipeline.predict(X_test)\n",
        "acc = np.mean(Y_pred == Y_test)\n",
        "print(acc)"
      ],
      "execution_count": 15,
      "outputs": [
        {
          "output_type": "stream",
          "name": "stdout",
          "text": [
            "0.713\n"
          ]
        }
      ]
    },
    {
      "cell_type": "markdown",
      "metadata": {
        "id": "Jm4k2w69Su_c"
      },
      "source": [
        "Stop word tuning"
      ]
    },
    {
      "cell_type": "code",
      "metadata": {
        "id": "fP2_1icQSvIT",
        "colab": {
          "base_uri": "https://localhost:8080/"
        },
        "outputId": "aab908f1-48ed-4952-d7ea-ad3f7f2e6201"
      },
      "source": [
        "test_stopword_pipeline = Pipeline([\n",
        "    (\"vect\", CountVectorizer(stop_words='english')),\n",
        "    (\"tfidf\", TfidfTransformer()),\n",
        "    (\"lr-clf\", LogisticRegression()),\n",
        "])\n",
        "test_stopword_pipeline.fit(X_train, Y_train)\n",
        "print(\"num features: \", len(test_stopword_pipeline['vect'].get_feature_names()))\n",
        "Y_pred = test_stopword_pipeline.predict(X_test)\n",
        "acc = np.mean(Y_pred == Y_test)\n",
        "print(acc)"
      ],
      "execution_count": null,
      "outputs": [
        {
          "output_type": "stream",
          "name": "stdout",
          "text": [
            "num features:  145094\n",
            "0.6856666666666666\n"
          ]
        }
      ]
    },
    {
      "cell_type": "markdown",
      "metadata": {
        "id": "zmZzO0qHTgaO"
      },
      "source": [
        "IDF vs No-IDF tuning"
      ]
    },
    {
      "cell_type": "code",
      "metadata": {
        "id": "MwCjFdsWTgid",
        "colab": {
          "base_uri": "https://localhost:8080/"
        },
        "outputId": "77c09ed7-7431-4b03-aa36-5f5554ea856a"
      },
      "source": [
        "test_noidf_pipeline = Pipeline([\n",
        "    (\"vect\", CountVectorizer()),\n",
        "    (\"tfidf\", TfidfTransformer(use_idf=False)),\n",
        "    (\"lr-clf\", LogisticRegression()),\n",
        "])\n",
        "test_noidf_pipeline.fit(X_train, Y_train)\n",
        "Y_pred = test_noidf_pipeline.predict(X_test)\n",
        "acc = np.mean(Y_pred == Y_test)\n",
        "print(acc)"
      ],
      "execution_count": null,
      "outputs": [
        {
          "output_type": "stream",
          "name": "stderr",
          "text": [
            "/usr/local/lib/python3.7/dist-packages/sklearn/linear_model/_logistic.py:940: ConvergenceWarning: lbfgs failed to converge (status=1):\n",
            "STOP: TOTAL NO. of ITERATIONS REACHED LIMIT.\n",
            "\n",
            "Increase the number of iterations (max_iter) or scale the data as shown in:\n",
            "    https://scikit-learn.org/stable/modules/preprocessing.html\n",
            "Please also refer to the documentation for alternative solver options:\n",
            "    https://scikit-learn.org/stable/modules/linear_model.html#logistic-regression\n",
            "  extra_warning_msg=_LOGISTIC_SOLVER_CONVERGENCE_MSG)\n"
          ]
        },
        {
          "output_type": "stream",
          "name": "stdout",
          "text": [
            "0.6833333333333333\n"
          ]
        }
      ]
    },
    {
      "cell_type": "markdown",
      "metadata": {
        "id": "xJE0Y2zm5s8v"
      },
      "source": [
        "n-grams parameter tuning  \n",
        "\n",
        "Big help!!!  \n",
        "ngram_range=(1,2) results in acc = 0.76633....  (with max_iter = 5000)   \n",
        "ngram_range=(1,2) results in acc = 0.76466....  (with max_iter = 500) \n",
        "\n",
        "ngram_range=(2,2) results in acc = "
      ]
    },
    {
      "cell_type": "code",
      "metadata": {
        "id": "qAEz9BbX5tFt",
        "colab": {
          "base_uri": "https://localhost:8080/"
        },
        "outputId": "015409fe-6343-454e-d3d2-61a4a2e84632"
      },
      "source": [
        "test_ngrams_pipeline = Pipeline([\n",
        "    (\"vect\", CountVectorizer(max_features=10000,ngram_range=(1, 2))),\n",
        "    (\"tfidf\", TfidfTransformer()),\n",
        "    (\"lr-clf\", LogisticRegression(max_iter=5000, solver='saga')),\n",
        "])\n",
        "test_ngrams_pipeline.fit(X_train, Y_train)\n",
        "Y_pred = test_ngrams_pipeline.predict(X_test)\n",
        "acc = np.mean(Y_pred == Y_test)\n",
        "print(acc)"
      ],
      "execution_count": 22,
      "outputs": [
        {
          "output_type": "stream",
          "name": "stdout",
          "text": [
            "0.7256666666666667\n"
          ]
        }
      ]
    },
    {
      "cell_type": "markdown",
      "metadata": {
        "id": "JUymoObg6IcT"
      },
      "source": [
        "Lemmatizer tuning  \n",
        "Gained 1% accuray using lemmatizer!!"
      ]
    },
    {
      "cell_type": "code",
      "metadata": {
        "id": "rzaQIa5Q6Kty",
        "colab": {
          "base_uri": "https://localhost:8080/"
        },
        "outputId": "26c0a6cb-8bcc-4e46-d656-b1944c0d3e26"
      },
      "source": [
        "test_mindf_pipeline = Pipeline([\n",
        "    (\"vect\", CountVectorizer(tokenizer = LemmaTokenizer(), min_df=2)),\n",
        "    (\"tfidf\", TfidfTransformer()),\n",
        "    (\"lr-clf\", LogisticRegression(max_iter=5000, solver='saga')),\n",
        "])\n",
        "fitted_lemma_pipeline = test_mindf_pipeline.fit(X_train, Y_train)\n",
        "Y_pred = test_mindf_pipeline.predict(X_test)\n",
        "acc = np.mean(Y_pred == Y_test)\n",
        "print(acc)"
      ],
      "execution_count": 23,
      "outputs": [
        {
          "output_type": "stream",
          "name": "stdout",
          "text": [
            "0.72\n"
          ]
        }
      ]
    },
    {
      "cell_type": "code",
      "metadata": {
        "id": "_i7Kyg8T8B9R"
      },
      "source": [
        "Y_score_lemma = fitted_lemma_pipeline.decision_function(X_test)"
      ],
      "execution_count": null,
      "outputs": []
    },
    {
      "cell_type": "markdown",
      "metadata": {
        "id": "v1e8r9ZmES2Y"
      },
      "source": [
        "Classifier Tuning\n",
        "\n",
        "SGD classifier gives way lower accuracy: 0.59 (SGD) vs 0.71 (Lin Reg)"
      ]
    },
    {
      "cell_type": "code",
      "metadata": {
        "id": "oGd3TyayES_r",
        "colab": {
          "base_uri": "https://localhost:8080/"
        },
        "outputId": "8229883e-06ce-4336-ba8a-674edab54575"
      },
      "source": [
        "test_svm_pipeline = Pipeline([\n",
        "    (\"vect\", CountVectorizer(tokenizer = LemmaTokenizer(), min_df=2)),\n",
        "    (\"tfidf\", TfidfTransformer()),\n",
        "    (\"svm-clf\", SGDClassifier(loss='hinge', penalty='l2',\n",
        "                              alpha=1e-3, random_state=42,\n",
        "                              max_iter=500, tol=None)),\n",
        "])\n",
        "fitted_svm_pipeline = test_svm_pipeline.fit(X_train, Y_train)\n",
        "Y_score_svm = fitted_svm_pipeline.decision_function(X_test)\n",
        "Y_pred = test_svm_pipeline.predict(X_test)\n",
        "acc = np.mean(Y_pred == Y_test)\n",
        "print(acc)"
      ],
      "execution_count": null,
      "outputs": [
        {
          "output_type": "stream",
          "name": "stdout",
          "text": [
            "0.59\n"
          ]
        }
      ]
    },
    {
      "cell_type": "code",
      "metadata": {
        "id": "m3bQA-WWJbo2",
        "colab": {
          "base_uri": "https://localhost:8080/"
        },
        "outputId": "667209c2-a990-45d7-bb32-3e8aae927c1f"
      },
      "source": [
        "test_tree_pipeline = Pipeline([\n",
        "    (\"vect\", CountVectorizer(tokenizer = LemmaTokenizer(), min_df=2)),\n",
        "    (\"tfidf\", TfidfTransformer()),\n",
        "    (\"tree-clf\", RandomForestClassifier(max_depth=2, random_state=0)),\n",
        "])\n",
        "fitted_tree_pipeline = test_tree_pipeline.fit(X_train, Y_train)\n",
        "#Y_score_tree = fitted_tree_pipeline.decision_function(X_test)\n",
        "Y_pred = test_tree_pipeline.predict(X_test)\n",
        "acc = np.mean(Y_pred == Y_test)\n",
        "print(acc)"
      ],
      "execution_count": null,
      "outputs": [
        {
          "output_type": "stream",
          "name": "stdout",
          "text": [
            "0.59\n"
          ]
        }
      ]
    },
    {
      "cell_type": "markdown",
      "metadata": {
        "id": "Px2g5iI0_EVF"
      },
      "source": [
        "### Model Evalutation (testing)\n",
        "Now test performance of model using testing data"
      ]
    },
    {
      "cell_type": "markdown",
      "metadata": {
        "id": "jmRaZarKB3W2"
      },
      "source": [
        "#### Test accuracy"
      ]
    },
    {
      "cell_type": "code",
      "metadata": {
        "colab": {
          "base_uri": "https://localhost:8080/"
        },
        "id": "keQx08nQBhus",
        "outputId": "f81e26d6-c07a-4cfd-9e0b-3bf1780a8972"
      },
      "source": [
        "# Test model acc with test data\n",
        "Y_pred = text_pipeline.predict(X_test)\n",
        "acc = np.mean(Y_pred == Y_test)\n",
        "print(acc)"
      ],
      "execution_count": 20,
      "outputs": [
        {
          "output_type": "stream",
          "name": "stdout",
          "text": [
            "0.71\n"
          ]
        }
      ]
    },
    {
      "cell_type": "code",
      "metadata": {
        "colab": {
          "base_uri": "https://localhost:8080/"
        },
        "id": "TuWb3ZR5Chk4",
        "outputId": "fab87899-a184-42a8-8ecb-1042c4642fdc"
      },
      "source": [
        "# Get score\n",
        "#print(X_train.ravel().shape)\n",
        "#print(Y_train.shape)\n",
        "#print(Y_test.shape)\n",
        "fitted_pipeline = text_pipeline.fit(X_train.ravel(), Y_train)\n",
        "#print(len(Y_train.tolist()))\n",
        "Y_score = fitted_pipeline.decision_function(X_test)\n",
        "Y_score.shape"
      ],
      "execution_count": null,
      "outputs": [
        {
          "output_type": "execute_result",
          "data": {
            "text/plain": [
              "(3000,)"
            ]
          },
          "metadata": {},
          "execution_count": 80
        }
      ]
    },
    {
      "cell_type": "code",
      "metadata": {
        "colab": {
          "base_uri": "https://localhost:8080/"
        },
        "id": "jAlFEXInOxdn",
        "outputId": "6c5a5f0e-53ee-4191-bbb3-c173242ca35c"
      },
      "source": [
        "X_test.shape"
      ],
      "execution_count": null,
      "outputs": [
        {
          "output_type": "execute_result",
          "data": {
            "text/plain": [
              "(3000,)"
            ]
          },
          "metadata": {},
          "execution_count": 81
        }
      ]
    },
    {
      "cell_type": "markdown",
      "metadata": {
        "id": "xK0eFdQRB5J-"
      },
      "source": [
        "#### Model Metrics\n",
        "\n",
        "**double check this** might be backwards  \n",
        "Confusion Matrix: Positive = fake news, Negative = not fake news  \n",
        "\n",
        "          |          | Predicted\t    |\n",
        "          |          | Positive       |\tNegative  \n",
        "----------|----------|----------------|------------------\n",
        "Observed  |\tPositive |\tTP (# of TPs) |\tFN (# of FNs)  \n",
        "          | Negative |\tFP (# of FPs) |\tTN (# of TNs)  \n"
      ]
    },
    {
      "cell_type": "code",
      "metadata": {
        "colab": {
          "base_uri": "https://localhost:8080/"
        },
        "id": "8zWMHpMcB0gG",
        "outputId": "59dd7ab7-0788-43dc-c098-04fbef30a5fb"
      },
      "source": [
        "# Confusion matrix for binary classification: \n",
        "conf_matrix = metrics.confusion_matrix(Y_test, Y_pred)\n",
        "conf_matrix"
      ],
      "execution_count": null,
      "outputs": [
        {
          "output_type": "execute_result",
          "data": {
            "text/plain": [
              "array([[ 554,  676],\n",
              "       [ 194, 1576]])"
            ]
          },
          "metadata": {},
          "execution_count": 85
        }
      ]
    },
    {
      "cell_type": "code",
      "metadata": {
        "id": "Qi_-WWry_zdt"
      },
      "source": [
        "TP = conf_matrix[0,0]\n",
        "FN = conf_matrix[0,1]\n",
        "FP = conf_matrix[1,0]\n",
        "TN = conf_matrix[1,1]\n",
        "\n",
        "tpr = TP / (TP + FN)\n",
        "fpr = FP / (FP + TN)\n",
        "\n",
        "def tpr(conf_matrix):\n",
        "  TP = conf_matrix[0,0]\n",
        "  FN = conf_matrix[0,1]\n",
        "  tpr = TP / (TP + FN)\n",
        "  return tpr\n",
        "\n",
        "def fpr(conf_matrix):\n",
        "  FP = conf_matrix[1,0]\n",
        "  TN = conf_matrix[1,1]\n",
        "  fpr = FP / (FP + TN)\n",
        "  return fpr"
      ],
      "execution_count": null,
      "outputs": []
    },
    {
      "cell_type": "markdown",
      "metadata": {
        "id": "_MTyeikw0rBG"
      },
      "source": [
        "##### ROC curve for default pipeline"
      ]
    },
    {
      "cell_type": "code",
      "metadata": {
        "id": "9f3odcQcB1Q6"
      },
      "source": [
        "# Compute ROC curve and ROC area\n",
        "fprs = list()\n",
        "tprs = list()\n",
        "fprs, tprs, thresholds = roc_curve(Y_test, Y_score)\n",
        "roc_auc = auc(fprs, tprs)"
      ],
      "execution_count": null,
      "outputs": []
    },
    {
      "cell_type": "code",
      "metadata": {
        "colab": {
          "base_uri": "https://localhost:8080/",
          "height": 295
        },
        "id": "84xGsbXDD_QD",
        "outputId": "37100c5d-7fbf-4024-f0d4-226e274c5b1a"
      },
      "source": [
        "#Plot ROC Curve\n",
        "plt.figure()\n",
        "lw = 2\n",
        "plt.plot(fprs, tprs, color='darkorange',\n",
        "         lw=lw, label='ROC curve (area = %0.2f)' % roc_auc)\n",
        "plt.plot([0, 1], [0, 1], color='navy', lw=lw, linestyle='--')\n",
        "plt.xlim([0.0, 1.0])\n",
        "plt.ylim([0.0, 1.05])\n",
        "plt.xlabel('False Positive Rate')\n",
        "plt.ylabel('True Positive Rate')\n",
        "plt.title('Receiver operating characteristic example')\n",
        "plt.legend(loc=\"lower right\")\n",
        "plt.show()"
      ],
      "execution_count": null,
      "outputs": [
        {
          "output_type": "display_data",
          "data": {
            "image/png": "[encoded data removed]",
            "text/plain": [
              "<Figure size 432x288 with 1 Axes>"
            ]
          },
          "metadata": {
            "needs_background": "light"
          }
        }
      ]
    },
    {
      "cell_type": "markdown",
      "metadata": {
        "id": "MxJOUAlj0wao"
      },
      "source": [
        "##### ROC curve for best fit from param search\n"
      ]
    },
    {
      "cell_type": "code",
      "metadata": {
        "id": "Yg9043wOfZ0y",
        "colab": {
          "base_uri": "https://localhost:8080/"
        },
        "outputId": "d9e9a220-e11f-4012-9685-8a48958e0e6d"
      },
      "source": [
        "best_params_pipeline = Pipeline([\n",
        "    (\"vect\", CountVectorizer(ngram_range=(1, 2))),\n",
        "    (\"tfidf\", TfidfTransformer(use_idf=True)),\n",
        "    (\"lr-clf\", LogisticRegression(max_iter=1000)),\n",
        "])\n",
        "fitted_best_params_pipeline = best_params_pipeline.fit(X_train, Y_train)\n",
        "Y_score_best_params = fitted_best_params_pipeline.decision_function(X_test)\n",
        "Y_pred = best_params_pipeline.predict(X_test)\n",
        "acc = np.mean(Y_pred == Y_test)\n",
        "print(acc)"
      ],
      "execution_count": null,
      "outputs": [
        {
          "output_type": "stream",
          "name": "stdout",
          "text": [
            "0.6976666666666667\n"
          ]
        }
      ]
    },
    {
      "cell_type": "code",
      "metadata": {
        "id": "MWRFJogaBHE-"
      },
      "source": [
        "# Compute ROC curve and ROC area\n",
        "fprs = list()\n",
        "tprs = list()\n",
        "fprs, tprs, thresholds = roc_curve(Y_test, Y_score_best_params)\n",
        "roc_auc = auc(fprs, tprs)"
      ],
      "execution_count": null,
      "outputs": []
    },
    {
      "cell_type": "code",
      "metadata": {
        "id": "ENMYGoXaBCwW",
        "colab": {
          "base_uri": "https://localhost:8080/",
          "height": 295
        },
        "outputId": "af18c20d-582a-4aae-8f37-b0094d6abc5b"
      },
      "source": [
        "#Plot ROC Curve\n",
        "plt.figure()\n",
        "lw = 2\n",
        "plt.plot(fprs, tprs, color='darkorange',\n",
        "         lw=lw, label='ROC curve (area = %0.2f)' % roc_auc)\n",
        "plt.plot([0, 1], [0, 1], color='navy', lw=lw, linestyle='--')\n",
        "plt.xlim([0.0, 1.0])\n",
        "plt.ylim([0.0, 1.05])\n",
        "plt.xlabel('False Positive Rate')\n",
        "plt.ylabel('True Positive Rate')\n",
        "plt.title('Receiver operating characteristic for best parameters')\n",
        "plt.legend(loc=\"lower right\")\n",
        "plt.show()"
      ],
      "execution_count": null,
      "outputs": [
        {
          "output_type": "display_data",
          "data": {
            "image/png": "[encoded data removed]",
            "text/plain": [
              "<Figure size 432x288 with 1 Axes>"
            ]
          },
          "metadata": {
            "needs_background": "light"
          }
        }
      ]
    }
  ]
}